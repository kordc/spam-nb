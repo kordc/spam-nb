{
 "cells": [
  {
   "cell_type": "markdown",
   "metadata": {},
   "source": [
    "# Spam or Ham detection using Naive-Bayes classifier\n",
    "\n",
    "Task description: <br>\n",
    "3. Klasyfikacja za pomocą naiwnej metody bayesowskiej (rozkłady dyskretne). Implementacja powinna założyć, że cechy są dyskretne/jakościowe. Na wejściu oczekiwany jest zbiór, który zawiera p-cech dyskretnych/jakościowych, wektor etykiet oraz wektor prawdopodobieństw a priori dla klas. Na wyjściu otrzymujemy prognozowane etykiety oraz prawdopodobieństwa a posteriori. Dodatkową wartością odpowiednia wizualizacja.\n",
    "\n",
    "Karol Cyganik 148250"
   ]
  },
  {
   "cell_type": "markdown",
   "metadata": {},
   "source": [
    "## Data preparation"
   ]
  },
  {
   "cell_type": "markdown",
   "metadata": {},
   "source": [
    "### Data reading"
   ]
  },
  {
   "cell_type": "code",
   "execution_count": 88,
   "metadata": {},
   "outputs": [
    {
     "data": {
      "text/html": [
       "<div>\n",
       "<style scoped>\n",
       "    .dataframe tbody tr th:only-of-type {\n",
       "        vertical-align: middle;\n",
       "    }\n",
       "\n",
       "    .dataframe tbody tr th {\n",
       "        vertical-align: top;\n",
       "    }\n",
       "\n",
       "    .dataframe thead th {\n",
       "        text-align: right;\n",
       "    }\n",
       "</style>\n",
       "<table border=\"1\" class=\"dataframe\">\n",
       "  <thead>\n",
       "    <tr style=\"text-align: right;\">\n",
       "      <th></th>\n",
       "      <th>v1</th>\n",
       "      <th>v2</th>\n",
       "      <th>Unnamed: 2</th>\n",
       "      <th>Unnamed: 3</th>\n",
       "      <th>Unnamed: 4</th>\n",
       "    </tr>\n",
       "  </thead>\n",
       "  <tbody>\n",
       "    <tr>\n",
       "      <th>0</th>\n",
       "      <td>ham</td>\n",
       "      <td>Go until jurong point, crazy.. Available only ...</td>\n",
       "      <td>NaN</td>\n",
       "      <td>NaN</td>\n",
       "      <td>NaN</td>\n",
       "    </tr>\n",
       "    <tr>\n",
       "      <th>1</th>\n",
       "      <td>ham</td>\n",
       "      <td>Ok lar... Joking wif u oni...</td>\n",
       "      <td>NaN</td>\n",
       "      <td>NaN</td>\n",
       "      <td>NaN</td>\n",
       "    </tr>\n",
       "    <tr>\n",
       "      <th>2</th>\n",
       "      <td>spam</td>\n",
       "      <td>Free entry in 2 a wkly comp to win FA Cup fina...</td>\n",
       "      <td>NaN</td>\n",
       "      <td>NaN</td>\n",
       "      <td>NaN</td>\n",
       "    </tr>\n",
       "    <tr>\n",
       "      <th>3</th>\n",
       "      <td>ham</td>\n",
       "      <td>U dun say so early hor... U c already then say...</td>\n",
       "      <td>NaN</td>\n",
       "      <td>NaN</td>\n",
       "      <td>NaN</td>\n",
       "    </tr>\n",
       "    <tr>\n",
       "      <th>4</th>\n",
       "      <td>ham</td>\n",
       "      <td>Nah I don't think he goes to usf, he lives aro...</td>\n",
       "      <td>NaN</td>\n",
       "      <td>NaN</td>\n",
       "      <td>NaN</td>\n",
       "    </tr>\n",
       "  </tbody>\n",
       "</table>\n",
       "</div>"
      ],
      "text/plain": [
       "     v1                                                 v2 Unnamed: 2  \\\n",
       "0   ham  Go until jurong point, crazy.. Available only ...        NaN   \n",
       "1   ham                      Ok lar... Joking wif u oni...        NaN   \n",
       "2  spam  Free entry in 2 a wkly comp to win FA Cup fina...        NaN   \n",
       "3   ham  U dun say so early hor... U c already then say...        NaN   \n",
       "4   ham  Nah I don't think he goes to usf, he lives aro...        NaN   \n",
       "\n",
       "  Unnamed: 3 Unnamed: 4  \n",
       "0        NaN        NaN  \n",
       "1        NaN        NaN  \n",
       "2        NaN        NaN  \n",
       "3        NaN        NaN  \n",
       "4        NaN        NaN  "
      ]
     },
     "execution_count": 88,
     "metadata": {},
     "output_type": "execute_result"
    }
   ],
   "source": [
    "import pandas as pd\n",
    "\n",
    "data = pd.read_csv('spam.csv', encoding='latin-1')\n",
    "data.head()"
   ]
  },
  {
   "cell_type": "markdown",
   "metadata": {},
   "source": [
    "### Data stats & preprocessing"
   ]
  },
  {
   "cell_type": "code",
   "execution_count": 89,
   "metadata": {},
   "outputs": [
    {
     "data": {
      "text/html": [
       "<div>\n",
       "<style scoped>\n",
       "    .dataframe tbody tr th:only-of-type {\n",
       "        vertical-align: middle;\n",
       "    }\n",
       "\n",
       "    .dataframe tbody tr th {\n",
       "        vertical-align: top;\n",
       "    }\n",
       "\n",
       "    .dataframe thead th {\n",
       "        text-align: right;\n",
       "    }\n",
       "</style>\n",
       "<table border=\"1\" class=\"dataframe\">\n",
       "  <thead>\n",
       "    <tr style=\"text-align: right;\">\n",
       "      <th></th>\n",
       "      <th>label</th>\n",
       "      <th>text</th>\n",
       "    </tr>\n",
       "  </thead>\n",
       "  <tbody>\n",
       "    <tr>\n",
       "      <th>0</th>\n",
       "      <td>ham</td>\n",
       "      <td>Go until jurong point, crazy.. Available only ...</td>\n",
       "    </tr>\n",
       "    <tr>\n",
       "      <th>1</th>\n",
       "      <td>ham</td>\n",
       "      <td>Ok lar... Joking wif u oni...</td>\n",
       "    </tr>\n",
       "    <tr>\n",
       "      <th>2</th>\n",
       "      <td>spam</td>\n",
       "      <td>Free entry in 2 a wkly comp to win FA Cup fina...</td>\n",
       "    </tr>\n",
       "    <tr>\n",
       "      <th>3</th>\n",
       "      <td>ham</td>\n",
       "      <td>U dun say so early hor... U c already then say...</td>\n",
       "    </tr>\n",
       "    <tr>\n",
       "      <th>4</th>\n",
       "      <td>ham</td>\n",
       "      <td>Nah I don't think he goes to usf, he lives aro...</td>\n",
       "    </tr>\n",
       "  </tbody>\n",
       "</table>\n",
       "</div>"
      ],
      "text/plain": [
       "  label                                               text\n",
       "0   ham  Go until jurong point, crazy.. Available only ...\n",
       "1   ham                      Ok lar... Joking wif u oni...\n",
       "2  spam  Free entry in 2 a wkly comp to win FA Cup fina...\n",
       "3   ham  U dun say so early hor... U c already then say...\n",
       "4   ham  Nah I don't think he goes to usf, he lives aro..."
      ]
     },
     "execution_count": 89,
     "metadata": {},
     "output_type": "execute_result"
    }
   ],
   "source": [
    "data = data.drop([\"Unnamed: 2\", \"Unnamed: 3\", \"Unnamed: 4\"], axis=1)\n",
    "data.columns = ['label', 'text']\n",
    "data.head()"
   ]
  },
  {
   "cell_type": "code",
   "execution_count": 90,
   "metadata": {},
   "outputs": [
    {
     "data": {
      "application/vnd.plotly.v1+json": {
       "config": {
        "plotlyServerURL": "https://plot.ly"
       },
       "data": [
        {
         "alignmentgroup": "True",
         "bingroup": "x",
         "hovertemplate": "label=%{x}<br>count=%{y}<extra></extra>",
         "legendgroup": "",
         "marker": {
          "color": "#636efa",
          "pattern": {
           "shape": ""
          }
         },
         "name": "",
         "offsetgroup": "",
         "orientation": "v",
         "showlegend": false,
         "type": "histogram",
         "x": [
          "ham",
          "ham",
          "spam",
          "ham",
          "ham",
          "spam",
          "ham",
          "ham",
          "spam",
          "spam",
          "ham",
          "spam",
          "spam",
          "ham",
          "ham",
          "spam",
          "ham",
          "ham",
          "ham",
          "spam",
          "ham",
          "ham",
          "ham",
          "ham",
          "ham",
          "ham",
          "ham",
          "ham",
          "ham",
          "ham",
          "ham",
          "ham",
          "ham",
          "ham",
          "spam",
          "ham",
          "ham",
          "ham",
          "ham",
          "ham",
          "ham",
          "ham",
          "spam",
          "ham",
          "ham",
          "ham",
          "ham",
          "ham",
          "ham",
          "ham",
          "ham",
          "ham",
          "ham",
          "ham",
          "spam",
          "ham",
          "spam",
          "ham",
          "ham",
          "ham",
          "ham",
          "ham",
          "ham",
          "ham",
          "ham",
          "spam",
          "ham",
          "spam",
          "spam",
          "ham",
          "ham",
          "ham",
          "ham",
          "ham",
          "ham",
          "ham",
          "ham",
          "ham",
          "ham",
          "ham",
          "ham",
          "ham",
          "ham",
          "ham",
          "ham",
          "ham",
          "ham",
          "ham",
          "ham",
          "ham",
          "ham",
          "ham",
          "ham",
          "spam",
          "ham",
          "spam",
          "ham",
          "ham",
          "ham",
          "ham",
          "ham",
          "ham",
          "ham",
          "ham",
          "ham",
          "ham",
          "ham",
          "ham",
          "ham",
          "ham",
          "ham",
          "ham",
          "ham",
          "spam",
          "ham",
          "ham",
          "spam",
          "ham",
          "ham",
          "spam",
          "spam",
          "ham",
          "spam",
          "ham",
          "ham",
          "ham",
          "ham",
          "ham",
          "ham",
          "ham",
          "ham",
          "ham",
          "ham",
          "spam",
          "spam",
          "ham",
          "ham",
          "ham",
          "spam",
          "ham",
          "ham",
          "ham",
          "ham",
          "ham",
          "ham",
          "ham",
          "spam",
          "ham",
          "ham",
          "ham",
          "ham",
          "ham",
          "ham",
          "ham",
          "ham",
          "ham",
          "ham",
          "ham",
          "spam",
          "spam",
          "ham",
          "ham",
          "ham",
          "spam",
          "spam",
          "ham",
          "spam",
          "ham",
          "ham",
          "ham",
          "ham",
          "ham",
          "ham",
          "ham",
          "ham",
          "ham",
          "ham",
          "ham",
          "ham",
          "ham",
          "ham",
          "ham",
          "ham",
          "ham",
          "ham",
          "ham",
          "ham",
          "spam",
          "ham",
          "ham",
          "spam",
          "ham",
          "ham",
          "ham",
          "ham",
          "ham",
          "ham",
          "ham",
          "ham",
          "ham",
          "ham",
          "ham",
          "ham",
          "ham",
          "ham",
          "ham",
          "ham",
          "ham",
          "ham",
          "ham",
          "ham",
          "ham",
          "ham",
          "ham",
          "ham",
          "ham",
          "ham",
          "ham",
          "ham",
          "ham",
          "ham",
          "ham",
          "ham",
          "ham",
          "spam",
          "ham",
          "spam",
          "ham",
          "ham",
          "ham",
          "ham",
          "ham",
          "ham",
          "ham",
          "spam",
          "ham",
          "ham",
          "ham",
          "ham",
          "spam",
          "ham",
          "ham",
          "ham",
          "ham",
          "ham",
          "ham",
          "ham",
          "ham",
          "ham",
          "spam",
          "ham",
          "ham",
          "ham",
          "ham",
          "ham",
          "ham",
          "ham",
          "ham",
          "spam",
          "ham",
          "ham",
          "ham",
          "ham",
          "spam",
          "ham",
          "ham",
          "ham",
          "spam",
          "ham",
          "spam",
          "ham",
          "ham",
          "spam",
          "ham",
          "ham",
          "ham",
          "ham",
          "ham",
          "ham",
          "ham",
          "ham",
          "ham",
          "ham",
          "ham",
          "ham",
          "ham",
          "ham",
          "ham",
          "ham",
          "ham",
          "ham",
          "ham",
          "ham",
          "ham",
          "ham",
          "spam",
          "ham",
          "ham",
          "ham",
          "ham",
          "ham",
          "ham",
          "ham",
          "ham",
          "spam",
          "ham",
          "ham",
          "ham",
          "spam",
          "ham",
          "ham",
          "spam",
          "ham",
          "ham",
          "ham",
          "ham",
          "ham",
          "ham",
          "spam",
          "ham",
          "ham",
          "ham",
          "ham",
          "ham",
          "ham",
          "ham",
          "ham",
          "ham",
          "ham",
          "ham",
          "ham",
          "ham",
          "spam",
          "ham",
          "spam",
          "ham",
          "ham",
          "ham",
          "ham",
          "ham",
          "ham",
          "ham",
          "ham",
          "ham",
          "ham",
          "ham",
          "ham",
          "ham",
          "spam",
          "ham",
          "ham",
          "ham",
          "ham",
          "ham",
          "ham",
          "ham",
          "spam",
          "spam",
          "ham",
          "ham",
          "ham",
          "ham",
          "ham",
          "ham",
          "ham",
          "ham",
          "spam",
          "spam",
          "ham",
          "ham",
          "ham",
          "ham",
          "ham",
          "ham",
          "spam",
          "ham",
          "ham",
          "ham",
          "ham",
          "ham",
          "ham",
          "ham",
          "ham",
          "ham",
          "spam",
          "ham",
          "ham",
          "ham",
          "spam",
          "ham",
          "ham",
          "ham",
          "ham",
          "ham",
          "ham",
          "ham",
          "ham",
          "ham",
          "ham",
          "ham",
          "spam",
          "ham",
          "ham",
          "ham",
          "ham",
          "ham",
          "ham",
          "ham",
          "ham",
          "ham",
          "ham",
          "ham",
          "ham",
          "ham",
          "spam",
          "ham",
          "ham",
          "spam",
          "ham",
          "spam",
          "ham",
          "spam",
          "ham",
          "spam",
          "ham",
          "ham",
          "ham",
          "ham",
          "ham",
          "ham",
          "ham",
          "ham",
          "spam",
          "ham",
          "ham",
          "ham",
          "ham",
          "ham",
          "ham",
          "ham",
          "ham",
          "ham",
          "ham",
          "ham",
          "ham",
          "ham",
          "ham",
          "ham",
          "ham",
          "ham",
          "ham",
          "ham",
          "ham",
          "ham",
          "spam",
          "ham",
          "ham",
          "ham",
          "ham",
          "ham",
          "ham",
          "ham",
          "spam",
          "ham",
          "ham",
          "ham",
          "ham",
          "ham",
          "ham",
          "ham",
          "spam",
          "ham",
          "ham",
          "spam",
          "ham",
          "ham",
          "ham",
          "ham",
          "ham",
          "ham",
          "ham",
          "ham",
          "ham",
          "ham",
          "ham",
          "ham",
          "spam",
          "ham",
          "ham",
          "ham",
          "ham",
          "spam",
          "ham",
          "ham",
          "ham",
          "ham",
          "ham",
          "ham",
          "ham",
          "ham",
          "ham",
          "ham",
          "ham",
          "ham",
          "spam",
          "ham",
          "ham",
          "ham",
          "ham",
          "ham",
          "ham",
          "ham",
          "ham",
          "ham",
          "spam",
          "ham",
          "spam",
          "spam",
          "ham",
          "ham",
          "ham",
          "ham",
          "ham",
          "ham",
          "spam",
          "ham",
          "spam",
          "ham",
          "spam",
          "ham",
          "spam",
          "ham",
          "ham",
          "ham",
          "ham",
          "ham",
          "ham",
          "ham",
          "ham",
          "ham",
          "spam",
          "ham",
          "ham",
          "ham",
          "ham",
          "ham",
          "ham",
          "ham",
          "ham",
          "ham",
          "ham",
          "ham",
          "ham",
          "ham",
          "ham",
          "ham",
          "ham",
          "ham",
          "ham",
          "ham",
          "ham",
          "ham",
          "ham",
          "spam",
          "ham",
          "ham",
          "ham",
          "ham",
          "ham",
          "ham",
          "ham",
          "ham",
          "ham",
          "ham",
          "ham",
          "spam",
          "ham",
          "ham",
          "spam",
          "ham",
          "ham",
          "ham",
          "spam",
          "ham",
          "ham",
          "ham",
          "ham",
          "ham",
          "ham",
          "ham",
          "spam",
          "spam",
          "spam",
          "ham",
          "ham",
          "ham",
          "ham",
          "spam",
          "ham",
          "ham",
          "ham",
          "ham",
          "ham",
          "ham",
          "ham",
          "ham",
          "spam",
          "ham",
          "ham",
          "ham",
          "spam",
          "ham",
          "ham",
          "ham",
          "ham",
          "ham",
          "ham",
          "ham",
          "ham",
          "ham",
          "ham",
          "ham",
          "ham",
          "ham",
          "ham",
          "ham",
          "ham",
          "ham",
          "spam",
          "spam",
          "ham",
          "ham",
          "ham",
          "ham",
          "spam",
          "ham",
          "ham",
          "ham",
          "ham",
          "ham",
          "ham",
          "ham",
          "ham",
          "ham",
          "ham",
          "ham",
          "ham",
          "spam",
          "ham",
          "spam",
          "ham",
          "ham",
          "ham",
          "ham",
          "ham",
          "ham",
          "ham",
          "ham",
          "ham",
          "spam",
          "ham",
          "ham",
          "ham",
          "ham",
          "ham",
          "ham",
          "ham",
          "ham",
          "ham",
          "ham",
          "ham",
          "spam",
          "spam",
          "ham",
          "ham",
          "ham",
          "ham",
          "ham",
          "ham",
          "ham",
          "ham",
          "ham",
          "ham",
          "spam",
          "ham",
          "ham",
          "ham",
          "ham",
          "ham",
          "spam",
          "ham",
          "ham",
          "ham",
          "ham",
          "ham",
          "ham",
          "ham",
          "ham",
          "ham",
          "ham",
          "ham",
          "ham",
          "ham",
          "ham",
          "ham",
          "ham",
          "ham",
          "ham",
          "spam",
          "spam",
          "ham",
          "ham",
          "spam",
          "ham",
          "ham",
          "ham",
          "spam",
          "ham",
          "spam",
          "ham",
          "ham",
          "ham",
          "ham",
          "ham",
          "ham",
          "ham",
          "ham",
          "ham",
          "ham",
          "ham",
          "spam",
          "ham",
          "ham",
          "ham",
          "ham",
          "ham",
          "ham",
          "spam",
          "ham",
          "ham",
          "ham",
          "ham",
          "ham",
          "ham",
          "ham",
          "ham",
          "ham",
          "spam",
          "ham",
          "ham",
          "spam",
          "spam",
          "ham",
          "ham",
          "ham",
          "ham",
          "ham",
          "ham",
          "ham",
          "ham",
          "spam",
          "ham",
          "spam",
          "ham",
          "ham",
          "spam",
          "ham",
          "ham",
          "ham",
          "ham",
          "ham",
          "ham",
          "ham",
          "ham",
          "ham",
          "ham",
          "ham",
          "ham",
          "ham",
          "ham",
          "ham",
          "ham",
          "ham",
          "spam",
          "ham",
          "ham",
          "ham",
          "spam",
          "spam",
          "ham",
          "ham",
          "ham",
          "ham",
          "ham",
          "ham",
          "ham",
          "spam",
          "ham",
          "ham",
          "ham",
          "spam",
          "ham",
          "spam",
          "spam",
          "ham",
          "ham",
          "ham",
          "ham",
          "ham",
          "ham",
          "ham",
          "ham",
          "spam",
          "ham",
          "spam",
          "ham",
          "ham",
          "ham",
          "ham",
          "ham",
          "ham",
          "ham",
          "spam",
          "spam",
          "ham",
          "ham",
          "ham",
          "ham",
          "ham",
          "ham",
          "spam",
          "ham",
          "spam",
          "ham",
          "ham",
          "ham",
          "spam",
          "ham",
          "spam",
          "spam",
          "ham",
          "ham",
          "ham",
          "spam",
          "ham",
          "ham",
          "ham",
          "ham",
          "ham",
          "spam",
          "ham",
          "ham",
          "ham",
          "ham",
          "ham",
          "spam",
          "ham",
          "ham",
          "ham",
          "ham",
          "ham",
          "ham",
          "ham",
          "ham",
          "ham",
          "spam",
          "ham",
          "spam",
          "spam",
          "spam",
          "ham",
          "ham",
          "ham",
          "ham",
          "ham",
          "spam",
          "ham",
          "spam",
          "spam",
          "spam",
          "spam",
          "ham",
          "ham",
          "ham",
          "ham",
          "ham",
          "ham",
          "ham",
          "ham",
          "ham",
          "ham",
          "ham",
          "ham",
          "ham",
          "ham",
          "ham",
          "ham",
          "ham",
          "ham",
          "spam",
          "ham",
          "ham",
          "ham",
          "ham",
          "ham",
          "ham",
          "spam",
          "ham",
          "ham",
          "spam",
          "ham",
          "ham",
          "ham",
          "ham",
          "ham",
          "ham",
          "ham",
          "ham",
          "ham",
          "ham",
          "ham",
          "ham",
          "ham",
          "ham",
          "ham",
          "ham",
          "ham",
          "ham",
          "ham",
          "spam",
          "ham",
          "ham",
          "ham",
          "ham",
          "spam",
          "ham",
          "ham",
          "ham",
          "spam",
          "ham",
          "ham",
          "ham",
          "spam",
          "ham",
          "ham",
          "ham",
          "spam",
          "ham",
          "ham",
          "ham",
          "ham",
          "ham",
          "ham",
          "ham",
          "spam",
          "ham",
          "ham",
          "ham",
          "ham",
          "ham",
          "ham",
          "spam",
          "ham",
          "ham",
          "ham",
          "ham",
          "ham",
          "ham",
          "ham",
          "ham",
          "ham",
          "ham",
          "ham",
          "ham",
          "ham",
          "ham",
          "ham",
          "ham",
          "ham",
          "ham",
          "ham",
          "ham",
          "spam",
          "ham",
          "ham",
          "ham",
          "ham",
          "ham",
          "ham",
          "ham",
          "ham",
          "ham",
          "ham",
          "ham",
          "ham",
          "ham",
          "ham",
          "ham",
          "ham",
          "ham",
          "ham",
          "spam",
          "ham",
          "ham",
          "ham",
          "ham",
          "spam",
          "ham",
          "ham",
          "ham",
          "ham",
          "ham",
          "ham",
          "ham",
          "ham",
          "ham",
          "spam",
          "ham",
          "ham",
          "ham",
          "ham",
          "spam",
          "ham",
          "ham",
          "ham",
          "ham",
          "ham",
          "ham",
          "ham",
          "ham",
          "ham",
          "ham",
          "ham",
          "ham",
          "ham",
          "ham",
          "ham",
          "ham",
          "ham",
          "ham",
          "ham",
          "ham",
          "ham",
          "ham",
          "spam",
          "ham",
          "ham",
          "spam",
          "ham",
          "spam",
          "ham",
          "ham",
          "ham",
          "ham",
          "ham",
          "ham",
          "ham",
          "ham",
          "ham",
          "spam",
          "ham",
          "ham",
          "ham",
          "spam",
          "ham",
          "ham",
          "ham",
          "ham",
          "spam",
          "ham",
          "ham",
          "spam",
          "spam",
          "ham",
          "ham",
          "ham",
          "ham",
          "ham",
          "ham",
          "ham",
          "ham",
          "ham",
          "ham",
          "ham",
          "ham",
          "ham",
          "ham",
          "ham",
          "spam",
          "ham",
          "spam",
          "ham",
          "ham",
          "ham",
          "ham",
          "ham",
          "spam",
          "ham",
          "ham",
          "ham",
          "ham",
          "ham",
          "ham",
          "ham",
          "spam",
          "ham",
          "ham",
          "ham",
          "ham",
          "ham",
          "ham",
          "ham",
          "ham",
          "ham",
          "ham",
          "ham",
          "ham",
          "spam",
          "ham",
          "spam",
          "ham",
          "spam",
          "ham",
          "ham",
          "ham",
          "spam",
          "ham",
          "ham",
          "spam",
          "ham",
          "ham",
          "ham",
          "ham",
          "ham",
          "ham",
          "ham",
          "spam",
          "ham",
          "ham",
          "ham",
          "ham",
          "spam",
          "ham",
          "ham",
          "ham",
          "spam",
          "ham",
          "ham",
          "ham",
          "ham",
          "ham",
          "ham",
          "ham",
          "spam",
          "ham",
          "ham",
          "ham",
          "ham",
          "ham",
          "ham",
          "ham",
          "ham",
          "spam",
          "ham",
          "ham",
          "ham",
          "ham",
          "ham",
          "ham",
          "ham",
          "ham",
          "spam",
          "ham",
          "ham",
          "ham",
          "ham",
          "ham",
          "ham",
          "ham",
          "ham",
          "ham",
          "ham",
          "ham",
          "ham",
          "ham",
          "ham",
          "ham",
          "ham",
          "ham",
          "ham",
          "ham",
          "ham",
          "ham",
          "spam",
          "ham",
          "spam",
          "ham",
          "ham",
          "ham",
          "ham",
          "ham",
          "ham",
          "ham",
          "ham",
          "spam",
          "ham",
          "spam",
          "ham",
          "ham",
          "ham",
          "ham",
          "ham",
          "ham",
          "ham",
          "ham",
          "ham",
          "spam",
          "ham",
          "ham",
          "ham",
          "spam",
          "ham",
          "ham",
          "ham",
          "spam",
          "ham",
          "spam",
          "ham",
          "spam",
          "ham",
          "ham",
          "ham",
          "ham",
          "ham",
          "ham",
          "ham",
          "ham",
          "ham",
          "ham",
          "ham",
          "ham",
          "ham",
          "ham",
          "ham",
          "ham",
          "ham",
          "ham",
          "ham",
          "ham",
          "ham",
          "ham",
          "spam",
          "ham",
          "ham",
          "ham",
          "ham",
          "ham",
          "ham",
          "ham",
          "ham",
          "ham",
          "ham",
          "spam",
          "ham",
          "ham",
          "ham",
          "ham",
          "ham",
          "spam",
          "ham",
          "ham",
          "ham",
          "ham",
          "spam",
          "ham",
          "ham",
          "ham",
          "ham",
          "ham",
          "ham",
          "ham",
          "ham",
          "ham",
          "ham",
          "ham",
          "ham",
          "ham",
          "ham",
          "ham",
          "ham",
          "ham",
          "ham",
          "ham",
          "ham",
          "ham",
          "ham",
          "ham",
          "ham",
          "ham",
          "ham",
          "ham",
          "ham",
          "ham",
          "ham",
          "ham",
          "ham",
          "spam",
          "spam",
          "ham",
          "ham",
          "ham",
          "ham",
          "ham",
          "ham",
          "ham",
          "ham",
          "ham",
          "spam",
          "ham",
          "ham",
          "ham",
          "ham",
          "ham",
          "ham",
          "ham",
          "ham",
          "ham",
          "spam",
          "ham",
          "ham",
          "ham",
          "ham",
          "ham",
          "ham",
          "ham",
          "ham",
          "ham",
          "ham",
          "ham",
          "ham",
          "ham",
          "ham",
          "ham",
          "ham",
          "ham",
          "ham",
          "ham",
          "ham",
          "ham",
          "spam",
          "ham",
          "ham",
          "ham",
          "ham",
          "ham",
          "ham",
          "ham",
          "ham",
          "ham",
          "ham",
          "ham",
          "ham",
          "ham",
          "ham",
          "ham",
          "spam",
          "ham",
          "ham",
          "ham",
          "ham",
          "ham",
          "ham",
          "ham",
          "spam",
          "spam",
          "ham",
          "ham",
          "spam",
          "ham",
          "spam",
          "ham",
          "ham",
          "ham",
          "ham",
          "ham",
          "ham",
          "ham",
          "ham",
          "ham",
          "ham",
          "ham",
          "ham",
          "ham",
          "ham",
          "ham",
          "ham",
          "ham",
          "ham",
          "ham",
          "ham",
          "ham",
          "ham",
          "ham",
          "ham",
          "ham",
          "ham",
          "spam",
          "ham",
          "ham",
          "ham",
          "ham",
          "ham",
          "ham",
          "spam",
          "ham",
          "ham",
          "ham",
          "ham",
          "ham",
          "ham",
          "ham",
          "ham",
          "spam",
          "ham",
          "ham",
          "ham",
          "ham",
          "ham",
          "ham",
          "spam",
          "ham",
          "ham",
          "ham",
          "ham",
          "ham",
          "ham",
          "ham",
          "ham",
          "ham",
          "ham",
          "ham",
          "ham",
          "ham",
          "spam",
          "ham",
          "ham",
          "ham",
          "ham",
          "spam",
          "ham",
          "ham",
          "ham",
          "ham",
          "ham",
          "ham",
          "spam",
          "ham",
          "spam",
          "ham",
          "spam",
          "ham",
          "ham",
          "spam",
          "ham",
          "ham",
          "spam",
          "ham",
          "ham",
          "spam",
          "ham",
          "ham",
          "ham",
          "ham",
          "ham",
          "ham",
          "ham",
          "ham",
          "ham",
          "ham",
          "ham",
          "ham",
          "ham",
          "ham",
          "ham",
          "ham",
          "ham",
          "ham",
          "ham",
          "ham",
          "ham",
          "ham",
          "spam",
          "ham",
          "ham",
          "ham",
          "ham",
          "ham",
          "ham",
          "ham",
          "spam",
          "ham",
          "spam",
          "ham",
          "ham",
          "ham",
          "ham",
          "spam",
          "ham",
          "ham",
          "ham",
          "ham",
          "ham",
          "ham",
          "ham",
          "ham",
          "ham",
          "ham",
          "spam",
          "ham",
          "ham",
          "spam",
          "ham",
          "ham",
          "ham",
          "ham",
          "ham",
          "ham",
          "ham",
          "ham",
          "ham",
          "ham",
          "ham",
          "ham",
          "ham",
          "ham",
          "spam",
          "ham",
          "ham",
          "ham",
          "ham",
          "ham",
          "ham",
          "ham",
          "spam",
          "ham",
          "ham",
          "ham",
          "ham",
          "ham",
          "ham",
          "ham",
          "ham",
          "ham",
          "ham",
          "ham",
          "ham",
          "ham",
          "ham",
          "ham",
          "ham",
          "ham",
          "ham",
          "ham",
          "ham",
          "ham",
          "ham",
          "ham",
          "ham",
          "ham",
          "ham",
          "ham",
          "ham",
          "spam",
          "spam",
          "ham",
          "ham",
          "ham",
          "ham",
          "ham",
          "ham",
          "ham",
          "ham",
          "ham",
          "ham",
          "ham",
          "ham",
          "ham",
          "ham",
          "ham",
          "ham",
          "ham",
          "ham",
          "ham",
          "spam",
          "ham",
          "ham",
          "spam",
          "spam",
          "ham",
          "ham",
          "ham",
          "ham",
          "ham",
          "ham",
          "ham",
          "ham",
          "ham",
          "ham",
          "ham",
          "ham",
          "ham",
          "ham",
          "spam",
          "ham",
          "ham",
          "ham",
          "ham",
          "ham",
          "ham",
          "ham",
          "ham",
          "ham",
          "spam",
          "ham",
          "spam",
          "ham",
          "ham",
          "spam",
          "ham",
          "ham",
          "ham",
          "ham",
          "ham",
          "ham",
          "spam",
          "ham",
          "ham",
          "spam",
          "ham",
          "spam",
          "ham",
          "ham",
          "ham",
          "ham",
          "ham",
          "ham",
          "ham",
          "ham",
          "ham",
          "ham",
          "ham",
          "ham",
          "spam",
          "ham",
          "ham",
          "ham",
          "ham",
          "ham",
          "spam",
          "ham",
          "ham",
          "ham",
          "spam",
          "ham",
          "ham",
          "ham",
          "ham",
          "ham",
          "ham",
          "ham",
          "ham",
          "ham",
          "spam",
          "spam",
          "ham",
          "ham",
          "ham",
          "ham",
          "ham",
          "ham",
          "ham",
          "ham",
          "ham",
          "ham",
          "ham",
          "ham",
          "spam",
          "spam",
          "ham",
          "ham",
          "spam",
          "ham",
          "ham",
          "ham",
          "ham",
          "ham",
          "ham",
          "ham",
          "spam",
          "ham",
          "ham",
          "ham",
          "ham",
          "ham",
          "ham",
          "ham",
          "ham",
          "ham",
          "ham",
          "ham",
          "ham",
          "ham",
          "ham",
          "spam",
          "ham",
          "ham",
          "ham",
          "spam",
          "ham",
          "ham",
          "ham",
          "ham",
          "ham",
          "ham",
          "ham",
          "ham",
          "ham",
          "ham",
          "ham",
          "ham",
          "ham",
          "ham",
          "ham",
          "spam",
          "ham",
          "ham",
          "ham",
          "ham",
          "ham",
          "ham",
          "spam",
          "ham",
          "ham",
          "ham",
          "spam",
          "ham",
          "ham",
          "ham",
          "ham",
          "ham",
          "ham",
          "ham",
          "ham",
          "ham",
          "ham",
          "ham",
          "ham",
          "ham",
          "ham",
          "ham",
          "ham",
          "ham",
          "ham",
          "ham",
          "spam",
          "ham",
          "spam",
          "ham",
          "ham",
          "ham",
          "ham",
          "ham",
          "ham",
          "ham",
          "ham",
          "ham",
          "spam",
          "spam",
          "ham",
          "spam",
          "spam",
          "ham",
          "ham",
          "ham",
          "ham",
          "ham",
          "ham",
          "ham",
          "ham",
          "ham",
          "ham",
          "ham",
          "spam",
          "ham",
          "ham",
          "ham",
          "ham",
          "ham",
          "ham",
          "ham",
          "ham",
          "ham",
          "ham",
          "ham",
          "ham",
          "ham",
          "spam",
          "ham",
          "ham",
          "ham",
          "ham",
          "ham",
          "ham",
          "ham",
          "ham",
          "ham",
          "ham",
          "ham",
          "ham",
          "ham",
          "ham",
          "ham",
          "ham",
          "ham",
          "ham",
          "ham",
          "ham",
          "ham",
          "ham",
          "spam",
          "ham",
          "ham",
          "ham",
          "ham",
          "ham",
          "ham",
          "ham",
          "ham",
          "spam",
          "ham",
          "ham",
          "ham",
          "ham",
          "ham",
          "ham",
          "ham",
          "ham",
          "spam",
          "ham",
          "ham",
          "ham",
          "ham",
          "spam",
          "ham",
          "ham",
          "ham",
          "ham",
          "ham",
          "ham",
          "ham",
          "ham",
          "ham",
          "ham",
          "ham",
          "ham",
          "ham",
          "ham",
          "ham",
          "ham",
          "ham",
          "ham",
          "ham",
          "ham",
          "spam",
          "spam",
          "spam",
          "ham",
          "ham",
          "ham",
          "spam",
          "ham",
          "ham",
          "ham",
          "ham",
          "ham",
          "ham",
          "spam",
          "spam",
          "ham",
          "ham",
          "ham",
          "ham",
          "spam",
          "ham",
          "spam",
          "ham",
          "ham",
          "ham",
          "ham",
          "ham",
          "ham",
          "ham",
          "ham",
          "spam",
          "ham",
          "ham",
          "ham",
          "ham",
          "ham",
          "ham",
          "ham",
          "ham",
          "ham",
          "ham",
          "spam",
          "ham",
          "ham",
          "ham",
          "ham",
          "ham",
          "ham",
          "ham",
          "ham",
          "ham",
          "ham",
          "ham",
          "ham",
          "ham",
          "spam",
          "spam",
          "ham",
          "ham",
          "ham",
          "ham",
          "ham",
          "ham",
          "ham",
          "ham",
          "ham",
          "spam",
          "ham",
          "spam",
          "ham",
          "ham",
          "ham",
          "ham",
          "ham",
          "ham",
          "ham",
          "ham",
          "ham",
          "ham",
          "ham",
          "ham",
          "ham",
          "ham",
          "ham",
          "ham",
          "ham",
          "ham",
          "spam",
          "ham",
          "spam",
          "ham",
          "ham",
          "ham",
          "ham",
          "ham",
          "ham",
          "spam",
          "ham",
          "ham",
          "ham",
          "ham",
          "ham",
          "ham",
          "ham",
          "spam",
          "ham",
          "ham",
          "ham",
          "ham",
          "ham",
          "ham",
          "spam",
          "ham",
          "ham",
          "ham",
          "ham",
          "ham",
          "ham",
          "ham",
          "spam",
          "ham",
          "ham",
          "ham",
          "ham",
          "ham",
          "ham",
          "ham",
          "ham",
          "ham",
          "spam",
          "ham",
          "ham",
          "ham",
          "ham",
          "ham",
          "ham",
          "ham",
          "ham",
          "ham",
          "ham",
          "spam",
          "ham",
          "ham",
          "ham",
          "ham",
          "ham",
          "ham",
          "ham",
          "ham",
          "spam",
          "ham",
          "ham",
          "ham",
          "ham",
          "ham",
          "ham",
          "ham",
          "ham",
          "ham",
          "ham",
          "ham",
          "ham",
          "ham",
          "ham",
          "ham",
          "ham",
          "ham",
          "ham",
          "ham",
          "ham",
          "spam",
          "ham",
          "ham",
          "ham",
          "ham",
          "ham",
          "ham",
          "ham",
          "ham",
          "spam",
          "ham",
          "ham",
          "ham",
          "ham",
          "ham",
          "ham",
          "ham",
          "ham",
          "ham",
          "ham",
          "spam",
          "ham",
          "ham",
          "ham",
          "ham",
          "ham",
          "spam",
          "spam",
          "ham",
          "ham",
          "spam",
          "ham",
          "ham",
          "ham",
          "ham",
          "spam",
          "ham",
          "ham",
          "ham",
          "ham",
          "ham",
          "ham",
          "ham",
          "ham",
          "ham",
          "spam",
          "ham",
          "ham",
          "ham",
          "ham",
          "spam",
          "spam",
          "ham",
          "ham",
          "ham",
          "ham",
          "spam",
          "ham",
          "ham",
          "ham",
          "ham",
          "ham",
          "ham",
          "ham",
          "ham",
          "spam",
          "ham",
          "ham",
          "ham",
          "spam",
          "ham",
          "spam",
          "ham",
          "ham",
          "ham",
          "spam",
          "ham",
          "ham",
          "ham",
          "ham",
          "spam",
          "ham",
          "ham",
          "ham",
          "ham",
          "ham",
          "ham",
          "ham",
          "ham",
          "spam",
          "ham",
          "ham",
          "ham",
          "ham",
          "ham",
          "ham",
          "ham",
          "ham",
          "ham",
          "ham",
          "ham",
          "spam",
          "spam",
          "ham",
          "ham",
          "ham",
          "ham",
          "ham",
          "ham",
          "ham",
          "ham",
          "ham",
          "ham",
          "ham",
          "ham",
          "ham",
          "spam",
          "ham",
          "ham",
          "ham",
          "ham",
          "ham",
          "ham",
          "ham",
          "ham",
          "ham",
          "spam",
          "ham",
          "ham",
          "ham",
          "ham",
          "ham",
          "ham",
          "ham",
          "ham",
          "ham",
          "ham",
          "ham",
          "ham",
          "ham",
          "ham",
          "ham",
          "ham",
          "ham",
          "ham",
          "spam",
          "ham",
          "ham",
          "ham",
          "ham",
          "ham",
          "ham",
          "ham",
          "ham",
          "ham",
          "ham",
          "ham",
          "ham",
          "ham",
          "ham",
          "ham",
          "ham",
          "ham",
          "spam",
          "ham",
          "spam",
          "ham",
          "ham",
          "ham",
          "ham",
          "ham",
          "ham",
          "ham",
          "ham",
          "ham",
          "ham",
          "spam",
          "ham",
          "ham",
          "ham",
          "spam",
          "ham",
          "ham",
          "ham",
          "ham",
          "ham",
          "ham",
          "ham",
          "ham",
          "ham",
          "ham",
          "ham",
          "ham",
          "ham",
          "ham",
          "ham",
          "ham",
          "ham",
          "ham",
          "ham",
          "ham",
          "ham",
          "ham",
          "spam",
          "spam",
          "ham",
          "spam",
          "ham",
          "ham",
          "ham",
          "ham",
          "ham",
          "ham",
          "ham",
          "ham",
          "ham",
          "ham",
          "spam",
          "ham",
          "ham",
          "spam",
          "ham",
          "ham",
          "spam",
          "ham",
          "spam",
          "ham",
          "ham",
          "ham",
          "ham",
          "ham",
          "ham",
          "ham",
          "ham",
          "ham",
          "ham",
          "ham",
          "ham",
          "ham",
          "ham",
          "ham",
          "ham",
          "ham",
          "ham",
          "ham",
          "ham",
          "spam",
          "ham",
          "ham",
          "ham",
          "ham",
          "spam",
          "ham",
          "spam",
          "ham",
          "ham",
          "spam",
          "ham",
          "ham",
          "ham",
          "ham",
          "ham",
          "ham",
          "ham",
          "spam",
          "spam",
          "ham",
          "spam",
          "spam",
          "spam",
          "ham",
          "ham",
          "ham",
          "ham",
          "ham",
          "ham",
          "ham",
          "ham",
          "ham",
          "ham",
          "ham",
          "ham",
          "ham",
          "ham",
          "spam",
          "ham",
          "ham",
          "ham",
          "ham",
          "ham",
          "ham",
          "ham",
          "ham",
          "ham",
          "ham",
          "ham",
          "ham",
          "ham",
          "ham",
          "spam",
          "ham",
          "ham",
          "ham",
          "ham",
          "ham",
          "ham",
          "ham",
          "ham",
          "spam",
          "ham",
          "spam",
          "ham",
          "ham",
          "ham",
          "ham",
          "ham",
          "spam",
          "ham",
          "ham",
          "ham",
          "spam",
          "ham",
          "ham",
          "spam",
          "ham",
          "ham",
          "ham",
          "ham",
          "ham",
          "ham",
          "spam",
          "ham",
          "ham",
          "ham",
          "spam",
          "ham",
          "ham",
          "ham",
          "ham",
          "ham",
          "ham",
          "ham",
          "spam",
          "ham",
          "ham",
          "ham",
          "ham",
          "ham",
          "ham",
          "ham",
          "ham",
          "ham",
          "ham",
          "ham",
          "ham",
          "ham",
          "ham",
          "ham",
          "spam",
          "ham",
          "ham",
          "ham",
          "ham",
          "ham",
          "ham",
          "ham",
          "ham",
          "ham",
          "ham",
          "spam",
          "ham",
          "ham",
          "ham",
          "ham",
          "ham",
          "ham",
          "spam",
          "ham",
          "ham",
          "ham",
          "ham",
          "ham",
          "ham",
          "spam",
          "ham",
          "ham",
          "spam",
          "ham",
          "ham",
          "ham",
          "ham",
          "ham",
          "ham",
          "ham",
          "spam",
          "ham",
          "ham",
          "ham",
          "ham",
          "ham",
          "ham",
          "ham",
          "ham",
          "ham",
          "ham",
          "ham",
          "ham",
          "ham",
          "ham",
          "ham",
          "ham",
          "ham",
          "ham",
          "ham",
          "ham",
          "ham",
          "ham",
          "ham",
          "ham",
          "ham",
          "ham",
          "ham",
          "ham",
          "ham",
          "ham",
          "ham",
          "ham",
          "ham",
          "ham",
          "spam",
          "ham",
          "ham",
          "ham",
          "ham",
          "ham",
          "ham",
          "spam",
          "spam",
          "ham",
          "ham",
          "ham",
          "ham",
          "ham",
          "ham",
          "ham",
          "ham",
          "ham",
          "ham",
          "ham",
          "ham",
          "ham",
          "ham",
          "spam",
          "ham",
          "ham",
          "ham",
          "ham",
          "ham",
          "ham",
          "ham",
          "ham",
          "ham",
          "ham",
          "ham",
          "ham",
          "ham",
          "ham",
          "ham",
          "ham",
          "ham",
          "spam",
          "ham",
          "ham",
          "ham",
          "ham",
          "ham",
          "ham",
          "ham",
          "ham",
          "ham",
          "ham",
          "spam",
          "ham",
          "ham",
          "ham",
          "ham",
          "ham",
          "ham",
          "ham",
          "ham",
          "ham",
          "ham",
          "ham",
          "ham",
          "ham",
          "ham",
          "ham",
          "ham",
          "ham",
          "ham",
          "ham",
          "ham",
          "ham",
          "ham",
          "spam",
          "ham",
          "ham",
          "ham",
          "ham",
          "ham",
          "ham",
          "ham",
          "spam",
          "ham",
          "spam",
          "ham",
          "ham",
          "ham",
          "ham",
          "ham",
          "ham",
          "ham",
          "ham",
          "ham",
          "ham",
          "ham",
          "ham",
          "ham",
          "ham",
          "ham",
          "spam",
          "spam",
          "ham",
          "ham",
          "ham",
          "ham",
          "ham",
          "spam",
          "ham",
          "spam",
          "ham",
          "ham",
          "ham",
          "ham",
          "ham",
          "ham",
          "spam",
          "ham",
          "ham",
          "ham",
          "ham",
          "ham",
          "spam",
          "ham",
          "ham",
          "ham",
          "ham",
          "ham",
          "ham",
          "ham",
          "ham",
          "ham",
          "ham",
          "ham",
          "ham",
          "ham",
          "ham",
          "ham",
          "spam",
          "ham",
          "ham",
          "ham",
          "ham",
          "ham",
          "ham",
          "ham",
          "spam",
          "ham",
          "ham",
          "ham",
          "ham",
          "ham",
          "spam",
          "ham",
          "ham",
          "ham",
          "ham",
          "ham",
          "spam",
          "ham",
          "ham",
          "ham",
          "ham",
          "ham",
          "ham",
          "ham",
          "ham",
          "ham",
          "spam",
          "ham",
          "ham",
          "ham",
          "ham",
          "ham",
          "ham",
          "ham",
          "ham",
          "ham",
          "ham",
          "ham",
          "ham",
          "ham",
          "ham",
          "ham",
          "ham",
          "ham",
          "ham",
          "ham",
          "ham",
          "spam",
          "spam",
          "ham",
          "ham",
          "ham",
          "ham",
          "spam",
          "spam",
          "ham",
          "ham",
          "ham",
          "ham",
          "ham",
          "ham",
          "ham",
          "ham",
          "ham",
          "spam",
          "ham",
          "ham",
          "ham",
          "ham",
          "ham",
          "spam",
          "ham",
          "ham",
          "ham",
          "ham",
          "spam",
          "ham",
          "spam",
          "ham",
          "ham",
          "ham",
          "ham",
          "ham",
          "spam",
          "ham",
          "ham",
          "ham",
          "ham",
          "ham",
          "spam",
          "ham",
          "ham",
          "spam",
          "ham",
          "ham",
          "spam",
          "ham",
          "ham",
          "ham",
          "ham",
          "ham",
          "ham",
          "ham",
          "spam",
          "ham",
          "ham",
          "ham",
          "ham",
          "ham",
          "ham",
          "ham",
          "ham",
          "ham",
          "spam",
          "spam",
          "ham",
          "ham",
          "ham",
          "ham",
          "ham",
          "ham",
          "ham",
          "ham",
          "ham",
          "ham",
          "ham",
          "spam",
          "ham",
          "ham",
          "ham",
          "ham",
          "ham",
          "ham",
          "ham",
          "ham",
          "ham",
          "ham",
          "ham",
          "ham",
          "ham",
          "ham",
          "ham",
          "ham",
          "ham",
          "ham",
          "ham",
          "ham",
          "ham",
          "ham",
          "ham",
          "ham",
          "spam",
          "ham",
          "ham",
          "spam",
          "ham",
          "ham",
          "ham",
          "spam",
          "ham",
          "ham",
          "ham",
          "ham",
          "spam",
          "ham",
          "ham",
          "ham",
          "ham",
          "ham",
          "ham",
          "ham",
          "ham",
          "ham",
          "ham",
          "ham",
          "spam",
          "ham",
          "ham",
          "ham",
          "ham",
          "ham",
          "ham",
          "ham",
          "ham",
          "ham",
          "ham",
          "ham",
          "spam",
          "ham",
          "ham",
          "ham",
          "spam",
          "ham",
          "ham",
          "ham",
          "ham",
          "ham",
          "ham",
          "ham",
          "ham",
          "ham",
          "spam",
          "ham",
          "ham",
          "spam",
          "ham",
          "spam",
          "ham",
          "ham",
          "spam",
          "ham",
          "ham",
          "ham",
          "spam",
          "ham",
          "ham",
          "ham",
          "spam",
          "ham",
          "ham",
          "ham",
          "ham",
          "ham",
          "ham",
          "ham",
          "ham",
          "ham",
          "ham",
          "ham",
          "ham",
          "ham",
          "spam",
          "ham",
          "spam",
          "ham",
          "ham",
          "ham",
          "ham",
          "ham",
          "ham",
          "ham",
          "ham",
          "ham",
          "ham",
          "ham",
          "ham",
          "spam",
          "ham",
          "ham",
          "ham",
          "ham",
          "ham",
          "ham",
          "ham",
          "spam",
          "ham",
          "ham",
          "ham",
          "ham",
          "ham",
          "ham",
          "ham",
          "spam",
          "ham",
          "spam",
          "ham",
          "ham",
          "ham",
          "ham",
          "ham",
          "ham",
          "ham",
          "ham",
          "ham",
          "ham",
          "ham",
          "ham",
          "ham",
          "ham",
          "ham",
          "spam",
          "ham",
          "ham",
          "ham",
          "ham",
          "spam",
          "ham",
          "ham",
          "ham",
          "ham",
          "ham",
          "ham",
          "ham",
          "spam",
          "ham",
          "ham",
          "ham",
          "ham",
          "spam",
          "ham",
          "ham",
          "ham",
          "ham",
          "ham",
          "ham",
          "ham",
          "ham",
          "ham",
          "ham",
          "ham",
          "ham",
          "ham",
          "ham",
          "ham",
          "ham",
          "ham",
          "ham",
          "ham",
          "ham",
          "ham",
          "ham",
          "ham",
          "ham",
          "ham",
          "spam",
          "ham",
          "ham",
          "ham",
          "spam",
          "ham",
          "ham",
          "ham",
          "ham",
          "ham",
          "ham",
          "ham",
          "ham",
          "spam",
          "ham",
          "ham",
          "ham",
          "ham",
          "spam",
          "ham",
          "ham",
          "ham",
          "ham",
          "ham",
          "spam",
          "ham",
          "ham",
          "ham",
          "ham",
          "ham",
          "ham",
          "ham",
          "ham",
          "ham",
          "ham",
          "ham",
          "ham",
          "ham",
          "ham",
          "spam",
          "ham",
          "ham",
          "ham",
          "ham",
          "ham",
          "ham",
          "spam",
          "ham",
          "ham",
          "spam",
          "ham",
          "spam",
          "ham",
          "ham",
          "ham",
          "ham",
          "ham",
          "ham",
          "ham",
          "ham",
          "ham",
          "spam",
          "ham",
          "ham",
          "spam",
          "ham",
          "ham",
          "ham",
          "spam",
          "spam",
          "ham",
          "ham",
          "ham",
          "spam",
          "ham",
          "ham",
          "ham",
          "ham",
          "ham",
          "ham",
          "ham",
          "ham",
          "ham",
          "ham",
          "ham",
          "ham",
          "ham",
          "ham",
          "ham",
          "ham",
          "ham",
          "ham",
          "ham",
          "ham",
          "ham",
          "ham",
          "ham",
          "ham",
          "ham",
          "ham",
          "ham",
          "ham",
          "ham",
          "ham",
          "ham",
          "ham",
          "ham",
          "ham",
          "ham",
          "ham",
          "ham",
          "ham",
          "ham",
          "ham",
          "ham",
          "spam",
          "ham",
          "ham",
          "spam",
          "ham",
          "ham",
          "ham",
          "ham",
          "spam",
          "ham",
          "ham",
          "spam",
          "ham",
          "ham",
          "ham",
          "ham",
          "ham",
          "ham",
          "ham",
          "ham",
          "ham",
          "ham",
          "ham",
          "ham",
          "ham",
          "ham",
          "ham",
          "ham",
          "ham",
          "ham",
          "ham",
          "ham",
          "ham",
          "ham",
          "ham",
          "ham",
          "spam",
          "ham",
          "ham",
          "ham",
          "ham",
          "ham",
          "ham",
          "ham",
          "ham",
          "ham",
          "ham",
          "ham",
          "ham",
          "ham",
          "ham",
          "ham",
          "ham",
          "ham",
          "ham",
          "spam",
          "ham",
          "ham",
          "ham",
          "ham",
          "ham",
          "ham",
          "ham",
          "ham",
          "ham",
          "ham",
          "ham",
          "spam",
          "ham",
          "ham",
          "spam",
          "ham",
          "ham",
          "ham",
          "ham",
          "ham",
          "spam",
          "ham",
          "ham",
          "ham",
          "ham",
          "ham",
          "ham",
          "ham",
          "ham",
          "spam",
          "ham",
          "ham",
          "ham",
          "ham",
          "ham",
          "ham",
          "ham",
          "ham",
          "ham",
          "ham",
          "ham",
          "spam",
          "ham",
          "spam",
          "ham",
          "ham",
          "ham",
          "ham",
          "ham",
          "ham",
          "ham",
          "ham",
          "spam",
          "ham",
          "ham",
          "spam",
          "ham",
          "ham",
          "ham",
          "ham",
          "ham",
          "ham",
          "spam",
          "ham",
          "spam",
          "ham",
          "ham",
          "ham",
          "ham",
          "ham",
          "ham",
          "ham",
          "ham",
          "ham",
          "ham",
          "ham",
          "ham",
          "spam",
          "ham",
          "ham",
          "spam",
          "ham",
          "ham",
          "ham",
          "ham",
          "ham",
          "ham",
          "ham",
          "ham",
          "ham",
          "ham",
          "ham",
          "ham",
          "ham",
          "ham",
          "ham",
          "ham",
          "ham",
          "ham",
          "ham",
          "ham",
          "ham",
          "ham",
          "ham",
          "ham",
          "spam",
          "ham",
          "ham",
          "ham",
          "ham",
          "spam",
          "ham",
          "ham",
          "ham",
          "ham",
          "ham",
          "ham",
          "spam",
          "spam",
          "ham",
          "ham",
          "ham",
          "ham",
          "ham",
          "ham",
          "ham",
          "ham",
          "ham",
          "ham",
          "ham",
          "ham",
          "ham",
          "ham",
          "ham",
          "ham",
          "ham",
          "ham",
          "ham",
          "ham",
          "ham",
          "ham",
          "ham",
          "ham",
          "ham",
          "ham",
          "ham",
          "ham",
          "ham",
          "spam",
          "ham",
          "ham",
          "ham",
          "ham",
          "ham",
          "spam",
          "ham",
          "ham",
          "ham",
          "ham",
          "ham",
          "spam",
          "ham",
          "ham",
          "ham",
          "ham",
          "ham",
          "ham",
          "ham",
          "ham",
          "ham",
          "ham",
          "ham",
          "ham",
          "ham",
          "ham",
          "ham",
          "ham",
          "spam",
          "spam",
          "ham",
          "ham",
          "ham",
          "ham",
          "ham",
          "ham",
          "ham",
          "spam",
          "spam",
          "ham",
          "ham",
          "spam",
          "ham",
          "ham",
          "ham",
          "ham",
          "ham",
          "ham",
          "ham",
          "ham",
          "ham",
          "ham",
          "ham",
          "ham",
          "ham",
          "spam",
          "ham",
          "ham",
          "ham",
          "ham",
          "ham",
          "ham",
          "ham",
          "ham",
          "ham",
          "ham",
          "ham",
          "ham",
          "ham",
          "ham",
          "ham",
          "ham",
          "ham",
          "spam",
          "ham",
          "ham",
          "ham",
          "ham",
          "ham",
          "ham",
          "ham",
          "ham",
          "ham",
          "ham",
          "ham",
          "ham",
          "ham",
          "ham",
          "ham",
          "ham",
          "ham",
          "ham",
          "ham",
          "ham",
          "ham",
          "ham",
          "ham",
          "ham",
          "ham",
          "spam",
          "ham",
          "ham",
          "ham",
          "ham",
          "ham",
          "ham",
          "ham",
          "ham",
          "ham",
          "ham",
          "ham",
          "ham",
          "ham",
          "ham",
          "ham",
          "ham",
          "ham",
          "ham",
          "ham",
          "ham",
          "ham",
          "spam",
          "ham",
          "ham",
          "spam",
          "ham",
          "ham",
          "ham",
          "ham",
          "ham",
          "spam",
          "ham",
          "ham",
          "ham",
          "ham",
          "ham",
          "spam",
          "ham",
          "ham",
          "ham",
          "spam",
          "ham",
          "ham",
          "ham",
          "ham",
          "ham",
          "ham",
          "ham",
          "spam",
          "ham",
          "ham",
          "ham",
          "ham",
          "ham",
          "ham",
          "ham",
          "ham",
          "ham",
          "spam",
          "spam",
          "spam",
          "spam",
          "spam",
          "spam",
          "spam",
          "ham",
          "ham",
          "ham",
          "ham",
          "ham",
          "ham",
          "ham",
          "spam",
          "ham",
          "ham",
          "ham",
          "ham",
          "ham",
          "ham",
          "ham",
          "ham",
          "spam",
          "spam",
          "ham",
          "ham",
          "ham",
          "ham",
          "ham",
          "ham",
          "ham",
          "ham",
          "ham",
          "ham",
          "ham",
          "ham",
          "ham",
          "ham",
          "ham",
          "ham",
          "spam",
          "ham",
          "ham",
          "spam",
          "ham",
          "ham",
          "ham",
          "ham",
          "spam",
          "ham",
          "ham",
          "ham",
          "ham",
          "ham",
          "ham",
          "ham",
          "ham",
          "ham",
          "ham",
          "ham",
          "ham",
          "ham",
          "ham",
          "spam",
          "ham",
          "ham",
          "ham",
          "ham",
          "ham",
          "ham",
          "ham",
          "ham",
          "ham",
          "ham",
          "ham",
          "spam",
          "spam",
          "ham",
          "ham",
          "ham",
          "ham",
          "spam",
          "ham",
          "ham",
          "ham",
          "ham",
          "ham",
          "ham",
          "ham",
          "ham",
          "ham",
          "ham",
          "ham",
          "ham",
          "ham",
          "ham",
          "ham",
          "ham",
          "ham",
          "ham",
          "ham",
          "ham",
          "ham",
          "ham",
          "ham",
          "ham",
          "ham",
          "ham",
          "ham",
          "spam",
          "spam",
          "ham",
          "ham",
          "ham",
          "ham",
          "ham",
          "ham",
          "ham",
          "ham",
          "ham",
          "ham",
          "ham",
          "ham",
          "ham",
          "ham",
          "ham",
          "ham",
          "ham",
          "spam",
          "ham",
          "ham",
          "ham",
          "ham",
          "ham",
          "ham",
          "ham",
          "spam",
          "ham",
          "ham",
          "ham",
          "spam",
          "ham",
          "spam",
          "ham",
          "spam",
          "ham",
          "ham",
          "ham",
          "spam",
          "ham",
          "ham",
          "spam",
          "ham",
          "ham",
          "spam",
          "ham",
          "ham",
          "ham",
          "ham",
          "ham",
          "ham",
          "ham",
          "ham",
          "ham",
          "ham",
          "spam",
          "ham",
          "spam",
          "ham",
          "ham",
          "ham",
          "ham",
          "ham",
          "ham",
          "ham",
          "spam",
          "ham",
          "ham",
          "spam",
          "ham",
          "ham",
          "ham",
          "ham",
          "ham",
          "ham",
          "ham",
          "ham",
          "ham",
          "ham",
          "ham",
          "ham",
          "ham",
          "ham",
          "ham",
          "ham",
          "ham",
          "ham",
          "ham",
          "ham",
          "ham",
          "spam",
          "ham",
          "ham",
          "ham",
          "ham",
          "ham",
          "ham",
          "ham",
          "ham",
          "ham",
          "ham",
          "spam",
          "ham",
          "ham",
          "ham",
          "ham",
          "ham",
          "ham",
          "ham",
          "spam",
          "ham",
          "ham",
          "spam",
          "ham",
          "ham",
          "ham",
          "spam",
          "ham",
          "ham",
          "ham",
          "ham",
          "ham",
          "ham",
          "ham",
          "ham",
          "ham",
          "ham",
          "ham",
          "ham",
          "ham",
          "ham",
          "ham",
          "ham",
          "ham",
          "ham",
          "ham",
          "ham",
          "ham",
          "ham",
          "ham",
          "ham",
          "ham",
          "ham",
          "ham",
          "ham",
          "spam",
          "ham",
          "ham",
          "ham",
          "spam",
          "ham",
          "ham",
          "ham",
          "ham",
          "ham",
          "ham",
          "ham",
          "ham",
          "ham",
          "ham",
          "ham",
          "ham",
          "ham",
          "ham",
          "ham",
          "ham",
          "ham",
          "ham",
          "spam",
          "ham",
          "ham",
          "ham",
          "ham",
          "ham",
          "ham",
          "ham",
          "ham",
          "ham",
          "ham",
          "spam",
          "ham",
          "ham",
          "ham",
          "ham",
          "ham",
          "ham",
          "ham",
          "ham",
          "ham",
          "ham",
          "spam",
          "ham",
          "ham",
          "ham",
          "ham",
          "spam",
          "ham",
          "ham",
          "ham",
          "ham",
          "ham",
          "ham",
          "ham",
          "ham",
          "ham",
          "ham",
          "ham",
          "ham",
          "ham",
          "ham",
          "ham",
          "ham",
          "spam",
          "ham",
          "ham",
          "ham",
          "ham",
          "ham",
          "ham",
          "ham",
          "spam",
          "ham",
          "ham",
          "ham",
          "ham",
          "spam",
          "ham",
          "ham",
          "spam",
          "ham",
          "ham",
          "ham",
          "ham",
          "spam",
          "ham",
          "ham",
          "spam",
          "ham",
          "ham",
          "ham",
          "ham",
          "ham",
          "ham",
          "ham",
          "ham",
          "ham",
          "ham",
          "ham",
          "spam",
          "ham",
          "spam",
          "ham",
          "ham",
          "ham",
          "ham",
          "ham",
          "ham",
          "ham",
          "ham",
          "spam",
          "ham",
          "ham",
          "spam",
          "ham",
          "ham",
          "ham",
          "ham",
          "ham",
          "ham",
          "ham",
          "ham",
          "spam",
          "ham",
          "ham",
          "ham",
          "ham",
          "ham",
          "spam",
          "ham",
          "ham",
          "ham",
          "ham",
          "ham",
          "ham",
          "ham",
          "ham",
          "ham",
          "ham",
          "ham",
          "spam",
          "ham",
          "ham",
          "ham",
          "ham",
          "ham",
          "ham",
          "ham",
          "ham",
          "spam",
          "ham",
          "ham",
          "ham",
          "ham",
          "ham",
          "ham",
          "ham",
          "ham",
          "ham",
          "ham",
          "ham",
          "ham",
          "ham",
          "ham",
          "ham",
          "ham",
          "ham",
          "ham",
          "ham",
          "spam",
          "ham",
          "ham",
          "ham",
          "ham",
          "ham",
          "ham",
          "ham",
          "spam",
          "ham",
          "ham",
          "ham",
          "spam",
          "ham",
          "spam",
          "ham",
          "spam",
          "ham",
          "ham",
          "ham",
          "ham",
          "ham",
          "ham",
          "ham",
          "ham",
          "ham",
          "ham",
          "ham",
          "ham",
          "ham",
          "ham",
          "ham",
          "ham",
          "ham",
          "ham",
          "ham",
          "ham",
          "spam",
          "ham",
          "ham",
          "ham",
          "ham",
          "ham",
          "spam",
          "ham",
          "spam",
          "ham",
          "spam",
          "ham",
          "spam",
          "ham",
          "ham",
          "ham",
          "ham",
          "ham",
          "ham",
          "ham",
          "spam",
          "spam",
          "ham",
          "ham",
          "ham",
          "ham",
          "ham",
          "ham",
          "spam",
          "ham",
          "ham",
          "ham",
          "ham",
          "ham",
          "ham",
          "ham",
          "spam",
          "ham",
          "ham",
          "ham",
          "ham",
          "ham",
          "ham",
          "ham",
          "ham",
          "ham",
          "ham",
          "ham",
          "ham",
          "ham",
          "ham",
          "ham",
          "ham",
          "ham",
          "ham",
          "ham",
          "ham",
          "spam",
          "ham",
          "ham",
          "ham",
          "ham",
          "ham",
          "ham",
          "ham",
          "ham",
          "ham",
          "ham",
          "ham",
          "spam",
          "ham",
          "ham",
          "ham",
          "ham",
          "ham",
          "ham",
          "ham",
          "ham",
          "spam",
          "ham",
          "ham",
          "ham",
          "ham",
          "spam",
          "ham",
          "ham",
          "ham",
          "spam",
          "ham",
          "ham",
          "ham",
          "ham",
          "ham",
          "spam",
          "ham",
          "ham",
          "spam",
          "ham",
          "ham",
          "ham",
          "ham",
          "ham",
          "ham",
          "spam",
          "ham",
          "ham",
          "spam",
          "ham",
          "ham",
          "ham",
          "ham",
          "ham",
          "ham",
          "spam",
          "spam",
          "ham",
          "spam",
          "ham",
          "ham",
          "ham",
          "ham",
          "ham",
          "ham",
          "ham",
          "ham",
          "ham",
          "spam",
          "spam",
          "ham",
          "ham",
          "ham",
          "spam",
          "ham",
          "ham",
          "ham",
          "spam",
          "ham",
          "ham",
          "ham",
          "ham",
          "ham",
          "ham",
          "ham",
          "ham",
          "ham",
          "ham",
          "ham",
          "ham",
          "ham",
          "ham",
          "ham",
          "spam",
          "ham",
          "ham",
          "ham",
          "ham",
          "ham",
          "spam",
          "ham",
          "ham",
          "ham",
          "ham",
          "spam",
          "spam",
          "ham",
          "ham",
          "ham",
          "ham",
          "ham",
          "ham",
          "ham",
          "ham",
          "ham",
          "ham",
          "ham",
          "spam",
          "spam",
          "ham",
          "ham",
          "ham",
          "ham",
          "ham",
          "ham",
          "spam",
          "spam",
          "ham",
          "ham",
          "ham",
          "spam",
          "ham",
          "ham",
          "ham",
          "spam",
          "ham",
          "ham",
          "ham",
          "ham",
          "ham",
          "ham",
          "ham",
          "ham",
          "spam",
          "ham",
          "spam",
          "ham",
          "ham",
          "spam",
          "ham",
          "ham",
          "ham",
          "ham",
          "ham",
          "ham",
          "ham",
          "ham",
          "ham",
          "ham",
          "spam",
          "ham",
          "spam",
          "ham",
          "ham",
          "ham",
          "spam",
          "ham",
          "ham",
          "ham",
          "spam",
          "ham",
          "ham",
          "ham",
          "ham",
          "ham",
          "ham",
          "ham",
          "ham",
          "ham",
          "ham",
          "ham",
          "ham",
          "ham",
          "ham",
          "spam",
          "ham",
          "ham",
          "ham",
          "ham",
          "ham",
          "ham",
          "spam",
          "ham",
          "ham",
          "ham",
          "ham",
          "ham",
          "ham",
          "ham",
          "ham",
          "ham",
          "spam",
          "ham",
          "ham",
          "ham",
          "ham",
          "spam",
          "ham",
          "ham",
          "ham",
          "ham",
          "spam",
          "ham",
          "spam",
          "ham",
          "ham",
          "ham",
          "ham",
          "ham",
          "spam",
          "ham",
          "ham",
          "ham",
          "spam",
          "ham",
          "ham",
          "spam",
          "ham",
          "ham",
          "ham",
          "ham",
          "ham",
          "ham",
          "ham",
          "ham",
          "ham",
          "ham",
          "ham",
          "ham",
          "ham",
          "spam",
          "ham",
          "ham",
          "ham",
          "ham",
          "ham",
          "ham",
          "ham",
          "ham",
          "ham",
          "ham",
          "ham",
          "ham",
          "spam",
          "ham",
          "spam",
          "spam",
          "spam",
          "ham",
          "ham",
          "ham",
          "ham",
          "ham",
          "spam",
          "ham",
          "ham",
          "ham",
          "ham",
          "ham",
          "ham",
          "spam",
          "ham",
          "ham",
          "ham",
          "ham",
          "ham",
          "ham",
          "ham",
          "ham",
          "ham",
          "ham",
          "ham",
          "ham",
          "ham",
          "ham",
          "ham",
          "ham",
          "ham",
          "ham",
          "ham",
          "ham",
          "ham",
          "ham",
          "spam",
          "spam",
          "ham",
          "ham",
          "ham",
          "ham",
          "ham",
          "spam",
          "ham",
          "ham",
          "ham",
          "ham",
          "spam",
          "spam",
          "ham",
          "ham",
          "ham",
          "ham",
          "ham",
          "ham",
          "spam",
          "ham",
          "spam",
          "ham",
          "ham",
          "ham",
          "ham",
          "ham",
          "ham",
          "ham",
          "ham",
          "ham",
          "ham",
          "ham",
          "ham",
          "ham",
          "spam",
          "ham",
          "ham",
          "ham",
          "ham",
          "ham",
          "ham",
          "ham",
          "spam",
          "spam",
          "ham",
          "ham",
          "ham",
          "ham",
          "ham",
          "ham",
          "ham",
          "ham",
          "ham",
          "ham",
          "ham",
          "ham",
          "ham",
          "spam",
          "spam",
          "spam",
          "spam",
          "spam",
          "ham",
          "ham",
          "ham",
          "ham",
          "ham",
          "ham",
          "ham",
          "ham",
          "ham",
          "ham",
          "ham",
          "spam",
          "ham",
          "ham",
          "ham",
          "ham",
          "ham",
          "ham",
          "ham",
          "ham",
          "ham",
          "ham",
          "ham",
          "ham",
          "ham",
          "ham",
          "ham",
          "ham",
          "ham",
          "spam",
          "ham",
          "ham",
          "ham",
          "ham",
          "ham",
          "ham",
          "ham",
          "ham",
          "ham",
          "ham",
          "ham",
          "ham",
          "ham",
          "ham",
          "ham",
          "ham",
          "ham",
          "ham",
          "spam",
          "ham",
          "ham",
          "ham",
          "ham",
          "ham",
          "ham",
          "spam",
          "ham",
          "ham",
          "ham",
          "spam",
          "ham",
          "ham",
          "ham",
          "ham",
          "ham",
          "ham",
          "ham",
          "ham",
          "ham",
          "ham",
          "ham",
          "spam",
          "ham",
          "spam",
          "ham",
          "ham",
          "spam",
          "spam",
          "ham",
          "ham",
          "ham",
          "ham",
          "ham",
          "ham",
          "ham",
          "ham",
          "spam",
          "ham",
          "ham",
          "ham",
          "ham",
          "ham",
          "ham",
          "ham",
          "spam",
          "ham",
          "ham",
          "ham",
          "ham",
          "ham",
          "ham",
          "ham",
          "ham",
          "ham",
          "ham",
          "ham",
          "ham",
          "spam",
          "ham",
          "ham",
          "spam",
          "ham",
          "ham",
          "ham",
          "ham",
          "ham",
          "ham",
          "ham",
          "ham",
          "ham",
          "ham",
          "ham",
          "ham",
          "ham",
          "ham",
          "ham",
          "ham",
          "ham",
          "ham",
          "ham",
          "ham",
          "ham",
          "ham",
          "ham",
          "ham",
          "ham",
          "spam",
          "ham",
          "ham",
          "ham",
          "ham",
          "ham",
          "ham",
          "ham",
          "ham",
          "ham",
          "ham",
          "ham",
          "ham",
          "ham",
          "spam",
          "ham",
          "ham",
          "ham",
          "ham",
          "ham",
          "ham",
          "ham",
          "ham",
          "ham",
          "spam",
          "ham",
          "ham",
          "ham",
          "ham",
          "ham",
          "ham",
          "ham",
          "ham",
          "ham",
          "ham",
          "ham",
          "ham",
          "spam",
          "ham",
          "spam",
          "ham",
          "ham",
          "ham",
          "ham",
          "ham",
          "ham",
          "ham",
          "ham",
          "ham",
          "ham",
          "ham",
          "ham",
          "ham",
          "ham",
          "ham",
          "ham",
          "ham",
          "ham",
          "ham",
          "ham",
          "ham",
          "ham",
          "ham",
          "spam",
          "spam",
          "ham",
          "ham",
          "ham",
          "ham",
          "ham",
          "spam",
          "ham",
          "ham",
          "ham",
          "ham",
          "ham",
          "ham",
          "ham",
          "spam",
          "ham",
          "ham",
          "spam",
          "ham",
          "ham",
          "ham",
          "ham",
          "ham",
          "ham",
          "ham",
          "ham",
          "ham",
          "spam",
          "ham",
          "ham",
          "ham",
          "ham",
          "ham",
          "ham",
          "spam",
          "ham",
          "ham",
          "ham",
          "ham",
          "ham",
          "ham",
          "ham",
          "ham",
          "spam",
          "ham",
          "ham",
          "ham",
          "ham",
          "ham",
          "ham",
          "ham",
          "ham",
          "ham",
          "ham",
          "ham",
          "ham",
          "ham",
          "ham",
          "ham",
          "ham",
          "ham",
          "ham",
          "ham",
          "ham",
          "ham",
          "ham",
          "ham",
          "ham",
          "ham",
          "ham",
          "ham",
          "spam",
          "ham",
          "ham",
          "spam",
          "ham",
          "ham",
          "spam",
          "spam",
          "spam",
          "ham",
          "ham",
          "ham",
          "ham",
          "spam",
          "ham",
          "spam",
          "spam",
          "ham",
          "ham",
          "ham",
          "ham",
          "spam",
          "ham",
          "ham",
          "ham",
          "ham",
          "ham",
          "ham",
          "ham",
          "ham",
          "ham",
          "spam",
          "ham",
          "ham",
          "ham",
          "ham",
          "ham",
          "ham",
          "ham",
          "ham",
          "ham",
          "ham",
          "ham",
          "ham",
          "ham",
          "spam",
          "ham",
          "ham",
          "ham",
          "ham",
          "ham",
          "ham",
          "ham",
          "ham",
          "ham",
          "ham",
          "ham",
          "spam",
          "spam",
          "ham",
          "ham",
          "ham",
          "ham",
          "ham",
          "ham",
          "ham",
          "ham",
          "ham",
          "ham",
          "ham",
          "ham",
          "ham",
          "spam",
          "ham",
          "ham",
          "ham",
          "spam",
          "ham",
          "ham",
          "ham",
          "ham",
          "spam",
          "ham",
          "ham",
          "ham",
          "ham",
          "ham",
          "spam",
          "ham",
          "ham",
          "ham",
          "ham",
          "ham",
          "ham",
          "ham",
          "ham",
          "ham",
          "ham",
          "ham",
          "ham",
          "ham",
          "ham",
          "spam",
          "ham",
          "ham",
          "spam",
          "ham",
          "ham",
          "ham",
          "ham",
          "ham",
          "ham",
          "ham",
          "ham",
          "ham",
          "ham",
          "ham",
          "ham",
          "ham",
          "ham",
          "ham",
          "ham",
          "ham",
          "ham",
          "ham",
          "spam",
          "ham",
          "ham",
          "ham",
          "ham",
          "spam",
          "ham",
          "ham",
          "ham",
          "ham",
          "ham",
          "ham",
          "ham",
          "ham",
          "ham",
          "ham",
          "ham",
          "ham",
          "ham",
          "ham",
          "ham",
          "ham",
          "ham",
          "ham",
          "ham",
          "ham",
          "ham",
          "ham",
          "ham",
          "spam",
          "ham",
          "ham",
          "spam",
          "ham",
          "ham",
          "ham",
          "ham",
          "ham",
          "ham",
          "spam",
          "ham",
          "ham",
          "ham",
          "ham",
          "ham",
          "ham",
          "ham",
          "ham",
          "ham",
          "ham",
          "spam",
          "ham",
          "ham",
          "ham",
          "ham",
          "ham",
          "spam",
          "ham",
          "spam",
          "ham",
          "ham",
          "ham",
          "ham",
          "spam",
          "spam",
          "ham",
          "ham",
          "ham",
          "ham",
          "ham",
          "ham",
          "ham",
          "spam",
          "ham",
          "ham",
          "ham",
          "ham",
          "ham",
          "ham",
          "ham",
          "ham",
          "ham",
          "ham",
          "ham",
          "ham",
          "ham",
          "ham",
          "ham",
          "ham",
          "ham",
          "spam",
          "ham",
          "ham",
          "ham",
          "ham",
          "ham",
          "ham",
          "ham",
          "ham",
          "ham",
          "ham",
          "spam",
          "spam",
          "ham",
          "ham",
          "ham",
          "ham",
          "ham",
          "ham",
          "ham",
          "ham",
          "ham",
          "spam",
          "ham",
          "ham",
          "ham",
          "ham",
          "ham",
          "ham",
          "ham",
          "ham",
          "ham",
          "ham",
          "ham",
          "ham",
          "spam",
          "ham",
          "spam",
          "ham",
          "ham",
          "ham",
          "ham",
          "ham",
          "ham",
          "ham",
          "ham",
          "ham",
          "ham",
          "spam",
          "ham",
          "ham",
          "ham",
          "ham",
          "ham",
          "ham",
          "spam",
          "ham",
          "ham",
          "ham",
          "spam",
          "ham",
          "ham",
          "ham",
          "ham",
          "ham",
          "ham",
          "ham",
          "ham",
          "ham",
          "ham",
          "ham",
          "ham",
          "ham",
          "ham",
          "ham",
          "ham",
          "ham",
          "spam",
          "spam",
          "ham",
          "ham",
          "ham",
          "ham",
          "ham",
          "ham",
          "ham",
          "ham",
          "ham",
          "ham",
          "ham",
          "ham",
          "spam",
          "ham",
          "spam",
          "ham",
          "ham",
          "ham",
          "ham",
          "ham",
          "ham",
          "ham",
          "ham",
          "spam",
          "ham",
          "ham",
          "ham",
          "ham",
          "ham",
          "ham",
          "ham",
          "spam",
          "ham",
          "ham",
          "ham",
          "ham",
          "spam",
          "ham",
          "spam",
          "ham",
          "ham",
          "spam",
          "ham",
          "ham",
          "ham",
          "ham",
          "ham",
          "ham",
          "ham",
          "spam",
          "ham",
          "ham",
          "ham",
          "spam",
          "ham",
          "ham",
          "ham",
          "ham",
          "ham",
          "ham",
          "ham",
          "ham",
          "ham",
          "ham",
          "ham",
          "spam",
          "spam",
          "ham",
          "ham",
          "ham",
          "ham",
          "ham",
          "ham",
          "ham",
          "ham",
          "ham",
          "ham",
          "ham",
          "ham",
          "ham",
          "ham",
          "ham",
          "ham",
          "spam",
          "spam",
          "ham",
          "ham",
          "ham",
          "spam",
          "ham",
          "ham",
          "ham",
          "ham",
          "ham",
          "ham",
          "ham",
          "ham",
          "ham",
          "ham",
          "ham",
          "spam",
          "ham",
          "spam",
          "spam",
          "ham",
          "ham",
          "ham",
          "ham",
          "ham",
          "ham",
          "ham",
          "ham",
          "ham",
          "ham",
          "ham",
          "ham",
          "ham",
          "ham",
          "ham",
          "ham",
          "spam",
          "ham",
          "ham",
          "ham",
          "ham",
          "ham",
          "spam",
          "ham",
          "ham",
          "ham",
          "ham",
          "ham",
          "ham",
          "ham",
          "ham",
          "ham",
          "ham",
          "ham",
          "ham",
          "spam",
          "ham",
          "ham",
          "ham",
          "ham",
          "ham",
          "ham",
          "ham",
          "spam",
          "ham",
          "ham",
          "ham",
          "ham",
          "ham",
          "spam",
          "ham",
          "ham",
          "ham",
          "ham",
          "ham",
          "ham",
          "ham",
          "ham",
          "spam",
          "spam",
          "ham",
          "spam",
          "ham",
          "ham",
          "ham",
          "ham",
          "ham",
          "ham",
          "spam",
          "ham",
          "ham",
          "ham",
          "spam",
          "ham",
          "spam",
          "ham",
          "ham",
          "ham",
          "ham",
          "ham",
          "ham",
          "ham",
          "ham",
          "ham",
          "ham",
          "ham",
          "spam",
          "ham",
          "ham",
          "ham",
          "ham",
          "spam",
          "ham",
          "ham",
          "ham",
          "ham",
          "ham",
          "ham",
          "ham",
          "spam",
          "ham",
          "ham",
          "spam",
          "ham",
          "spam",
          "ham",
          "ham",
          "spam",
          "ham",
          "ham",
          "spam",
          "ham",
          "ham",
          "ham",
          "ham",
          "ham",
          "ham",
          "ham",
          "ham",
          "ham",
          "ham",
          "ham",
          "ham",
          "ham",
          "ham",
          "ham",
          "ham",
          "ham",
          "ham",
          "ham",
          "ham",
          "spam",
          "ham",
          "ham",
          "ham",
          "spam",
          "ham",
          "ham",
          "ham",
          "ham",
          "ham",
          "ham",
          "ham",
          "spam",
          "ham",
          "spam",
          "ham",
          "ham",
          "spam",
          "ham",
          "ham",
          "ham",
          "ham",
          "spam",
          "ham",
          "ham",
          "ham",
          "ham",
          "ham",
          "ham",
          "ham",
          "ham",
          "ham",
          "ham",
          "ham",
          "ham",
          "ham",
          "ham",
          "ham",
          "ham",
          "spam",
          "ham",
          "ham",
          "ham",
          "spam",
          "ham",
          "ham",
          "ham",
          "ham",
          "ham",
          "spam",
          "ham",
          "ham",
          "ham",
          "ham",
          "ham",
          "ham",
          "ham",
          "ham",
          "ham",
          "ham",
          "ham",
          "ham",
          "ham",
          "ham",
          "ham",
          "ham",
          "spam",
          "ham",
          "ham",
          "ham",
          "ham",
          "ham",
          "ham",
          "ham",
          "ham",
          "ham",
          "ham",
          "ham",
          "ham",
          "ham",
          "spam",
          "ham",
          "ham",
          "ham",
          "ham",
          "ham",
          "ham",
          "ham",
          "ham",
          "ham",
          "ham",
          "spam",
          "spam",
          "ham",
          "ham",
          "ham",
          "ham",
          "ham",
          "spam",
          "ham",
          "ham",
          "ham",
          "spam",
          "spam",
          "ham",
          "ham",
          "ham",
          "spam",
          "ham",
          "ham",
          "ham",
          "ham",
          "ham",
          "ham",
          "ham",
          "ham",
          "spam",
          "ham",
          "ham",
          "ham",
          "ham",
          "ham",
          "ham",
          "ham",
          "ham",
          "ham",
          "ham",
          "ham",
          "ham",
          "ham",
          "spam",
          "ham",
          "ham",
          "ham",
          "spam",
          "ham",
          "ham",
          "ham",
          "ham",
          "spam",
          "ham",
          "ham",
          "ham",
          "ham",
          "ham",
          "ham",
          "ham",
          "ham",
          "ham",
          "ham",
          "ham",
          "ham",
          "spam",
          "ham",
          "ham",
          "ham",
          "ham",
          "ham",
          "ham",
          "ham",
          "ham",
          "ham",
          "ham",
          "ham",
          "ham",
          "ham",
          "ham",
          "ham",
          "ham",
          "ham",
          "ham",
          "spam",
          "ham",
          "ham",
          "ham",
          "ham",
          "ham",
          "ham",
          "ham",
          "ham",
          "spam",
          "ham",
          "ham",
          "ham",
          "ham",
          "ham",
          "ham",
          "spam",
          "ham",
          "ham",
          "ham",
          "ham",
          "ham",
          "ham",
          "spam",
          "ham",
          "spam",
          "ham",
          "ham",
          "ham",
          "ham",
          "ham",
          "ham",
          "ham",
          "ham",
          "ham",
          "ham",
          "ham",
          "ham",
          "ham",
          "ham",
          "ham",
          "ham",
          "ham",
          "ham",
          "ham",
          "spam",
          "ham",
          "ham",
          "ham",
          "ham",
          "ham",
          "ham",
          "ham",
          "ham",
          "ham",
          "ham",
          "ham",
          "ham",
          "ham",
          "ham",
          "ham",
          "ham",
          "ham",
          "ham",
          "ham",
          "ham",
          "ham",
          "ham",
          "ham",
          "ham",
          "ham",
          "ham",
          "ham",
          "spam",
          "ham",
          "ham",
          "ham",
          "ham",
          "ham",
          "ham",
          "ham",
          "ham",
          "ham",
          "ham",
          "ham",
          "ham",
          "ham",
          "ham",
          "ham",
          "ham",
          "ham",
          "ham",
          "ham",
          "ham",
          "ham",
          "spam",
          "spam",
          "spam",
          "ham",
          "spam",
          "ham",
          "spam",
          "ham",
          "ham",
          "ham",
          "ham",
          "ham",
          "ham",
          "spam",
          "spam",
          "ham",
          "ham",
          "spam",
          "ham",
          "ham",
          "ham",
          "ham",
          "ham",
          "ham",
          "ham",
          "ham",
          "ham",
          "ham",
          "ham",
          "ham",
          "ham",
          "ham",
          "ham",
          "ham",
          "ham",
          "ham",
          "ham",
          "ham",
          "ham",
          "ham",
          "ham",
          "ham",
          "ham",
          "ham",
          "ham",
          "ham",
          "ham",
          "ham",
          "ham",
          "ham",
          "ham",
          "ham",
          "ham",
          "ham",
          "ham",
          "ham",
          "ham",
          "ham",
          "ham",
          "ham",
          "ham",
          "ham",
          "ham",
          "spam",
          "ham",
          "ham",
          "ham",
          "ham",
          "ham",
          "ham",
          "ham",
          "ham",
          "ham",
          "ham",
          "ham",
          "ham",
          "ham",
          "ham",
          "ham",
          "spam",
          "ham",
          "ham",
          "ham",
          "ham",
          "ham",
          "spam",
          "ham",
          "ham",
          "ham",
          "ham",
          "ham",
          "ham",
          "spam",
          "ham",
          "ham",
          "ham",
          "spam",
          "ham",
          "spam",
          "ham",
          "ham",
          "ham",
          "spam",
          "spam",
          "spam",
          "ham",
          "ham",
          "ham",
          "ham",
          "ham",
          "ham",
          "ham",
          "ham",
          "ham",
          "ham",
          "ham",
          "ham",
          "ham",
          "spam",
          "ham",
          "ham",
          "ham",
          "ham",
          "spam",
          "ham",
          "ham",
          "ham",
          "ham",
          "spam",
          "ham",
          "ham",
          "ham",
          "ham",
          "spam",
          "ham",
          "ham",
          "ham",
          "spam",
          "ham",
          "ham",
          "ham",
          "ham",
          "ham",
          "ham",
          "ham",
          "ham",
          "ham",
          "ham",
          "ham",
          "ham",
          "ham",
          "ham",
          "ham",
          "ham",
          "ham",
          "ham",
          "ham",
          "ham",
          "ham",
          "ham",
          "spam",
          "ham",
          "spam",
          "ham",
          "ham",
          "ham",
          "ham",
          "ham",
          "ham",
          "ham",
          "ham",
          "ham",
          "ham",
          "spam",
          "ham",
          "ham",
          "spam",
          "ham",
          "ham",
          "ham",
          "ham",
          "ham",
          "ham",
          "spam",
          "ham",
          "ham",
          "ham",
          "ham",
          "ham",
          "ham",
          "ham",
          "ham",
          "ham",
          "ham",
          "ham",
          "ham",
          "ham",
          "ham",
          "ham",
          "ham",
          "ham",
          "ham",
          "spam",
          "spam",
          "ham",
          "ham",
          "ham",
          "ham"
         ],
         "xaxis": "x",
         "yaxis": "y"
        }
       ],
       "layout": {
        "barmode": "relative",
        "legend": {
         "tracegroupgap": 0
        },
        "template": {
         "data": {
          "bar": [
           {
            "error_x": {
             "color": "#2a3f5f"
            },
            "error_y": {
             "color": "#2a3f5f"
            },
            "marker": {
             "line": {
              "color": "#E5ECF6",
              "width": 0.5
             },
             "pattern": {
              "fillmode": "overlay",
              "size": 10,
              "solidity": 0.2
             }
            },
            "type": "bar"
           }
          ],
          "barpolar": [
           {
            "marker": {
             "line": {
              "color": "#E5ECF6",
              "width": 0.5
             },
             "pattern": {
              "fillmode": "overlay",
              "size": 10,
              "solidity": 0.2
             }
            },
            "type": "barpolar"
           }
          ],
          "carpet": [
           {
            "aaxis": {
             "endlinecolor": "#2a3f5f",
             "gridcolor": "white",
             "linecolor": "white",
             "minorgridcolor": "white",
             "startlinecolor": "#2a3f5f"
            },
            "baxis": {
             "endlinecolor": "#2a3f5f",
             "gridcolor": "white",
             "linecolor": "white",
             "minorgridcolor": "white",
             "startlinecolor": "#2a3f5f"
            },
            "type": "carpet"
           }
          ],
          "choropleth": [
           {
            "colorbar": {
             "outlinewidth": 0,
             "ticks": ""
            },
            "type": "choropleth"
           }
          ],
          "contour": [
           {
            "colorbar": {
             "outlinewidth": 0,
             "ticks": ""
            },
            "colorscale": [
             [
              0,
              "#0d0887"
             ],
             [
              0.1111111111111111,
              "#46039f"
             ],
             [
              0.2222222222222222,
              "#7201a8"
             ],
             [
              0.3333333333333333,
              "#9c179e"
             ],
             [
              0.4444444444444444,
              "#bd3786"
             ],
             [
              0.5555555555555556,
              "#d8576b"
             ],
             [
              0.6666666666666666,
              "#ed7953"
             ],
             [
              0.7777777777777778,
              "#fb9f3a"
             ],
             [
              0.8888888888888888,
              "#fdca26"
             ],
             [
              1,
              "#f0f921"
             ]
            ],
            "type": "contour"
           }
          ],
          "contourcarpet": [
           {
            "colorbar": {
             "outlinewidth": 0,
             "ticks": ""
            },
            "type": "contourcarpet"
           }
          ],
          "heatmap": [
           {
            "colorbar": {
             "outlinewidth": 0,
             "ticks": ""
            },
            "colorscale": [
             [
              0,
              "#0d0887"
             ],
             [
              0.1111111111111111,
              "#46039f"
             ],
             [
              0.2222222222222222,
              "#7201a8"
             ],
             [
              0.3333333333333333,
              "#9c179e"
             ],
             [
              0.4444444444444444,
              "#bd3786"
             ],
             [
              0.5555555555555556,
              "#d8576b"
             ],
             [
              0.6666666666666666,
              "#ed7953"
             ],
             [
              0.7777777777777778,
              "#fb9f3a"
             ],
             [
              0.8888888888888888,
              "#fdca26"
             ],
             [
              1,
              "#f0f921"
             ]
            ],
            "type": "heatmap"
           }
          ],
          "heatmapgl": [
           {
            "colorbar": {
             "outlinewidth": 0,
             "ticks": ""
            },
            "colorscale": [
             [
              0,
              "#0d0887"
             ],
             [
              0.1111111111111111,
              "#46039f"
             ],
             [
              0.2222222222222222,
              "#7201a8"
             ],
             [
              0.3333333333333333,
              "#9c179e"
             ],
             [
              0.4444444444444444,
              "#bd3786"
             ],
             [
              0.5555555555555556,
              "#d8576b"
             ],
             [
              0.6666666666666666,
              "#ed7953"
             ],
             [
              0.7777777777777778,
              "#fb9f3a"
             ],
             [
              0.8888888888888888,
              "#fdca26"
             ],
             [
              1,
              "#f0f921"
             ]
            ],
            "type": "heatmapgl"
           }
          ],
          "histogram": [
           {
            "marker": {
             "pattern": {
              "fillmode": "overlay",
              "size": 10,
              "solidity": 0.2
             }
            },
            "type": "histogram"
           }
          ],
          "histogram2d": [
           {
            "colorbar": {
             "outlinewidth": 0,
             "ticks": ""
            },
            "colorscale": [
             [
              0,
              "#0d0887"
             ],
             [
              0.1111111111111111,
              "#46039f"
             ],
             [
              0.2222222222222222,
              "#7201a8"
             ],
             [
              0.3333333333333333,
              "#9c179e"
             ],
             [
              0.4444444444444444,
              "#bd3786"
             ],
             [
              0.5555555555555556,
              "#d8576b"
             ],
             [
              0.6666666666666666,
              "#ed7953"
             ],
             [
              0.7777777777777778,
              "#fb9f3a"
             ],
             [
              0.8888888888888888,
              "#fdca26"
             ],
             [
              1,
              "#f0f921"
             ]
            ],
            "type": "histogram2d"
           }
          ],
          "histogram2dcontour": [
           {
            "colorbar": {
             "outlinewidth": 0,
             "ticks": ""
            },
            "colorscale": [
             [
              0,
              "#0d0887"
             ],
             [
              0.1111111111111111,
              "#46039f"
             ],
             [
              0.2222222222222222,
              "#7201a8"
             ],
             [
              0.3333333333333333,
              "#9c179e"
             ],
             [
              0.4444444444444444,
              "#bd3786"
             ],
             [
              0.5555555555555556,
              "#d8576b"
             ],
             [
              0.6666666666666666,
              "#ed7953"
             ],
             [
              0.7777777777777778,
              "#fb9f3a"
             ],
             [
              0.8888888888888888,
              "#fdca26"
             ],
             [
              1,
              "#f0f921"
             ]
            ],
            "type": "histogram2dcontour"
           }
          ],
          "mesh3d": [
           {
            "colorbar": {
             "outlinewidth": 0,
             "ticks": ""
            },
            "type": "mesh3d"
           }
          ],
          "parcoords": [
           {
            "line": {
             "colorbar": {
              "outlinewidth": 0,
              "ticks": ""
             }
            },
            "type": "parcoords"
           }
          ],
          "pie": [
           {
            "automargin": true,
            "type": "pie"
           }
          ],
          "scatter": [
           {
            "fillpattern": {
             "fillmode": "overlay",
             "size": 10,
             "solidity": 0.2
            },
            "type": "scatter"
           }
          ],
          "scatter3d": [
           {
            "line": {
             "colorbar": {
              "outlinewidth": 0,
              "ticks": ""
             }
            },
            "marker": {
             "colorbar": {
              "outlinewidth": 0,
              "ticks": ""
             }
            },
            "type": "scatter3d"
           }
          ],
          "scattercarpet": [
           {
            "marker": {
             "colorbar": {
              "outlinewidth": 0,
              "ticks": ""
             }
            },
            "type": "scattercarpet"
           }
          ],
          "scattergeo": [
           {
            "marker": {
             "colorbar": {
              "outlinewidth": 0,
              "ticks": ""
             }
            },
            "type": "scattergeo"
           }
          ],
          "scattergl": [
           {
            "marker": {
             "colorbar": {
              "outlinewidth": 0,
              "ticks": ""
             }
            },
            "type": "scattergl"
           }
          ],
          "scattermapbox": [
           {
            "marker": {
             "colorbar": {
              "outlinewidth": 0,
              "ticks": ""
             }
            },
            "type": "scattermapbox"
           }
          ],
          "scatterpolar": [
           {
            "marker": {
             "colorbar": {
              "outlinewidth": 0,
              "ticks": ""
             }
            },
            "type": "scatterpolar"
           }
          ],
          "scatterpolargl": [
           {
            "marker": {
             "colorbar": {
              "outlinewidth": 0,
              "ticks": ""
             }
            },
            "type": "scatterpolargl"
           }
          ],
          "scatterternary": [
           {
            "marker": {
             "colorbar": {
              "outlinewidth": 0,
              "ticks": ""
             }
            },
            "type": "scatterternary"
           }
          ],
          "surface": [
           {
            "colorbar": {
             "outlinewidth": 0,
             "ticks": ""
            },
            "colorscale": [
             [
              0,
              "#0d0887"
             ],
             [
              0.1111111111111111,
              "#46039f"
             ],
             [
              0.2222222222222222,
              "#7201a8"
             ],
             [
              0.3333333333333333,
              "#9c179e"
             ],
             [
              0.4444444444444444,
              "#bd3786"
             ],
             [
              0.5555555555555556,
              "#d8576b"
             ],
             [
              0.6666666666666666,
              "#ed7953"
             ],
             [
              0.7777777777777778,
              "#fb9f3a"
             ],
             [
              0.8888888888888888,
              "#fdca26"
             ],
             [
              1,
              "#f0f921"
             ]
            ],
            "type": "surface"
           }
          ],
          "table": [
           {
            "cells": {
             "fill": {
              "color": "#EBF0F8"
             },
             "line": {
              "color": "white"
             }
            },
            "header": {
             "fill": {
              "color": "#C8D4E3"
             },
             "line": {
              "color": "white"
             }
            },
            "type": "table"
           }
          ]
         },
         "layout": {
          "annotationdefaults": {
           "arrowcolor": "#2a3f5f",
           "arrowhead": 0,
           "arrowwidth": 1
          },
          "autotypenumbers": "strict",
          "coloraxis": {
           "colorbar": {
            "outlinewidth": 0,
            "ticks": ""
           }
          },
          "colorscale": {
           "diverging": [
            [
             0,
             "#8e0152"
            ],
            [
             0.1,
             "#c51b7d"
            ],
            [
             0.2,
             "#de77ae"
            ],
            [
             0.3,
             "#f1b6da"
            ],
            [
             0.4,
             "#fde0ef"
            ],
            [
             0.5,
             "#f7f7f7"
            ],
            [
             0.6,
             "#e6f5d0"
            ],
            [
             0.7,
             "#b8e186"
            ],
            [
             0.8,
             "#7fbc41"
            ],
            [
             0.9,
             "#4d9221"
            ],
            [
             1,
             "#276419"
            ]
           ],
           "sequential": [
            [
             0,
             "#0d0887"
            ],
            [
             0.1111111111111111,
             "#46039f"
            ],
            [
             0.2222222222222222,
             "#7201a8"
            ],
            [
             0.3333333333333333,
             "#9c179e"
            ],
            [
             0.4444444444444444,
             "#bd3786"
            ],
            [
             0.5555555555555556,
             "#d8576b"
            ],
            [
             0.6666666666666666,
             "#ed7953"
            ],
            [
             0.7777777777777778,
             "#fb9f3a"
            ],
            [
             0.8888888888888888,
             "#fdca26"
            ],
            [
             1,
             "#f0f921"
            ]
           ],
           "sequentialminus": [
            [
             0,
             "#0d0887"
            ],
            [
             0.1111111111111111,
             "#46039f"
            ],
            [
             0.2222222222222222,
             "#7201a8"
            ],
            [
             0.3333333333333333,
             "#9c179e"
            ],
            [
             0.4444444444444444,
             "#bd3786"
            ],
            [
             0.5555555555555556,
             "#d8576b"
            ],
            [
             0.6666666666666666,
             "#ed7953"
            ],
            [
             0.7777777777777778,
             "#fb9f3a"
            ],
            [
             0.8888888888888888,
             "#fdca26"
            ],
            [
             1,
             "#f0f921"
            ]
           ]
          },
          "colorway": [
           "#636efa",
           "#EF553B",
           "#00cc96",
           "#ab63fa",
           "#FFA15A",
           "#19d3f3",
           "#FF6692",
           "#B6E880",
           "#FF97FF",
           "#FECB52"
          ],
          "font": {
           "color": "#2a3f5f"
          },
          "geo": {
           "bgcolor": "white",
           "lakecolor": "white",
           "landcolor": "#E5ECF6",
           "showlakes": true,
           "showland": true,
           "subunitcolor": "white"
          },
          "hoverlabel": {
           "align": "left"
          },
          "hovermode": "closest",
          "mapbox": {
           "style": "light"
          },
          "paper_bgcolor": "white",
          "plot_bgcolor": "#E5ECF6",
          "polar": {
           "angularaxis": {
            "gridcolor": "white",
            "linecolor": "white",
            "ticks": ""
           },
           "bgcolor": "#E5ECF6",
           "radialaxis": {
            "gridcolor": "white",
            "linecolor": "white",
            "ticks": ""
           }
          },
          "scene": {
           "xaxis": {
            "backgroundcolor": "#E5ECF6",
            "gridcolor": "white",
            "gridwidth": 2,
            "linecolor": "white",
            "showbackground": true,
            "ticks": "",
            "zerolinecolor": "white"
           },
           "yaxis": {
            "backgroundcolor": "#E5ECF6",
            "gridcolor": "white",
            "gridwidth": 2,
            "linecolor": "white",
            "showbackground": true,
            "ticks": "",
            "zerolinecolor": "white"
           },
           "zaxis": {
            "backgroundcolor": "#E5ECF6",
            "gridcolor": "white",
            "gridwidth": 2,
            "linecolor": "white",
            "showbackground": true,
            "ticks": "",
            "zerolinecolor": "white"
           }
          },
          "shapedefaults": {
           "line": {
            "color": "#2a3f5f"
           }
          },
          "ternary": {
           "aaxis": {
            "gridcolor": "white",
            "linecolor": "white",
            "ticks": ""
           },
           "baxis": {
            "gridcolor": "white",
            "linecolor": "white",
            "ticks": ""
           },
           "bgcolor": "#E5ECF6",
           "caxis": {
            "gridcolor": "white",
            "linecolor": "white",
            "ticks": ""
           }
          },
          "title": {
           "x": 0.05
          },
          "xaxis": {
           "automargin": true,
           "gridcolor": "white",
           "linecolor": "white",
           "ticks": "",
           "title": {
            "standoff": 15
           },
           "zerolinecolor": "white",
           "zerolinewidth": 2
          },
          "yaxis": {
           "automargin": true,
           "gridcolor": "white",
           "linecolor": "white",
           "ticks": "",
           "title": {
            "standoff": 15
           },
           "zerolinecolor": "white",
           "zerolinewidth": 2
          }
         }
        },
        "title": {
         "text": "Distribution of Spam and Ham Messages"
        },
        "xaxis": {
         "anchor": "y",
         "domain": [
          0,
          1
         ],
         "title": {
          "text": "label"
         }
        },
        "yaxis": {
         "anchor": "x",
         "domain": [
          0,
          1
         ],
         "title": {
          "text": "count"
         }
        }
       }
      }
     },
     "metadata": {},
     "output_type": "display_data"
    }
   ],
   "source": [
    "import plotly.express as px\n",
    "\n",
    "fig = px.histogram(data, x='label', title='Distribution of Spam and Ham Messages')\n",
    "fig.show()"
   ]
  },
  {
   "cell_type": "code",
   "execution_count": 91,
   "metadata": {},
   "outputs": [],
   "source": [
    "def show_most_common_words(data, title='Most Common Words'):\n",
    "    most_common_words = pd.Series(' '.join(data).lower().split()).value_counts()[:20]\n",
    "    fig = px.bar(x=most_common_words.index, y=most_common_words.values, title=title)\n",
    "    fig.show()"
   ]
  },
  {
   "cell_type": "code",
   "execution_count": 92,
   "metadata": {},
   "outputs": [
    {
     "data": {
      "application/vnd.plotly.v1+json": {
       "config": {
        "plotlyServerURL": "https://plot.ly"
       },
       "data": [
        {
         "alignmentgroup": "True",
         "hovertemplate": "x=%{x}<br>y=%{y}<extra></extra>",
         "legendgroup": "",
         "marker": {
          "color": "#636efa",
          "pattern": {
           "shape": ""
          }
         },
         "name": "",
         "offsetgroup": "",
         "orientation": "v",
         "showlegend": false,
         "textposition": "auto",
         "type": "bar",
         "x": [
          "to",
          "i",
          "you",
          "a",
          "the",
          "u",
          "and",
          "is",
          "in",
          "my",
          "for",
          "your",
          "of",
          "me",
          "have",
          "call",
          "on",
          "are",
          "that",
          "it"
         ],
         "xaxis": "x",
         "y": [
          2226,
          2208,
          1917,
          1419,
          1317,
          991,
          967,
          862,
          855,
          751,
          697,
          676,
          613,
          605,
          568,
          557,
          520,
          485,
          468,
          465
         ],
         "yaxis": "y"
        }
       ],
       "layout": {
        "barmode": "relative",
        "legend": {
         "tracegroupgap": 0
        },
        "template": {
         "data": {
          "bar": [
           {
            "error_x": {
             "color": "#2a3f5f"
            },
            "error_y": {
             "color": "#2a3f5f"
            },
            "marker": {
             "line": {
              "color": "#E5ECF6",
              "width": 0.5
             },
             "pattern": {
              "fillmode": "overlay",
              "size": 10,
              "solidity": 0.2
             }
            },
            "type": "bar"
           }
          ],
          "barpolar": [
           {
            "marker": {
             "line": {
              "color": "#E5ECF6",
              "width": 0.5
             },
             "pattern": {
              "fillmode": "overlay",
              "size": 10,
              "solidity": 0.2
             }
            },
            "type": "barpolar"
           }
          ],
          "carpet": [
           {
            "aaxis": {
             "endlinecolor": "#2a3f5f",
             "gridcolor": "white",
             "linecolor": "white",
             "minorgridcolor": "white",
             "startlinecolor": "#2a3f5f"
            },
            "baxis": {
             "endlinecolor": "#2a3f5f",
             "gridcolor": "white",
             "linecolor": "white",
             "minorgridcolor": "white",
             "startlinecolor": "#2a3f5f"
            },
            "type": "carpet"
           }
          ],
          "choropleth": [
           {
            "colorbar": {
             "outlinewidth": 0,
             "ticks": ""
            },
            "type": "choropleth"
           }
          ],
          "contour": [
           {
            "colorbar": {
             "outlinewidth": 0,
             "ticks": ""
            },
            "colorscale": [
             [
              0,
              "#0d0887"
             ],
             [
              0.1111111111111111,
              "#46039f"
             ],
             [
              0.2222222222222222,
              "#7201a8"
             ],
             [
              0.3333333333333333,
              "#9c179e"
             ],
             [
              0.4444444444444444,
              "#bd3786"
             ],
             [
              0.5555555555555556,
              "#d8576b"
             ],
             [
              0.6666666666666666,
              "#ed7953"
             ],
             [
              0.7777777777777778,
              "#fb9f3a"
             ],
             [
              0.8888888888888888,
              "#fdca26"
             ],
             [
              1,
              "#f0f921"
             ]
            ],
            "type": "contour"
           }
          ],
          "contourcarpet": [
           {
            "colorbar": {
             "outlinewidth": 0,
             "ticks": ""
            },
            "type": "contourcarpet"
           }
          ],
          "heatmap": [
           {
            "colorbar": {
             "outlinewidth": 0,
             "ticks": ""
            },
            "colorscale": [
             [
              0,
              "#0d0887"
             ],
             [
              0.1111111111111111,
              "#46039f"
             ],
             [
              0.2222222222222222,
              "#7201a8"
             ],
             [
              0.3333333333333333,
              "#9c179e"
             ],
             [
              0.4444444444444444,
              "#bd3786"
             ],
             [
              0.5555555555555556,
              "#d8576b"
             ],
             [
              0.6666666666666666,
              "#ed7953"
             ],
             [
              0.7777777777777778,
              "#fb9f3a"
             ],
             [
              0.8888888888888888,
              "#fdca26"
             ],
             [
              1,
              "#f0f921"
             ]
            ],
            "type": "heatmap"
           }
          ],
          "heatmapgl": [
           {
            "colorbar": {
             "outlinewidth": 0,
             "ticks": ""
            },
            "colorscale": [
             [
              0,
              "#0d0887"
             ],
             [
              0.1111111111111111,
              "#46039f"
             ],
             [
              0.2222222222222222,
              "#7201a8"
             ],
             [
              0.3333333333333333,
              "#9c179e"
             ],
             [
              0.4444444444444444,
              "#bd3786"
             ],
             [
              0.5555555555555556,
              "#d8576b"
             ],
             [
              0.6666666666666666,
              "#ed7953"
             ],
             [
              0.7777777777777778,
              "#fb9f3a"
             ],
             [
              0.8888888888888888,
              "#fdca26"
             ],
             [
              1,
              "#f0f921"
             ]
            ],
            "type": "heatmapgl"
           }
          ],
          "histogram": [
           {
            "marker": {
             "pattern": {
              "fillmode": "overlay",
              "size": 10,
              "solidity": 0.2
             }
            },
            "type": "histogram"
           }
          ],
          "histogram2d": [
           {
            "colorbar": {
             "outlinewidth": 0,
             "ticks": ""
            },
            "colorscale": [
             [
              0,
              "#0d0887"
             ],
             [
              0.1111111111111111,
              "#46039f"
             ],
             [
              0.2222222222222222,
              "#7201a8"
             ],
             [
              0.3333333333333333,
              "#9c179e"
             ],
             [
              0.4444444444444444,
              "#bd3786"
             ],
             [
              0.5555555555555556,
              "#d8576b"
             ],
             [
              0.6666666666666666,
              "#ed7953"
             ],
             [
              0.7777777777777778,
              "#fb9f3a"
             ],
             [
              0.8888888888888888,
              "#fdca26"
             ],
             [
              1,
              "#f0f921"
             ]
            ],
            "type": "histogram2d"
           }
          ],
          "histogram2dcontour": [
           {
            "colorbar": {
             "outlinewidth": 0,
             "ticks": ""
            },
            "colorscale": [
             [
              0,
              "#0d0887"
             ],
             [
              0.1111111111111111,
              "#46039f"
             ],
             [
              0.2222222222222222,
              "#7201a8"
             ],
             [
              0.3333333333333333,
              "#9c179e"
             ],
             [
              0.4444444444444444,
              "#bd3786"
             ],
             [
              0.5555555555555556,
              "#d8576b"
             ],
             [
              0.6666666666666666,
              "#ed7953"
             ],
             [
              0.7777777777777778,
              "#fb9f3a"
             ],
             [
              0.8888888888888888,
              "#fdca26"
             ],
             [
              1,
              "#f0f921"
             ]
            ],
            "type": "histogram2dcontour"
           }
          ],
          "mesh3d": [
           {
            "colorbar": {
             "outlinewidth": 0,
             "ticks": ""
            },
            "type": "mesh3d"
           }
          ],
          "parcoords": [
           {
            "line": {
             "colorbar": {
              "outlinewidth": 0,
              "ticks": ""
             }
            },
            "type": "parcoords"
           }
          ],
          "pie": [
           {
            "automargin": true,
            "type": "pie"
           }
          ],
          "scatter": [
           {
            "fillpattern": {
             "fillmode": "overlay",
             "size": 10,
             "solidity": 0.2
            },
            "type": "scatter"
           }
          ],
          "scatter3d": [
           {
            "line": {
             "colorbar": {
              "outlinewidth": 0,
              "ticks": ""
             }
            },
            "marker": {
             "colorbar": {
              "outlinewidth": 0,
              "ticks": ""
             }
            },
            "type": "scatter3d"
           }
          ],
          "scattercarpet": [
           {
            "marker": {
             "colorbar": {
              "outlinewidth": 0,
              "ticks": ""
             }
            },
            "type": "scattercarpet"
           }
          ],
          "scattergeo": [
           {
            "marker": {
             "colorbar": {
              "outlinewidth": 0,
              "ticks": ""
             }
            },
            "type": "scattergeo"
           }
          ],
          "scattergl": [
           {
            "marker": {
             "colorbar": {
              "outlinewidth": 0,
              "ticks": ""
             }
            },
            "type": "scattergl"
           }
          ],
          "scattermapbox": [
           {
            "marker": {
             "colorbar": {
              "outlinewidth": 0,
              "ticks": ""
             }
            },
            "type": "scattermapbox"
           }
          ],
          "scatterpolar": [
           {
            "marker": {
             "colorbar": {
              "outlinewidth": 0,
              "ticks": ""
             }
            },
            "type": "scatterpolar"
           }
          ],
          "scatterpolargl": [
           {
            "marker": {
             "colorbar": {
              "outlinewidth": 0,
              "ticks": ""
             }
            },
            "type": "scatterpolargl"
           }
          ],
          "scatterternary": [
           {
            "marker": {
             "colorbar": {
              "outlinewidth": 0,
              "ticks": ""
             }
            },
            "type": "scatterternary"
           }
          ],
          "surface": [
           {
            "colorbar": {
             "outlinewidth": 0,
             "ticks": ""
            },
            "colorscale": [
             [
              0,
              "#0d0887"
             ],
             [
              0.1111111111111111,
              "#46039f"
             ],
             [
              0.2222222222222222,
              "#7201a8"
             ],
             [
              0.3333333333333333,
              "#9c179e"
             ],
             [
              0.4444444444444444,
              "#bd3786"
             ],
             [
              0.5555555555555556,
              "#d8576b"
             ],
             [
              0.6666666666666666,
              "#ed7953"
             ],
             [
              0.7777777777777778,
              "#fb9f3a"
             ],
             [
              0.8888888888888888,
              "#fdca26"
             ],
             [
              1,
              "#f0f921"
             ]
            ],
            "type": "surface"
           }
          ],
          "table": [
           {
            "cells": {
             "fill": {
              "color": "#EBF0F8"
             },
             "line": {
              "color": "white"
             }
            },
            "header": {
             "fill": {
              "color": "#C8D4E3"
             },
             "line": {
              "color": "white"
             }
            },
            "type": "table"
           }
          ]
         },
         "layout": {
          "annotationdefaults": {
           "arrowcolor": "#2a3f5f",
           "arrowhead": 0,
           "arrowwidth": 1
          },
          "autotypenumbers": "strict",
          "coloraxis": {
           "colorbar": {
            "outlinewidth": 0,
            "ticks": ""
           }
          },
          "colorscale": {
           "diverging": [
            [
             0,
             "#8e0152"
            ],
            [
             0.1,
             "#c51b7d"
            ],
            [
             0.2,
             "#de77ae"
            ],
            [
             0.3,
             "#f1b6da"
            ],
            [
             0.4,
             "#fde0ef"
            ],
            [
             0.5,
             "#f7f7f7"
            ],
            [
             0.6,
             "#e6f5d0"
            ],
            [
             0.7,
             "#b8e186"
            ],
            [
             0.8,
             "#7fbc41"
            ],
            [
             0.9,
             "#4d9221"
            ],
            [
             1,
             "#276419"
            ]
           ],
           "sequential": [
            [
             0,
             "#0d0887"
            ],
            [
             0.1111111111111111,
             "#46039f"
            ],
            [
             0.2222222222222222,
             "#7201a8"
            ],
            [
             0.3333333333333333,
             "#9c179e"
            ],
            [
             0.4444444444444444,
             "#bd3786"
            ],
            [
             0.5555555555555556,
             "#d8576b"
            ],
            [
             0.6666666666666666,
             "#ed7953"
            ],
            [
             0.7777777777777778,
             "#fb9f3a"
            ],
            [
             0.8888888888888888,
             "#fdca26"
            ],
            [
             1,
             "#f0f921"
            ]
           ],
           "sequentialminus": [
            [
             0,
             "#0d0887"
            ],
            [
             0.1111111111111111,
             "#46039f"
            ],
            [
             0.2222222222222222,
             "#7201a8"
            ],
            [
             0.3333333333333333,
             "#9c179e"
            ],
            [
             0.4444444444444444,
             "#bd3786"
            ],
            [
             0.5555555555555556,
             "#d8576b"
            ],
            [
             0.6666666666666666,
             "#ed7953"
            ],
            [
             0.7777777777777778,
             "#fb9f3a"
            ],
            [
             0.8888888888888888,
             "#fdca26"
            ],
            [
             1,
             "#f0f921"
            ]
           ]
          },
          "colorway": [
           "#636efa",
           "#EF553B",
           "#00cc96",
           "#ab63fa",
           "#FFA15A",
           "#19d3f3",
           "#FF6692",
           "#B6E880",
           "#FF97FF",
           "#FECB52"
          ],
          "font": {
           "color": "#2a3f5f"
          },
          "geo": {
           "bgcolor": "white",
           "lakecolor": "white",
           "landcolor": "#E5ECF6",
           "showlakes": true,
           "showland": true,
           "subunitcolor": "white"
          },
          "hoverlabel": {
           "align": "left"
          },
          "hovermode": "closest",
          "mapbox": {
           "style": "light"
          },
          "paper_bgcolor": "white",
          "plot_bgcolor": "#E5ECF6",
          "polar": {
           "angularaxis": {
            "gridcolor": "white",
            "linecolor": "white",
            "ticks": ""
           },
           "bgcolor": "#E5ECF6",
           "radialaxis": {
            "gridcolor": "white",
            "linecolor": "white",
            "ticks": ""
           }
          },
          "scene": {
           "xaxis": {
            "backgroundcolor": "#E5ECF6",
            "gridcolor": "white",
            "gridwidth": 2,
            "linecolor": "white",
            "showbackground": true,
            "ticks": "",
            "zerolinecolor": "white"
           },
           "yaxis": {
            "backgroundcolor": "#E5ECF6",
            "gridcolor": "white",
            "gridwidth": 2,
            "linecolor": "white",
            "showbackground": true,
            "ticks": "",
            "zerolinecolor": "white"
           },
           "zaxis": {
            "backgroundcolor": "#E5ECF6",
            "gridcolor": "white",
            "gridwidth": 2,
            "linecolor": "white",
            "showbackground": true,
            "ticks": "",
            "zerolinecolor": "white"
           }
          },
          "shapedefaults": {
           "line": {
            "color": "#2a3f5f"
           }
          },
          "ternary": {
           "aaxis": {
            "gridcolor": "white",
            "linecolor": "white",
            "ticks": ""
           },
           "baxis": {
            "gridcolor": "white",
            "linecolor": "white",
            "ticks": ""
           },
           "bgcolor": "#E5ECF6",
           "caxis": {
            "gridcolor": "white",
            "linecolor": "white",
            "ticks": ""
           }
          },
          "title": {
           "x": 0.05
          },
          "xaxis": {
           "automargin": true,
           "gridcolor": "white",
           "linecolor": "white",
           "ticks": "",
           "title": {
            "standoff": 15
           },
           "zerolinecolor": "white",
           "zerolinewidth": 2
          },
          "yaxis": {
           "automargin": true,
           "gridcolor": "white",
           "linecolor": "white",
           "ticks": "",
           "title": {
            "standoff": 15
           },
           "zerolinecolor": "white",
           "zerolinewidth": 2
          }
         }
        },
        "title": {
         "text": "Most Common Words in the Dataset"
        },
        "xaxis": {
         "anchor": "y",
         "domain": [
          0,
          1
         ],
         "title": {
          "text": "x"
         }
        },
        "yaxis": {
         "anchor": "x",
         "domain": [
          0,
          1
         ],
         "title": {
          "text": "y"
         }
        }
       }
      }
     },
     "metadata": {},
     "output_type": "display_data"
    }
   ],
   "source": [
    "show_most_common_words(data['text'], title='Most Common Words in the Dataset')"
   ]
  },
  {
   "cell_type": "code",
   "execution_count": 93,
   "metadata": {},
   "outputs": [
    {
     "data": {
      "application/vnd.plotly.v1+json": {
       "config": {
        "plotlyServerURL": "https://plot.ly"
       },
       "data": [
        {
         "alignmentgroup": "True",
         "hovertemplate": "x=%{x}<br>y=%{y}<extra></extra>",
         "legendgroup": "",
         "marker": {
          "color": "#636efa",
          "pattern": {
           "shape": ""
          }
         },
         "name": "",
         "offsetgroup": "",
         "orientation": "v",
         "showlegend": false,
         "textposition": "auto",
         "type": "bar",
         "x": [
          "to",
          "a",
          "call",
          "your",
          "you",
          "the",
          "for",
          "or",
          "free",
          "2",
          "is",
          "ur",
          "on",
          "txt",
          "have",
          "from",
          "and",
          "u",
          "text",
          "mobile"
         ],
         "xaxis": "x",
         "y": [
          682,
          373,
          342,
          263,
          252,
          204,
          201,
          188,
          180,
          169,
          152,
          144,
          141,
          136,
          135,
          127,
          122,
          117,
          112,
          109
         ],
         "yaxis": "y"
        }
       ],
       "layout": {
        "barmode": "relative",
        "legend": {
         "tracegroupgap": 0
        },
        "template": {
         "data": {
          "bar": [
           {
            "error_x": {
             "color": "#2a3f5f"
            },
            "error_y": {
             "color": "#2a3f5f"
            },
            "marker": {
             "line": {
              "color": "#E5ECF6",
              "width": 0.5
             },
             "pattern": {
              "fillmode": "overlay",
              "size": 10,
              "solidity": 0.2
             }
            },
            "type": "bar"
           }
          ],
          "barpolar": [
           {
            "marker": {
             "line": {
              "color": "#E5ECF6",
              "width": 0.5
             },
             "pattern": {
              "fillmode": "overlay",
              "size": 10,
              "solidity": 0.2
             }
            },
            "type": "barpolar"
           }
          ],
          "carpet": [
           {
            "aaxis": {
             "endlinecolor": "#2a3f5f",
             "gridcolor": "white",
             "linecolor": "white",
             "minorgridcolor": "white",
             "startlinecolor": "#2a3f5f"
            },
            "baxis": {
             "endlinecolor": "#2a3f5f",
             "gridcolor": "white",
             "linecolor": "white",
             "minorgridcolor": "white",
             "startlinecolor": "#2a3f5f"
            },
            "type": "carpet"
           }
          ],
          "choropleth": [
           {
            "colorbar": {
             "outlinewidth": 0,
             "ticks": ""
            },
            "type": "choropleth"
           }
          ],
          "contour": [
           {
            "colorbar": {
             "outlinewidth": 0,
             "ticks": ""
            },
            "colorscale": [
             [
              0,
              "#0d0887"
             ],
             [
              0.1111111111111111,
              "#46039f"
             ],
             [
              0.2222222222222222,
              "#7201a8"
             ],
             [
              0.3333333333333333,
              "#9c179e"
             ],
             [
              0.4444444444444444,
              "#bd3786"
             ],
             [
              0.5555555555555556,
              "#d8576b"
             ],
             [
              0.6666666666666666,
              "#ed7953"
             ],
             [
              0.7777777777777778,
              "#fb9f3a"
             ],
             [
              0.8888888888888888,
              "#fdca26"
             ],
             [
              1,
              "#f0f921"
             ]
            ],
            "type": "contour"
           }
          ],
          "contourcarpet": [
           {
            "colorbar": {
             "outlinewidth": 0,
             "ticks": ""
            },
            "type": "contourcarpet"
           }
          ],
          "heatmap": [
           {
            "colorbar": {
             "outlinewidth": 0,
             "ticks": ""
            },
            "colorscale": [
             [
              0,
              "#0d0887"
             ],
             [
              0.1111111111111111,
              "#46039f"
             ],
             [
              0.2222222222222222,
              "#7201a8"
             ],
             [
              0.3333333333333333,
              "#9c179e"
             ],
             [
              0.4444444444444444,
              "#bd3786"
             ],
             [
              0.5555555555555556,
              "#d8576b"
             ],
             [
              0.6666666666666666,
              "#ed7953"
             ],
             [
              0.7777777777777778,
              "#fb9f3a"
             ],
             [
              0.8888888888888888,
              "#fdca26"
             ],
             [
              1,
              "#f0f921"
             ]
            ],
            "type": "heatmap"
           }
          ],
          "heatmapgl": [
           {
            "colorbar": {
             "outlinewidth": 0,
             "ticks": ""
            },
            "colorscale": [
             [
              0,
              "#0d0887"
             ],
             [
              0.1111111111111111,
              "#46039f"
             ],
             [
              0.2222222222222222,
              "#7201a8"
             ],
             [
              0.3333333333333333,
              "#9c179e"
             ],
             [
              0.4444444444444444,
              "#bd3786"
             ],
             [
              0.5555555555555556,
              "#d8576b"
             ],
             [
              0.6666666666666666,
              "#ed7953"
             ],
             [
              0.7777777777777778,
              "#fb9f3a"
             ],
             [
              0.8888888888888888,
              "#fdca26"
             ],
             [
              1,
              "#f0f921"
             ]
            ],
            "type": "heatmapgl"
           }
          ],
          "histogram": [
           {
            "marker": {
             "pattern": {
              "fillmode": "overlay",
              "size": 10,
              "solidity": 0.2
             }
            },
            "type": "histogram"
           }
          ],
          "histogram2d": [
           {
            "colorbar": {
             "outlinewidth": 0,
             "ticks": ""
            },
            "colorscale": [
             [
              0,
              "#0d0887"
             ],
             [
              0.1111111111111111,
              "#46039f"
             ],
             [
              0.2222222222222222,
              "#7201a8"
             ],
             [
              0.3333333333333333,
              "#9c179e"
             ],
             [
              0.4444444444444444,
              "#bd3786"
             ],
             [
              0.5555555555555556,
              "#d8576b"
             ],
             [
              0.6666666666666666,
              "#ed7953"
             ],
             [
              0.7777777777777778,
              "#fb9f3a"
             ],
             [
              0.8888888888888888,
              "#fdca26"
             ],
             [
              1,
              "#f0f921"
             ]
            ],
            "type": "histogram2d"
           }
          ],
          "histogram2dcontour": [
           {
            "colorbar": {
             "outlinewidth": 0,
             "ticks": ""
            },
            "colorscale": [
             [
              0,
              "#0d0887"
             ],
             [
              0.1111111111111111,
              "#46039f"
             ],
             [
              0.2222222222222222,
              "#7201a8"
             ],
             [
              0.3333333333333333,
              "#9c179e"
             ],
             [
              0.4444444444444444,
              "#bd3786"
             ],
             [
              0.5555555555555556,
              "#d8576b"
             ],
             [
              0.6666666666666666,
              "#ed7953"
             ],
             [
              0.7777777777777778,
              "#fb9f3a"
             ],
             [
              0.8888888888888888,
              "#fdca26"
             ],
             [
              1,
              "#f0f921"
             ]
            ],
            "type": "histogram2dcontour"
           }
          ],
          "mesh3d": [
           {
            "colorbar": {
             "outlinewidth": 0,
             "ticks": ""
            },
            "type": "mesh3d"
           }
          ],
          "parcoords": [
           {
            "line": {
             "colorbar": {
              "outlinewidth": 0,
              "ticks": ""
             }
            },
            "type": "parcoords"
           }
          ],
          "pie": [
           {
            "automargin": true,
            "type": "pie"
           }
          ],
          "scatter": [
           {
            "fillpattern": {
             "fillmode": "overlay",
             "size": 10,
             "solidity": 0.2
            },
            "type": "scatter"
           }
          ],
          "scatter3d": [
           {
            "line": {
             "colorbar": {
              "outlinewidth": 0,
              "ticks": ""
             }
            },
            "marker": {
             "colorbar": {
              "outlinewidth": 0,
              "ticks": ""
             }
            },
            "type": "scatter3d"
           }
          ],
          "scattercarpet": [
           {
            "marker": {
             "colorbar": {
              "outlinewidth": 0,
              "ticks": ""
             }
            },
            "type": "scattercarpet"
           }
          ],
          "scattergeo": [
           {
            "marker": {
             "colorbar": {
              "outlinewidth": 0,
              "ticks": ""
             }
            },
            "type": "scattergeo"
           }
          ],
          "scattergl": [
           {
            "marker": {
             "colorbar": {
              "outlinewidth": 0,
              "ticks": ""
             }
            },
            "type": "scattergl"
           }
          ],
          "scattermapbox": [
           {
            "marker": {
             "colorbar": {
              "outlinewidth": 0,
              "ticks": ""
             }
            },
            "type": "scattermapbox"
           }
          ],
          "scatterpolar": [
           {
            "marker": {
             "colorbar": {
              "outlinewidth": 0,
              "ticks": ""
             }
            },
            "type": "scatterpolar"
           }
          ],
          "scatterpolargl": [
           {
            "marker": {
             "colorbar": {
              "outlinewidth": 0,
              "ticks": ""
             }
            },
            "type": "scatterpolargl"
           }
          ],
          "scatterternary": [
           {
            "marker": {
             "colorbar": {
              "outlinewidth": 0,
              "ticks": ""
             }
            },
            "type": "scatterternary"
           }
          ],
          "surface": [
           {
            "colorbar": {
             "outlinewidth": 0,
             "ticks": ""
            },
            "colorscale": [
             [
              0,
              "#0d0887"
             ],
             [
              0.1111111111111111,
              "#46039f"
             ],
             [
              0.2222222222222222,
              "#7201a8"
             ],
             [
              0.3333333333333333,
              "#9c179e"
             ],
             [
              0.4444444444444444,
              "#bd3786"
             ],
             [
              0.5555555555555556,
              "#d8576b"
             ],
             [
              0.6666666666666666,
              "#ed7953"
             ],
             [
              0.7777777777777778,
              "#fb9f3a"
             ],
             [
              0.8888888888888888,
              "#fdca26"
             ],
             [
              1,
              "#f0f921"
             ]
            ],
            "type": "surface"
           }
          ],
          "table": [
           {
            "cells": {
             "fill": {
              "color": "#EBF0F8"
             },
             "line": {
              "color": "white"
             }
            },
            "header": {
             "fill": {
              "color": "#C8D4E3"
             },
             "line": {
              "color": "white"
             }
            },
            "type": "table"
           }
          ]
         },
         "layout": {
          "annotationdefaults": {
           "arrowcolor": "#2a3f5f",
           "arrowhead": 0,
           "arrowwidth": 1
          },
          "autotypenumbers": "strict",
          "coloraxis": {
           "colorbar": {
            "outlinewidth": 0,
            "ticks": ""
           }
          },
          "colorscale": {
           "diverging": [
            [
             0,
             "#8e0152"
            ],
            [
             0.1,
             "#c51b7d"
            ],
            [
             0.2,
             "#de77ae"
            ],
            [
             0.3,
             "#f1b6da"
            ],
            [
             0.4,
             "#fde0ef"
            ],
            [
             0.5,
             "#f7f7f7"
            ],
            [
             0.6,
             "#e6f5d0"
            ],
            [
             0.7,
             "#b8e186"
            ],
            [
             0.8,
             "#7fbc41"
            ],
            [
             0.9,
             "#4d9221"
            ],
            [
             1,
             "#276419"
            ]
           ],
           "sequential": [
            [
             0,
             "#0d0887"
            ],
            [
             0.1111111111111111,
             "#46039f"
            ],
            [
             0.2222222222222222,
             "#7201a8"
            ],
            [
             0.3333333333333333,
             "#9c179e"
            ],
            [
             0.4444444444444444,
             "#bd3786"
            ],
            [
             0.5555555555555556,
             "#d8576b"
            ],
            [
             0.6666666666666666,
             "#ed7953"
            ],
            [
             0.7777777777777778,
             "#fb9f3a"
            ],
            [
             0.8888888888888888,
             "#fdca26"
            ],
            [
             1,
             "#f0f921"
            ]
           ],
           "sequentialminus": [
            [
             0,
             "#0d0887"
            ],
            [
             0.1111111111111111,
             "#46039f"
            ],
            [
             0.2222222222222222,
             "#7201a8"
            ],
            [
             0.3333333333333333,
             "#9c179e"
            ],
            [
             0.4444444444444444,
             "#bd3786"
            ],
            [
             0.5555555555555556,
             "#d8576b"
            ],
            [
             0.6666666666666666,
             "#ed7953"
            ],
            [
             0.7777777777777778,
             "#fb9f3a"
            ],
            [
             0.8888888888888888,
             "#fdca26"
            ],
            [
             1,
             "#f0f921"
            ]
           ]
          },
          "colorway": [
           "#636efa",
           "#EF553B",
           "#00cc96",
           "#ab63fa",
           "#FFA15A",
           "#19d3f3",
           "#FF6692",
           "#B6E880",
           "#FF97FF",
           "#FECB52"
          ],
          "font": {
           "color": "#2a3f5f"
          },
          "geo": {
           "bgcolor": "white",
           "lakecolor": "white",
           "landcolor": "#E5ECF6",
           "showlakes": true,
           "showland": true,
           "subunitcolor": "white"
          },
          "hoverlabel": {
           "align": "left"
          },
          "hovermode": "closest",
          "mapbox": {
           "style": "light"
          },
          "paper_bgcolor": "white",
          "plot_bgcolor": "#E5ECF6",
          "polar": {
           "angularaxis": {
            "gridcolor": "white",
            "linecolor": "white",
            "ticks": ""
           },
           "bgcolor": "#E5ECF6",
           "radialaxis": {
            "gridcolor": "white",
            "linecolor": "white",
            "ticks": ""
           }
          },
          "scene": {
           "xaxis": {
            "backgroundcolor": "#E5ECF6",
            "gridcolor": "white",
            "gridwidth": 2,
            "linecolor": "white",
            "showbackground": true,
            "ticks": "",
            "zerolinecolor": "white"
           },
           "yaxis": {
            "backgroundcolor": "#E5ECF6",
            "gridcolor": "white",
            "gridwidth": 2,
            "linecolor": "white",
            "showbackground": true,
            "ticks": "",
            "zerolinecolor": "white"
           },
           "zaxis": {
            "backgroundcolor": "#E5ECF6",
            "gridcolor": "white",
            "gridwidth": 2,
            "linecolor": "white",
            "showbackground": true,
            "ticks": "",
            "zerolinecolor": "white"
           }
          },
          "shapedefaults": {
           "line": {
            "color": "#2a3f5f"
           }
          },
          "ternary": {
           "aaxis": {
            "gridcolor": "white",
            "linecolor": "white",
            "ticks": ""
           },
           "baxis": {
            "gridcolor": "white",
            "linecolor": "white",
            "ticks": ""
           },
           "bgcolor": "#E5ECF6",
           "caxis": {
            "gridcolor": "white",
            "linecolor": "white",
            "ticks": ""
           }
          },
          "title": {
           "x": 0.05
          },
          "xaxis": {
           "automargin": true,
           "gridcolor": "white",
           "linecolor": "white",
           "ticks": "",
           "title": {
            "standoff": 15
           },
           "zerolinecolor": "white",
           "zerolinewidth": 2
          },
          "yaxis": {
           "automargin": true,
           "gridcolor": "white",
           "linecolor": "white",
           "ticks": "",
           "title": {
            "standoff": 15
           },
           "zerolinecolor": "white",
           "zerolinewidth": 2
          }
         }
        },
        "title": {
         "text": "Most Common Words in Spam Messages"
        },
        "xaxis": {
         "anchor": "y",
         "domain": [
          0,
          1
         ],
         "title": {
          "text": "x"
         }
        },
        "yaxis": {
         "anchor": "x",
         "domain": [
          0,
          1
         ],
         "title": {
          "text": "y"
         }
        }
       }
      }
     },
     "metadata": {},
     "output_type": "display_data"
    }
   ],
   "source": [
    "show_most_common_words(data[data['label'] == 'spam']['text'], title='Most Common Words in Spam Messages')"
   ]
  },
  {
   "cell_type": "code",
   "execution_count": 94,
   "metadata": {},
   "outputs": [
    {
     "data": {
      "application/vnd.plotly.v1+json": {
       "config": {
        "plotlyServerURL": "https://plot.ly"
       },
       "data": [
        {
         "alignmentgroup": "True",
         "hovertemplate": "x=%{x}<br>y=%{y}<extra></extra>",
         "legendgroup": "",
         "marker": {
          "color": "#636efa",
          "pattern": {
           "shape": ""
          }
         },
         "name": "",
         "offsetgroup": "",
         "orientation": "v",
         "showlegend": false,
         "textposition": "auto",
         "type": "bar",
         "x": [
          "to",
          "a",
          "call",
          "your",
          "you",
          "the",
          "for",
          "or",
          "free",
          "2",
          "is",
          "ur",
          "on",
          "txt",
          "have",
          "from",
          "and",
          "u",
          "text",
          "mobile"
         ],
         "xaxis": "x",
         "y": [
          682,
          373,
          342,
          263,
          252,
          204,
          201,
          188,
          180,
          169,
          152,
          144,
          141,
          136,
          135,
          127,
          122,
          117,
          112,
          109
         ],
         "yaxis": "y"
        }
       ],
       "layout": {
        "barmode": "relative",
        "legend": {
         "tracegroupgap": 0
        },
        "template": {
         "data": {
          "bar": [
           {
            "error_x": {
             "color": "#2a3f5f"
            },
            "error_y": {
             "color": "#2a3f5f"
            },
            "marker": {
             "line": {
              "color": "#E5ECF6",
              "width": 0.5
             },
             "pattern": {
              "fillmode": "overlay",
              "size": 10,
              "solidity": 0.2
             }
            },
            "type": "bar"
           }
          ],
          "barpolar": [
           {
            "marker": {
             "line": {
              "color": "#E5ECF6",
              "width": 0.5
             },
             "pattern": {
              "fillmode": "overlay",
              "size": 10,
              "solidity": 0.2
             }
            },
            "type": "barpolar"
           }
          ],
          "carpet": [
           {
            "aaxis": {
             "endlinecolor": "#2a3f5f",
             "gridcolor": "white",
             "linecolor": "white",
             "minorgridcolor": "white",
             "startlinecolor": "#2a3f5f"
            },
            "baxis": {
             "endlinecolor": "#2a3f5f",
             "gridcolor": "white",
             "linecolor": "white",
             "minorgridcolor": "white",
             "startlinecolor": "#2a3f5f"
            },
            "type": "carpet"
           }
          ],
          "choropleth": [
           {
            "colorbar": {
             "outlinewidth": 0,
             "ticks": ""
            },
            "type": "choropleth"
           }
          ],
          "contour": [
           {
            "colorbar": {
             "outlinewidth": 0,
             "ticks": ""
            },
            "colorscale": [
             [
              0,
              "#0d0887"
             ],
             [
              0.1111111111111111,
              "#46039f"
             ],
             [
              0.2222222222222222,
              "#7201a8"
             ],
             [
              0.3333333333333333,
              "#9c179e"
             ],
             [
              0.4444444444444444,
              "#bd3786"
             ],
             [
              0.5555555555555556,
              "#d8576b"
             ],
             [
              0.6666666666666666,
              "#ed7953"
             ],
             [
              0.7777777777777778,
              "#fb9f3a"
             ],
             [
              0.8888888888888888,
              "#fdca26"
             ],
             [
              1,
              "#f0f921"
             ]
            ],
            "type": "contour"
           }
          ],
          "contourcarpet": [
           {
            "colorbar": {
             "outlinewidth": 0,
             "ticks": ""
            },
            "type": "contourcarpet"
           }
          ],
          "heatmap": [
           {
            "colorbar": {
             "outlinewidth": 0,
             "ticks": ""
            },
            "colorscale": [
             [
              0,
              "#0d0887"
             ],
             [
              0.1111111111111111,
              "#46039f"
             ],
             [
              0.2222222222222222,
              "#7201a8"
             ],
             [
              0.3333333333333333,
              "#9c179e"
             ],
             [
              0.4444444444444444,
              "#bd3786"
             ],
             [
              0.5555555555555556,
              "#d8576b"
             ],
             [
              0.6666666666666666,
              "#ed7953"
             ],
             [
              0.7777777777777778,
              "#fb9f3a"
             ],
             [
              0.8888888888888888,
              "#fdca26"
             ],
             [
              1,
              "#f0f921"
             ]
            ],
            "type": "heatmap"
           }
          ],
          "heatmapgl": [
           {
            "colorbar": {
             "outlinewidth": 0,
             "ticks": ""
            },
            "colorscale": [
             [
              0,
              "#0d0887"
             ],
             [
              0.1111111111111111,
              "#46039f"
             ],
             [
              0.2222222222222222,
              "#7201a8"
             ],
             [
              0.3333333333333333,
              "#9c179e"
             ],
             [
              0.4444444444444444,
              "#bd3786"
             ],
             [
              0.5555555555555556,
              "#d8576b"
             ],
             [
              0.6666666666666666,
              "#ed7953"
             ],
             [
              0.7777777777777778,
              "#fb9f3a"
             ],
             [
              0.8888888888888888,
              "#fdca26"
             ],
             [
              1,
              "#f0f921"
             ]
            ],
            "type": "heatmapgl"
           }
          ],
          "histogram": [
           {
            "marker": {
             "pattern": {
              "fillmode": "overlay",
              "size": 10,
              "solidity": 0.2
             }
            },
            "type": "histogram"
           }
          ],
          "histogram2d": [
           {
            "colorbar": {
             "outlinewidth": 0,
             "ticks": ""
            },
            "colorscale": [
             [
              0,
              "#0d0887"
             ],
             [
              0.1111111111111111,
              "#46039f"
             ],
             [
              0.2222222222222222,
              "#7201a8"
             ],
             [
              0.3333333333333333,
              "#9c179e"
             ],
             [
              0.4444444444444444,
              "#bd3786"
             ],
             [
              0.5555555555555556,
              "#d8576b"
             ],
             [
              0.6666666666666666,
              "#ed7953"
             ],
             [
              0.7777777777777778,
              "#fb9f3a"
             ],
             [
              0.8888888888888888,
              "#fdca26"
             ],
             [
              1,
              "#f0f921"
             ]
            ],
            "type": "histogram2d"
           }
          ],
          "histogram2dcontour": [
           {
            "colorbar": {
             "outlinewidth": 0,
             "ticks": ""
            },
            "colorscale": [
             [
              0,
              "#0d0887"
             ],
             [
              0.1111111111111111,
              "#46039f"
             ],
             [
              0.2222222222222222,
              "#7201a8"
             ],
             [
              0.3333333333333333,
              "#9c179e"
             ],
             [
              0.4444444444444444,
              "#bd3786"
             ],
             [
              0.5555555555555556,
              "#d8576b"
             ],
             [
              0.6666666666666666,
              "#ed7953"
             ],
             [
              0.7777777777777778,
              "#fb9f3a"
             ],
             [
              0.8888888888888888,
              "#fdca26"
             ],
             [
              1,
              "#f0f921"
             ]
            ],
            "type": "histogram2dcontour"
           }
          ],
          "mesh3d": [
           {
            "colorbar": {
             "outlinewidth": 0,
             "ticks": ""
            },
            "type": "mesh3d"
           }
          ],
          "parcoords": [
           {
            "line": {
             "colorbar": {
              "outlinewidth": 0,
              "ticks": ""
             }
            },
            "type": "parcoords"
           }
          ],
          "pie": [
           {
            "automargin": true,
            "type": "pie"
           }
          ],
          "scatter": [
           {
            "fillpattern": {
             "fillmode": "overlay",
             "size": 10,
             "solidity": 0.2
            },
            "type": "scatter"
           }
          ],
          "scatter3d": [
           {
            "line": {
             "colorbar": {
              "outlinewidth": 0,
              "ticks": ""
             }
            },
            "marker": {
             "colorbar": {
              "outlinewidth": 0,
              "ticks": ""
             }
            },
            "type": "scatter3d"
           }
          ],
          "scattercarpet": [
           {
            "marker": {
             "colorbar": {
              "outlinewidth": 0,
              "ticks": ""
             }
            },
            "type": "scattercarpet"
           }
          ],
          "scattergeo": [
           {
            "marker": {
             "colorbar": {
              "outlinewidth": 0,
              "ticks": ""
             }
            },
            "type": "scattergeo"
           }
          ],
          "scattergl": [
           {
            "marker": {
             "colorbar": {
              "outlinewidth": 0,
              "ticks": ""
             }
            },
            "type": "scattergl"
           }
          ],
          "scattermapbox": [
           {
            "marker": {
             "colorbar": {
              "outlinewidth": 0,
              "ticks": ""
             }
            },
            "type": "scattermapbox"
           }
          ],
          "scatterpolar": [
           {
            "marker": {
             "colorbar": {
              "outlinewidth": 0,
              "ticks": ""
             }
            },
            "type": "scatterpolar"
           }
          ],
          "scatterpolargl": [
           {
            "marker": {
             "colorbar": {
              "outlinewidth": 0,
              "ticks": ""
             }
            },
            "type": "scatterpolargl"
           }
          ],
          "scatterternary": [
           {
            "marker": {
             "colorbar": {
              "outlinewidth": 0,
              "ticks": ""
             }
            },
            "type": "scatterternary"
           }
          ],
          "surface": [
           {
            "colorbar": {
             "outlinewidth": 0,
             "ticks": ""
            },
            "colorscale": [
             [
              0,
              "#0d0887"
             ],
             [
              0.1111111111111111,
              "#46039f"
             ],
             [
              0.2222222222222222,
              "#7201a8"
             ],
             [
              0.3333333333333333,
              "#9c179e"
             ],
             [
              0.4444444444444444,
              "#bd3786"
             ],
             [
              0.5555555555555556,
              "#d8576b"
             ],
             [
              0.6666666666666666,
              "#ed7953"
             ],
             [
              0.7777777777777778,
              "#fb9f3a"
             ],
             [
              0.8888888888888888,
              "#fdca26"
             ],
             [
              1,
              "#f0f921"
             ]
            ],
            "type": "surface"
           }
          ],
          "table": [
           {
            "cells": {
             "fill": {
              "color": "#EBF0F8"
             },
             "line": {
              "color": "white"
             }
            },
            "header": {
             "fill": {
              "color": "#C8D4E3"
             },
             "line": {
              "color": "white"
             }
            },
            "type": "table"
           }
          ]
         },
         "layout": {
          "annotationdefaults": {
           "arrowcolor": "#2a3f5f",
           "arrowhead": 0,
           "arrowwidth": 1
          },
          "autotypenumbers": "strict",
          "coloraxis": {
           "colorbar": {
            "outlinewidth": 0,
            "ticks": ""
           }
          },
          "colorscale": {
           "diverging": [
            [
             0,
             "#8e0152"
            ],
            [
             0.1,
             "#c51b7d"
            ],
            [
             0.2,
             "#de77ae"
            ],
            [
             0.3,
             "#f1b6da"
            ],
            [
             0.4,
             "#fde0ef"
            ],
            [
             0.5,
             "#f7f7f7"
            ],
            [
             0.6,
             "#e6f5d0"
            ],
            [
             0.7,
             "#b8e186"
            ],
            [
             0.8,
             "#7fbc41"
            ],
            [
             0.9,
             "#4d9221"
            ],
            [
             1,
             "#276419"
            ]
           ],
           "sequential": [
            [
             0,
             "#0d0887"
            ],
            [
             0.1111111111111111,
             "#46039f"
            ],
            [
             0.2222222222222222,
             "#7201a8"
            ],
            [
             0.3333333333333333,
             "#9c179e"
            ],
            [
             0.4444444444444444,
             "#bd3786"
            ],
            [
             0.5555555555555556,
             "#d8576b"
            ],
            [
             0.6666666666666666,
             "#ed7953"
            ],
            [
             0.7777777777777778,
             "#fb9f3a"
            ],
            [
             0.8888888888888888,
             "#fdca26"
            ],
            [
             1,
             "#f0f921"
            ]
           ],
           "sequentialminus": [
            [
             0,
             "#0d0887"
            ],
            [
             0.1111111111111111,
             "#46039f"
            ],
            [
             0.2222222222222222,
             "#7201a8"
            ],
            [
             0.3333333333333333,
             "#9c179e"
            ],
            [
             0.4444444444444444,
             "#bd3786"
            ],
            [
             0.5555555555555556,
             "#d8576b"
            ],
            [
             0.6666666666666666,
             "#ed7953"
            ],
            [
             0.7777777777777778,
             "#fb9f3a"
            ],
            [
             0.8888888888888888,
             "#fdca26"
            ],
            [
             1,
             "#f0f921"
            ]
           ]
          },
          "colorway": [
           "#636efa",
           "#EF553B",
           "#00cc96",
           "#ab63fa",
           "#FFA15A",
           "#19d3f3",
           "#FF6692",
           "#B6E880",
           "#FF97FF",
           "#FECB52"
          ],
          "font": {
           "color": "#2a3f5f"
          },
          "geo": {
           "bgcolor": "white",
           "lakecolor": "white",
           "landcolor": "#E5ECF6",
           "showlakes": true,
           "showland": true,
           "subunitcolor": "white"
          },
          "hoverlabel": {
           "align": "left"
          },
          "hovermode": "closest",
          "mapbox": {
           "style": "light"
          },
          "paper_bgcolor": "white",
          "plot_bgcolor": "#E5ECF6",
          "polar": {
           "angularaxis": {
            "gridcolor": "white",
            "linecolor": "white",
            "ticks": ""
           },
           "bgcolor": "#E5ECF6",
           "radialaxis": {
            "gridcolor": "white",
            "linecolor": "white",
            "ticks": ""
           }
          },
          "scene": {
           "xaxis": {
            "backgroundcolor": "#E5ECF6",
            "gridcolor": "white",
            "gridwidth": 2,
            "linecolor": "white",
            "showbackground": true,
            "ticks": "",
            "zerolinecolor": "white"
           },
           "yaxis": {
            "backgroundcolor": "#E5ECF6",
            "gridcolor": "white",
            "gridwidth": 2,
            "linecolor": "white",
            "showbackground": true,
            "ticks": "",
            "zerolinecolor": "white"
           },
           "zaxis": {
            "backgroundcolor": "#E5ECF6",
            "gridcolor": "white",
            "gridwidth": 2,
            "linecolor": "white",
            "showbackground": true,
            "ticks": "",
            "zerolinecolor": "white"
           }
          },
          "shapedefaults": {
           "line": {
            "color": "#2a3f5f"
           }
          },
          "ternary": {
           "aaxis": {
            "gridcolor": "white",
            "linecolor": "white",
            "ticks": ""
           },
           "baxis": {
            "gridcolor": "white",
            "linecolor": "white",
            "ticks": ""
           },
           "bgcolor": "#E5ECF6",
           "caxis": {
            "gridcolor": "white",
            "linecolor": "white",
            "ticks": ""
           }
          },
          "title": {
           "x": 0.05
          },
          "xaxis": {
           "automargin": true,
           "gridcolor": "white",
           "linecolor": "white",
           "ticks": "",
           "title": {
            "standoff": 15
           },
           "zerolinecolor": "white",
           "zerolinewidth": 2
          },
          "yaxis": {
           "automargin": true,
           "gridcolor": "white",
           "linecolor": "white",
           "ticks": "",
           "title": {
            "standoff": 15
           },
           "zerolinecolor": "white",
           "zerolinewidth": 2
          }
         }
        },
        "title": {
         "text": "Most Common Words in Spam Messages"
        },
        "xaxis": {
         "anchor": "y",
         "domain": [
          0,
          1
         ],
         "title": {
          "text": "x"
         }
        },
        "yaxis": {
         "anchor": "x",
         "domain": [
          0,
          1
         ],
         "title": {
          "text": "y"
         }
        }
       }
      }
     },
     "metadata": {},
     "output_type": "display_data"
    }
   ],
   "source": [
    "show_most_common_words(data[data['label'] == 'spam']['text'], title='Most Common Words in Spam Messages')"
   ]
  },
  {
   "cell_type": "markdown",
   "metadata": {},
   "source": [
    "We can see that in both classes there are many stopwords. We will remove them."
   ]
  },
  {
   "cell_type": "code",
   "execution_count": 95,
   "metadata": {},
   "outputs": [
    {
     "name": "stderr",
     "output_type": "stream",
     "text": [
      "[nltk_data] Downloading package stopwords to\n",
      "[nltk_data]     C:\\Users\\Dell\\AppData\\Roaming\\nltk_data...\n",
      "[nltk_data]   Package stopwords is already up-to-date!\n",
      "[nltk_data] Downloading package punkt to\n",
      "[nltk_data]     C:\\Users\\Dell\\AppData\\Roaming\\nltk_data...\n",
      "[nltk_data]   Package punkt is already up-to-date!\n"
     ]
    },
    {
     "data": {
      "text/html": [
       "<div>\n",
       "<style scoped>\n",
       "    .dataframe tbody tr th:only-of-type {\n",
       "        vertical-align: middle;\n",
       "    }\n",
       "\n",
       "    .dataframe tbody tr th {\n",
       "        vertical-align: top;\n",
       "    }\n",
       "\n",
       "    .dataframe thead th {\n",
       "        text-align: right;\n",
       "    }\n",
       "</style>\n",
       "<table border=\"1\" class=\"dataframe\">\n",
       "  <thead>\n",
       "    <tr style=\"text-align: right;\">\n",
       "      <th></th>\n",
       "      <th>label</th>\n",
       "      <th>text</th>\n",
       "    </tr>\n",
       "  </thead>\n",
       "  <tbody>\n",
       "    <tr>\n",
       "      <th>0</th>\n",
       "      <td>ham</td>\n",
       "      <td>go jurong point crazy .. available bugis n gre...</td>\n",
       "    </tr>\n",
       "    <tr>\n",
       "      <th>1</th>\n",
       "      <td>ham</td>\n",
       "      <td>ok lar ... joking wif u oni ...</td>\n",
       "    </tr>\n",
       "    <tr>\n",
       "      <th>2</th>\n",
       "      <td>spam</td>\n",
       "      <td>free entry 2 wkly comp win fa cup final tkts 2...</td>\n",
       "    </tr>\n",
       "    <tr>\n",
       "      <th>3</th>\n",
       "      <td>ham</td>\n",
       "      <td>u dun say early hor ... u c already say ...</td>\n",
       "    </tr>\n",
       "    <tr>\n",
       "      <th>4</th>\n",
       "      <td>ham</td>\n",
       "      <td>nah n't think goes usf lives around though</td>\n",
       "    </tr>\n",
       "  </tbody>\n",
       "</table>\n",
       "</div>"
      ],
      "text/plain": [
       "  label                                               text\n",
       "0   ham  go jurong point crazy .. available bugis n gre...\n",
       "1   ham                    ok lar ... joking wif u oni ...\n",
       "2  spam  free entry 2 wkly comp win fa cup final tkts 2...\n",
       "3   ham        u dun say early hor ... u c already say ...\n",
       "4   ham         nah n't think goes usf lives around though"
      ]
     },
     "execution_count": 95,
     "metadata": {},
     "output_type": "execute_result"
    }
   ],
   "source": [
    "import nltk\n",
    "from nltk.corpus import stopwords\n",
    "from nltk.tokenize import word_tokenize\n",
    "import string\n",
    "\n",
    "nltk.download('stopwords')\n",
    "nltk.download('punkt')\n",
    "\n",
    "stop_words = set(stopwords.words('english'))\n",
    "punctuation = set(string.punctuation)\n",
    "\n",
    "def clean_text(text):\n",
    "    text = text.lower()\n",
    "    text = word_tokenize(text)\n",
    "    text = [word for word in text if word not in stop_words and word not in punctuation]\n",
    "    text = ' '.join(text)\n",
    "    return text\n",
    "\n",
    "cleaned_data = data.copy()\n",
    "cleaned_data['text'] = cleaned_data['text'].apply(clean_text)\n",
    "cleaned_data.head()"
   ]
  },
  {
   "cell_type": "code",
   "execution_count": 96,
   "metadata": {},
   "outputs": [
    {
     "data": {
      "application/vnd.plotly.v1+json": {
       "config": {
        "plotlyServerURL": "https://plot.ly"
       },
       "data": [
        {
         "alignmentgroup": "True",
         "hovertemplate": "x=%{x}<br>y=%{y}<extra></extra>",
         "legendgroup": "",
         "marker": {
          "color": "#636efa",
          "pattern": {
           "shape": ""
          }
         },
         "name": "",
         "offsetgroup": "",
         "orientation": "v",
         "showlegend": false,
         "textposition": "auto",
         "type": "bar",
         "x": [
          "...",
          "u",
          "..",
          "call",
          "'s",
          "2",
          "'m",
          "get",
          "ur",
          "n't",
          "gt",
          "lt",
          "''",
          "4",
          "free",
          "go",
          "know",
          "ok",
          "got",
          "like"
         ],
         "xaxis": "x",
         "y": [
          1131,
          1120,
          681,
          576,
          494,
          474,
          395,
          385,
          381,
          362,
          318,
          316,
          288,
          283,
          278,
          278,
          261,
          250,
          249,
          244
         ],
         "yaxis": "y"
        }
       ],
       "layout": {
        "barmode": "relative",
        "legend": {
         "tracegroupgap": 0
        },
        "template": {
         "data": {
          "bar": [
           {
            "error_x": {
             "color": "#2a3f5f"
            },
            "error_y": {
             "color": "#2a3f5f"
            },
            "marker": {
             "line": {
              "color": "#E5ECF6",
              "width": 0.5
             },
             "pattern": {
              "fillmode": "overlay",
              "size": 10,
              "solidity": 0.2
             }
            },
            "type": "bar"
           }
          ],
          "barpolar": [
           {
            "marker": {
             "line": {
              "color": "#E5ECF6",
              "width": 0.5
             },
             "pattern": {
              "fillmode": "overlay",
              "size": 10,
              "solidity": 0.2
             }
            },
            "type": "barpolar"
           }
          ],
          "carpet": [
           {
            "aaxis": {
             "endlinecolor": "#2a3f5f",
             "gridcolor": "white",
             "linecolor": "white",
             "minorgridcolor": "white",
             "startlinecolor": "#2a3f5f"
            },
            "baxis": {
             "endlinecolor": "#2a3f5f",
             "gridcolor": "white",
             "linecolor": "white",
             "minorgridcolor": "white",
             "startlinecolor": "#2a3f5f"
            },
            "type": "carpet"
           }
          ],
          "choropleth": [
           {
            "colorbar": {
             "outlinewidth": 0,
             "ticks": ""
            },
            "type": "choropleth"
           }
          ],
          "contour": [
           {
            "colorbar": {
             "outlinewidth": 0,
             "ticks": ""
            },
            "colorscale": [
             [
              0,
              "#0d0887"
             ],
             [
              0.1111111111111111,
              "#46039f"
             ],
             [
              0.2222222222222222,
              "#7201a8"
             ],
             [
              0.3333333333333333,
              "#9c179e"
             ],
             [
              0.4444444444444444,
              "#bd3786"
             ],
             [
              0.5555555555555556,
              "#d8576b"
             ],
             [
              0.6666666666666666,
              "#ed7953"
             ],
             [
              0.7777777777777778,
              "#fb9f3a"
             ],
             [
              0.8888888888888888,
              "#fdca26"
             ],
             [
              1,
              "#f0f921"
             ]
            ],
            "type": "contour"
           }
          ],
          "contourcarpet": [
           {
            "colorbar": {
             "outlinewidth": 0,
             "ticks": ""
            },
            "type": "contourcarpet"
           }
          ],
          "heatmap": [
           {
            "colorbar": {
             "outlinewidth": 0,
             "ticks": ""
            },
            "colorscale": [
             [
              0,
              "#0d0887"
             ],
             [
              0.1111111111111111,
              "#46039f"
             ],
             [
              0.2222222222222222,
              "#7201a8"
             ],
             [
              0.3333333333333333,
              "#9c179e"
             ],
             [
              0.4444444444444444,
              "#bd3786"
             ],
             [
              0.5555555555555556,
              "#d8576b"
             ],
             [
              0.6666666666666666,
              "#ed7953"
             ],
             [
              0.7777777777777778,
              "#fb9f3a"
             ],
             [
              0.8888888888888888,
              "#fdca26"
             ],
             [
              1,
              "#f0f921"
             ]
            ],
            "type": "heatmap"
           }
          ],
          "heatmapgl": [
           {
            "colorbar": {
             "outlinewidth": 0,
             "ticks": ""
            },
            "colorscale": [
             [
              0,
              "#0d0887"
             ],
             [
              0.1111111111111111,
              "#46039f"
             ],
             [
              0.2222222222222222,
              "#7201a8"
             ],
             [
              0.3333333333333333,
              "#9c179e"
             ],
             [
              0.4444444444444444,
              "#bd3786"
             ],
             [
              0.5555555555555556,
              "#d8576b"
             ],
             [
              0.6666666666666666,
              "#ed7953"
             ],
             [
              0.7777777777777778,
              "#fb9f3a"
             ],
             [
              0.8888888888888888,
              "#fdca26"
             ],
             [
              1,
              "#f0f921"
             ]
            ],
            "type": "heatmapgl"
           }
          ],
          "histogram": [
           {
            "marker": {
             "pattern": {
              "fillmode": "overlay",
              "size": 10,
              "solidity": 0.2
             }
            },
            "type": "histogram"
           }
          ],
          "histogram2d": [
           {
            "colorbar": {
             "outlinewidth": 0,
             "ticks": ""
            },
            "colorscale": [
             [
              0,
              "#0d0887"
             ],
             [
              0.1111111111111111,
              "#46039f"
             ],
             [
              0.2222222222222222,
              "#7201a8"
             ],
             [
              0.3333333333333333,
              "#9c179e"
             ],
             [
              0.4444444444444444,
              "#bd3786"
             ],
             [
              0.5555555555555556,
              "#d8576b"
             ],
             [
              0.6666666666666666,
              "#ed7953"
             ],
             [
              0.7777777777777778,
              "#fb9f3a"
             ],
             [
              0.8888888888888888,
              "#fdca26"
             ],
             [
              1,
              "#f0f921"
             ]
            ],
            "type": "histogram2d"
           }
          ],
          "histogram2dcontour": [
           {
            "colorbar": {
             "outlinewidth": 0,
             "ticks": ""
            },
            "colorscale": [
             [
              0,
              "#0d0887"
             ],
             [
              0.1111111111111111,
              "#46039f"
             ],
             [
              0.2222222222222222,
              "#7201a8"
             ],
             [
              0.3333333333333333,
              "#9c179e"
             ],
             [
              0.4444444444444444,
              "#bd3786"
             ],
             [
              0.5555555555555556,
              "#d8576b"
             ],
             [
              0.6666666666666666,
              "#ed7953"
             ],
             [
              0.7777777777777778,
              "#fb9f3a"
             ],
             [
              0.8888888888888888,
              "#fdca26"
             ],
             [
              1,
              "#f0f921"
             ]
            ],
            "type": "histogram2dcontour"
           }
          ],
          "mesh3d": [
           {
            "colorbar": {
             "outlinewidth": 0,
             "ticks": ""
            },
            "type": "mesh3d"
           }
          ],
          "parcoords": [
           {
            "line": {
             "colorbar": {
              "outlinewidth": 0,
              "ticks": ""
             }
            },
            "type": "parcoords"
           }
          ],
          "pie": [
           {
            "automargin": true,
            "type": "pie"
           }
          ],
          "scatter": [
           {
            "fillpattern": {
             "fillmode": "overlay",
             "size": 10,
             "solidity": 0.2
            },
            "type": "scatter"
           }
          ],
          "scatter3d": [
           {
            "line": {
             "colorbar": {
              "outlinewidth": 0,
              "ticks": ""
             }
            },
            "marker": {
             "colorbar": {
              "outlinewidth": 0,
              "ticks": ""
             }
            },
            "type": "scatter3d"
           }
          ],
          "scattercarpet": [
           {
            "marker": {
             "colorbar": {
              "outlinewidth": 0,
              "ticks": ""
             }
            },
            "type": "scattercarpet"
           }
          ],
          "scattergeo": [
           {
            "marker": {
             "colorbar": {
              "outlinewidth": 0,
              "ticks": ""
             }
            },
            "type": "scattergeo"
           }
          ],
          "scattergl": [
           {
            "marker": {
             "colorbar": {
              "outlinewidth": 0,
              "ticks": ""
             }
            },
            "type": "scattergl"
           }
          ],
          "scattermapbox": [
           {
            "marker": {
             "colorbar": {
              "outlinewidth": 0,
              "ticks": ""
             }
            },
            "type": "scattermapbox"
           }
          ],
          "scatterpolar": [
           {
            "marker": {
             "colorbar": {
              "outlinewidth": 0,
              "ticks": ""
             }
            },
            "type": "scatterpolar"
           }
          ],
          "scatterpolargl": [
           {
            "marker": {
             "colorbar": {
              "outlinewidth": 0,
              "ticks": ""
             }
            },
            "type": "scatterpolargl"
           }
          ],
          "scatterternary": [
           {
            "marker": {
             "colorbar": {
              "outlinewidth": 0,
              "ticks": ""
             }
            },
            "type": "scatterternary"
           }
          ],
          "surface": [
           {
            "colorbar": {
             "outlinewidth": 0,
             "ticks": ""
            },
            "colorscale": [
             [
              0,
              "#0d0887"
             ],
             [
              0.1111111111111111,
              "#46039f"
             ],
             [
              0.2222222222222222,
              "#7201a8"
             ],
             [
              0.3333333333333333,
              "#9c179e"
             ],
             [
              0.4444444444444444,
              "#bd3786"
             ],
             [
              0.5555555555555556,
              "#d8576b"
             ],
             [
              0.6666666666666666,
              "#ed7953"
             ],
             [
              0.7777777777777778,
              "#fb9f3a"
             ],
             [
              0.8888888888888888,
              "#fdca26"
             ],
             [
              1,
              "#f0f921"
             ]
            ],
            "type": "surface"
           }
          ],
          "table": [
           {
            "cells": {
             "fill": {
              "color": "#EBF0F8"
             },
             "line": {
              "color": "white"
             }
            },
            "header": {
             "fill": {
              "color": "#C8D4E3"
             },
             "line": {
              "color": "white"
             }
            },
            "type": "table"
           }
          ]
         },
         "layout": {
          "annotationdefaults": {
           "arrowcolor": "#2a3f5f",
           "arrowhead": 0,
           "arrowwidth": 1
          },
          "autotypenumbers": "strict",
          "coloraxis": {
           "colorbar": {
            "outlinewidth": 0,
            "ticks": ""
           }
          },
          "colorscale": {
           "diverging": [
            [
             0,
             "#8e0152"
            ],
            [
             0.1,
             "#c51b7d"
            ],
            [
             0.2,
             "#de77ae"
            ],
            [
             0.3,
             "#f1b6da"
            ],
            [
             0.4,
             "#fde0ef"
            ],
            [
             0.5,
             "#f7f7f7"
            ],
            [
             0.6,
             "#e6f5d0"
            ],
            [
             0.7,
             "#b8e186"
            ],
            [
             0.8,
             "#7fbc41"
            ],
            [
             0.9,
             "#4d9221"
            ],
            [
             1,
             "#276419"
            ]
           ],
           "sequential": [
            [
             0,
             "#0d0887"
            ],
            [
             0.1111111111111111,
             "#46039f"
            ],
            [
             0.2222222222222222,
             "#7201a8"
            ],
            [
             0.3333333333333333,
             "#9c179e"
            ],
            [
             0.4444444444444444,
             "#bd3786"
            ],
            [
             0.5555555555555556,
             "#d8576b"
            ],
            [
             0.6666666666666666,
             "#ed7953"
            ],
            [
             0.7777777777777778,
             "#fb9f3a"
            ],
            [
             0.8888888888888888,
             "#fdca26"
            ],
            [
             1,
             "#f0f921"
            ]
           ],
           "sequentialminus": [
            [
             0,
             "#0d0887"
            ],
            [
             0.1111111111111111,
             "#46039f"
            ],
            [
             0.2222222222222222,
             "#7201a8"
            ],
            [
             0.3333333333333333,
             "#9c179e"
            ],
            [
             0.4444444444444444,
             "#bd3786"
            ],
            [
             0.5555555555555556,
             "#d8576b"
            ],
            [
             0.6666666666666666,
             "#ed7953"
            ],
            [
             0.7777777777777778,
             "#fb9f3a"
            ],
            [
             0.8888888888888888,
             "#fdca26"
            ],
            [
             1,
             "#f0f921"
            ]
           ]
          },
          "colorway": [
           "#636efa",
           "#EF553B",
           "#00cc96",
           "#ab63fa",
           "#FFA15A",
           "#19d3f3",
           "#FF6692",
           "#B6E880",
           "#FF97FF",
           "#FECB52"
          ],
          "font": {
           "color": "#2a3f5f"
          },
          "geo": {
           "bgcolor": "white",
           "lakecolor": "white",
           "landcolor": "#E5ECF6",
           "showlakes": true,
           "showland": true,
           "subunitcolor": "white"
          },
          "hoverlabel": {
           "align": "left"
          },
          "hovermode": "closest",
          "mapbox": {
           "style": "light"
          },
          "paper_bgcolor": "white",
          "plot_bgcolor": "#E5ECF6",
          "polar": {
           "angularaxis": {
            "gridcolor": "white",
            "linecolor": "white",
            "ticks": ""
           },
           "bgcolor": "#E5ECF6",
           "radialaxis": {
            "gridcolor": "white",
            "linecolor": "white",
            "ticks": ""
           }
          },
          "scene": {
           "xaxis": {
            "backgroundcolor": "#E5ECF6",
            "gridcolor": "white",
            "gridwidth": 2,
            "linecolor": "white",
            "showbackground": true,
            "ticks": "",
            "zerolinecolor": "white"
           },
           "yaxis": {
            "backgroundcolor": "#E5ECF6",
            "gridcolor": "white",
            "gridwidth": 2,
            "linecolor": "white",
            "showbackground": true,
            "ticks": "",
            "zerolinecolor": "white"
           },
           "zaxis": {
            "backgroundcolor": "#E5ECF6",
            "gridcolor": "white",
            "gridwidth": 2,
            "linecolor": "white",
            "showbackground": true,
            "ticks": "",
            "zerolinecolor": "white"
           }
          },
          "shapedefaults": {
           "line": {
            "color": "#2a3f5f"
           }
          },
          "ternary": {
           "aaxis": {
            "gridcolor": "white",
            "linecolor": "white",
            "ticks": ""
           },
           "baxis": {
            "gridcolor": "white",
            "linecolor": "white",
            "ticks": ""
           },
           "bgcolor": "#E5ECF6",
           "caxis": {
            "gridcolor": "white",
            "linecolor": "white",
            "ticks": ""
           }
          },
          "title": {
           "x": 0.05
          },
          "xaxis": {
           "automargin": true,
           "gridcolor": "white",
           "linecolor": "white",
           "ticks": "",
           "title": {
            "standoff": 15
           },
           "zerolinecolor": "white",
           "zerolinewidth": 2
          },
          "yaxis": {
           "automargin": true,
           "gridcolor": "white",
           "linecolor": "white",
           "ticks": "",
           "title": {
            "standoff": 15
           },
           "zerolinecolor": "white",
           "zerolinewidth": 2
          }
         }
        },
        "title": {
         "text": "Most Common Words in the cleaned Dataset"
        },
        "xaxis": {
         "anchor": "y",
         "domain": [
          0,
          1
         ],
         "title": {
          "text": "x"
         }
        },
        "yaxis": {
         "anchor": "x",
         "domain": [
          0,
          1
         ],
         "title": {
          "text": "y"
         }
        }
       }
      }
     },
     "metadata": {},
     "output_type": "display_data"
    }
   ],
   "source": [
    "show_most_common_words(cleaned_data['text'], title='Most Common Words in the cleaned Dataset')"
   ]
  },
  {
   "cell_type": "code",
   "execution_count": 97,
   "metadata": {},
   "outputs": [
    {
     "data": {
      "application/vnd.plotly.v1+json": {
       "config": {
        "plotlyServerURL": "https://plot.ly"
       },
       "data": [
        {
         "alignmentgroup": "True",
         "hovertemplate": "x=%{x}<br>y=%{y}<extra></extra>",
         "legendgroup": "",
         "marker": {
          "color": "#636efa",
          "pattern": {
           "shape": ""
          }
         },
         "name": "",
         "offsetgroup": "",
         "orientation": "v",
         "showlegend": false,
         "textposition": "auto",
         "type": "bar",
         "x": [
          "call",
          "free",
          "2",
          "txt",
          "ur",
          "u",
          "mobile",
          "text",
          "4",
          "stop",
          "claim",
          "reply",
          "prize",
          "get",
          "'s",
          "new",
          "send",
          "nokia",
          "urgent",
          "cash"
         ],
         "xaxis": "x",
         "y": [
          346,
          219,
          174,
          156,
          144,
          141,
          123,
          121,
          120,
          114,
          113,
          104,
          92,
          84,
          72,
          69,
          68,
          65,
          62,
          62
         ],
         "yaxis": "y"
        }
       ],
       "layout": {
        "barmode": "relative",
        "legend": {
         "tracegroupgap": 0
        },
        "template": {
         "data": {
          "bar": [
           {
            "error_x": {
             "color": "#2a3f5f"
            },
            "error_y": {
             "color": "#2a3f5f"
            },
            "marker": {
             "line": {
              "color": "#E5ECF6",
              "width": 0.5
             },
             "pattern": {
              "fillmode": "overlay",
              "size": 10,
              "solidity": 0.2
             }
            },
            "type": "bar"
           }
          ],
          "barpolar": [
           {
            "marker": {
             "line": {
              "color": "#E5ECF6",
              "width": 0.5
             },
             "pattern": {
              "fillmode": "overlay",
              "size": 10,
              "solidity": 0.2
             }
            },
            "type": "barpolar"
           }
          ],
          "carpet": [
           {
            "aaxis": {
             "endlinecolor": "#2a3f5f",
             "gridcolor": "white",
             "linecolor": "white",
             "minorgridcolor": "white",
             "startlinecolor": "#2a3f5f"
            },
            "baxis": {
             "endlinecolor": "#2a3f5f",
             "gridcolor": "white",
             "linecolor": "white",
             "minorgridcolor": "white",
             "startlinecolor": "#2a3f5f"
            },
            "type": "carpet"
           }
          ],
          "choropleth": [
           {
            "colorbar": {
             "outlinewidth": 0,
             "ticks": ""
            },
            "type": "choropleth"
           }
          ],
          "contour": [
           {
            "colorbar": {
             "outlinewidth": 0,
             "ticks": ""
            },
            "colorscale": [
             [
              0,
              "#0d0887"
             ],
             [
              0.1111111111111111,
              "#46039f"
             ],
             [
              0.2222222222222222,
              "#7201a8"
             ],
             [
              0.3333333333333333,
              "#9c179e"
             ],
             [
              0.4444444444444444,
              "#bd3786"
             ],
             [
              0.5555555555555556,
              "#d8576b"
             ],
             [
              0.6666666666666666,
              "#ed7953"
             ],
             [
              0.7777777777777778,
              "#fb9f3a"
             ],
             [
              0.8888888888888888,
              "#fdca26"
             ],
             [
              1,
              "#f0f921"
             ]
            ],
            "type": "contour"
           }
          ],
          "contourcarpet": [
           {
            "colorbar": {
             "outlinewidth": 0,
             "ticks": ""
            },
            "type": "contourcarpet"
           }
          ],
          "heatmap": [
           {
            "colorbar": {
             "outlinewidth": 0,
             "ticks": ""
            },
            "colorscale": [
             [
              0,
              "#0d0887"
             ],
             [
              0.1111111111111111,
              "#46039f"
             ],
             [
              0.2222222222222222,
              "#7201a8"
             ],
             [
              0.3333333333333333,
              "#9c179e"
             ],
             [
              0.4444444444444444,
              "#bd3786"
             ],
             [
              0.5555555555555556,
              "#d8576b"
             ],
             [
              0.6666666666666666,
              "#ed7953"
             ],
             [
              0.7777777777777778,
              "#fb9f3a"
             ],
             [
              0.8888888888888888,
              "#fdca26"
             ],
             [
              1,
              "#f0f921"
             ]
            ],
            "type": "heatmap"
           }
          ],
          "heatmapgl": [
           {
            "colorbar": {
             "outlinewidth": 0,
             "ticks": ""
            },
            "colorscale": [
             [
              0,
              "#0d0887"
             ],
             [
              0.1111111111111111,
              "#46039f"
             ],
             [
              0.2222222222222222,
              "#7201a8"
             ],
             [
              0.3333333333333333,
              "#9c179e"
             ],
             [
              0.4444444444444444,
              "#bd3786"
             ],
             [
              0.5555555555555556,
              "#d8576b"
             ],
             [
              0.6666666666666666,
              "#ed7953"
             ],
             [
              0.7777777777777778,
              "#fb9f3a"
             ],
             [
              0.8888888888888888,
              "#fdca26"
             ],
             [
              1,
              "#f0f921"
             ]
            ],
            "type": "heatmapgl"
           }
          ],
          "histogram": [
           {
            "marker": {
             "pattern": {
              "fillmode": "overlay",
              "size": 10,
              "solidity": 0.2
             }
            },
            "type": "histogram"
           }
          ],
          "histogram2d": [
           {
            "colorbar": {
             "outlinewidth": 0,
             "ticks": ""
            },
            "colorscale": [
             [
              0,
              "#0d0887"
             ],
             [
              0.1111111111111111,
              "#46039f"
             ],
             [
              0.2222222222222222,
              "#7201a8"
             ],
             [
              0.3333333333333333,
              "#9c179e"
             ],
             [
              0.4444444444444444,
              "#bd3786"
             ],
             [
              0.5555555555555556,
              "#d8576b"
             ],
             [
              0.6666666666666666,
              "#ed7953"
             ],
             [
              0.7777777777777778,
              "#fb9f3a"
             ],
             [
              0.8888888888888888,
              "#fdca26"
             ],
             [
              1,
              "#f0f921"
             ]
            ],
            "type": "histogram2d"
           }
          ],
          "histogram2dcontour": [
           {
            "colorbar": {
             "outlinewidth": 0,
             "ticks": ""
            },
            "colorscale": [
             [
              0,
              "#0d0887"
             ],
             [
              0.1111111111111111,
              "#46039f"
             ],
             [
              0.2222222222222222,
              "#7201a8"
             ],
             [
              0.3333333333333333,
              "#9c179e"
             ],
             [
              0.4444444444444444,
              "#bd3786"
             ],
             [
              0.5555555555555556,
              "#d8576b"
             ],
             [
              0.6666666666666666,
              "#ed7953"
             ],
             [
              0.7777777777777778,
              "#fb9f3a"
             ],
             [
              0.8888888888888888,
              "#fdca26"
             ],
             [
              1,
              "#f0f921"
             ]
            ],
            "type": "histogram2dcontour"
           }
          ],
          "mesh3d": [
           {
            "colorbar": {
             "outlinewidth": 0,
             "ticks": ""
            },
            "type": "mesh3d"
           }
          ],
          "parcoords": [
           {
            "line": {
             "colorbar": {
              "outlinewidth": 0,
              "ticks": ""
             }
            },
            "type": "parcoords"
           }
          ],
          "pie": [
           {
            "automargin": true,
            "type": "pie"
           }
          ],
          "scatter": [
           {
            "fillpattern": {
             "fillmode": "overlay",
             "size": 10,
             "solidity": 0.2
            },
            "type": "scatter"
           }
          ],
          "scatter3d": [
           {
            "line": {
             "colorbar": {
              "outlinewidth": 0,
              "ticks": ""
             }
            },
            "marker": {
             "colorbar": {
              "outlinewidth": 0,
              "ticks": ""
             }
            },
            "type": "scatter3d"
           }
          ],
          "scattercarpet": [
           {
            "marker": {
             "colorbar": {
              "outlinewidth": 0,
              "ticks": ""
             }
            },
            "type": "scattercarpet"
           }
          ],
          "scattergeo": [
           {
            "marker": {
             "colorbar": {
              "outlinewidth": 0,
              "ticks": ""
             }
            },
            "type": "scattergeo"
           }
          ],
          "scattergl": [
           {
            "marker": {
             "colorbar": {
              "outlinewidth": 0,
              "ticks": ""
             }
            },
            "type": "scattergl"
           }
          ],
          "scattermapbox": [
           {
            "marker": {
             "colorbar": {
              "outlinewidth": 0,
              "ticks": ""
             }
            },
            "type": "scattermapbox"
           }
          ],
          "scatterpolar": [
           {
            "marker": {
             "colorbar": {
              "outlinewidth": 0,
              "ticks": ""
             }
            },
            "type": "scatterpolar"
           }
          ],
          "scatterpolargl": [
           {
            "marker": {
             "colorbar": {
              "outlinewidth": 0,
              "ticks": ""
             }
            },
            "type": "scatterpolargl"
           }
          ],
          "scatterternary": [
           {
            "marker": {
             "colorbar": {
              "outlinewidth": 0,
              "ticks": ""
             }
            },
            "type": "scatterternary"
           }
          ],
          "surface": [
           {
            "colorbar": {
             "outlinewidth": 0,
             "ticks": ""
            },
            "colorscale": [
             [
              0,
              "#0d0887"
             ],
             [
              0.1111111111111111,
              "#46039f"
             ],
             [
              0.2222222222222222,
              "#7201a8"
             ],
             [
              0.3333333333333333,
              "#9c179e"
             ],
             [
              0.4444444444444444,
              "#bd3786"
             ],
             [
              0.5555555555555556,
              "#d8576b"
             ],
             [
              0.6666666666666666,
              "#ed7953"
             ],
             [
              0.7777777777777778,
              "#fb9f3a"
             ],
             [
              0.8888888888888888,
              "#fdca26"
             ],
             [
              1,
              "#f0f921"
             ]
            ],
            "type": "surface"
           }
          ],
          "table": [
           {
            "cells": {
             "fill": {
              "color": "#EBF0F8"
             },
             "line": {
              "color": "white"
             }
            },
            "header": {
             "fill": {
              "color": "#C8D4E3"
             },
             "line": {
              "color": "white"
             }
            },
            "type": "table"
           }
          ]
         },
         "layout": {
          "annotationdefaults": {
           "arrowcolor": "#2a3f5f",
           "arrowhead": 0,
           "arrowwidth": 1
          },
          "autotypenumbers": "strict",
          "coloraxis": {
           "colorbar": {
            "outlinewidth": 0,
            "ticks": ""
           }
          },
          "colorscale": {
           "diverging": [
            [
             0,
             "#8e0152"
            ],
            [
             0.1,
             "#c51b7d"
            ],
            [
             0.2,
             "#de77ae"
            ],
            [
             0.3,
             "#f1b6da"
            ],
            [
             0.4,
             "#fde0ef"
            ],
            [
             0.5,
             "#f7f7f7"
            ],
            [
             0.6,
             "#e6f5d0"
            ],
            [
             0.7,
             "#b8e186"
            ],
            [
             0.8,
             "#7fbc41"
            ],
            [
             0.9,
             "#4d9221"
            ],
            [
             1,
             "#276419"
            ]
           ],
           "sequential": [
            [
             0,
             "#0d0887"
            ],
            [
             0.1111111111111111,
             "#46039f"
            ],
            [
             0.2222222222222222,
             "#7201a8"
            ],
            [
             0.3333333333333333,
             "#9c179e"
            ],
            [
             0.4444444444444444,
             "#bd3786"
            ],
            [
             0.5555555555555556,
             "#d8576b"
            ],
            [
             0.6666666666666666,
             "#ed7953"
            ],
            [
             0.7777777777777778,
             "#fb9f3a"
            ],
            [
             0.8888888888888888,
             "#fdca26"
            ],
            [
             1,
             "#f0f921"
            ]
           ],
           "sequentialminus": [
            [
             0,
             "#0d0887"
            ],
            [
             0.1111111111111111,
             "#46039f"
            ],
            [
             0.2222222222222222,
             "#7201a8"
            ],
            [
             0.3333333333333333,
             "#9c179e"
            ],
            [
             0.4444444444444444,
             "#bd3786"
            ],
            [
             0.5555555555555556,
             "#d8576b"
            ],
            [
             0.6666666666666666,
             "#ed7953"
            ],
            [
             0.7777777777777778,
             "#fb9f3a"
            ],
            [
             0.8888888888888888,
             "#fdca26"
            ],
            [
             1,
             "#f0f921"
            ]
           ]
          },
          "colorway": [
           "#636efa",
           "#EF553B",
           "#00cc96",
           "#ab63fa",
           "#FFA15A",
           "#19d3f3",
           "#FF6692",
           "#B6E880",
           "#FF97FF",
           "#FECB52"
          ],
          "font": {
           "color": "#2a3f5f"
          },
          "geo": {
           "bgcolor": "white",
           "lakecolor": "white",
           "landcolor": "#E5ECF6",
           "showlakes": true,
           "showland": true,
           "subunitcolor": "white"
          },
          "hoverlabel": {
           "align": "left"
          },
          "hovermode": "closest",
          "mapbox": {
           "style": "light"
          },
          "paper_bgcolor": "white",
          "plot_bgcolor": "#E5ECF6",
          "polar": {
           "angularaxis": {
            "gridcolor": "white",
            "linecolor": "white",
            "ticks": ""
           },
           "bgcolor": "#E5ECF6",
           "radialaxis": {
            "gridcolor": "white",
            "linecolor": "white",
            "ticks": ""
           }
          },
          "scene": {
           "xaxis": {
            "backgroundcolor": "#E5ECF6",
            "gridcolor": "white",
            "gridwidth": 2,
            "linecolor": "white",
            "showbackground": true,
            "ticks": "",
            "zerolinecolor": "white"
           },
           "yaxis": {
            "backgroundcolor": "#E5ECF6",
            "gridcolor": "white",
            "gridwidth": 2,
            "linecolor": "white",
            "showbackground": true,
            "ticks": "",
            "zerolinecolor": "white"
           },
           "zaxis": {
            "backgroundcolor": "#E5ECF6",
            "gridcolor": "white",
            "gridwidth": 2,
            "linecolor": "white",
            "showbackground": true,
            "ticks": "",
            "zerolinecolor": "white"
           }
          },
          "shapedefaults": {
           "line": {
            "color": "#2a3f5f"
           }
          },
          "ternary": {
           "aaxis": {
            "gridcolor": "white",
            "linecolor": "white",
            "ticks": ""
           },
           "baxis": {
            "gridcolor": "white",
            "linecolor": "white",
            "ticks": ""
           },
           "bgcolor": "#E5ECF6",
           "caxis": {
            "gridcolor": "white",
            "linecolor": "white",
            "ticks": ""
           }
          },
          "title": {
           "x": 0.05
          },
          "xaxis": {
           "automargin": true,
           "gridcolor": "white",
           "linecolor": "white",
           "ticks": "",
           "title": {
            "standoff": 15
           },
           "zerolinecolor": "white",
           "zerolinewidth": 2
          },
          "yaxis": {
           "automargin": true,
           "gridcolor": "white",
           "linecolor": "white",
           "ticks": "",
           "title": {
            "standoff": 15
           },
           "zerolinecolor": "white",
           "zerolinewidth": 2
          }
         }
        },
        "title": {
         "text": "Most Common Words in Spam Messages"
        },
        "xaxis": {
         "anchor": "y",
         "domain": [
          0,
          1
         ],
         "title": {
          "text": "x"
         }
        },
        "yaxis": {
         "anchor": "x",
         "domain": [
          0,
          1
         ],
         "title": {
          "text": "y"
         }
        }
       }
      }
     },
     "metadata": {},
     "output_type": "display_data"
    }
   ],
   "source": [
    "show_most_common_words(cleaned_data[cleaned_data['label'] == 'spam']['text'], title='Most Common Words in Spam Messages')"
   ]
  },
  {
   "cell_type": "code",
   "execution_count": 98,
   "metadata": {},
   "outputs": [
    {
     "data": {
      "application/vnd.plotly.v1+json": {
       "config": {
        "plotlyServerURL": "https://plot.ly"
       },
       "data": [
        {
         "alignmentgroup": "True",
         "hovertemplate": "x=%{x}<br>y=%{y}<extra></extra>",
         "legendgroup": "",
         "marker": {
          "color": "#636efa",
          "pattern": {
           "shape": ""
          }
         },
         "name": "",
         "offsetgroup": "",
         "orientation": "v",
         "showlegend": false,
         "textposition": "auto",
         "type": "bar",
         "x": [
          "...",
          "u",
          "..",
          "'s",
          "'m",
          "n't",
          "gt",
          "lt",
          "get",
          "2",
          "''",
          "go",
          "ok",
          "got",
          "ur",
          "know",
          "like",
          "call",
          "good",
          "'ll"
         ],
         "xaxis": "x",
         "y": [
          1124,
          979,
          669,
          422,
          387,
          346,
          318,
          316,
          301,
          300,
          269,
          248,
          245,
          242,
          237,
          236,
          231,
          230,
          229,
          228
         ],
         "yaxis": "y"
        }
       ],
       "layout": {
        "barmode": "relative",
        "legend": {
         "tracegroupgap": 0
        },
        "template": {
         "data": {
          "bar": [
           {
            "error_x": {
             "color": "#2a3f5f"
            },
            "error_y": {
             "color": "#2a3f5f"
            },
            "marker": {
             "line": {
              "color": "#E5ECF6",
              "width": 0.5
             },
             "pattern": {
              "fillmode": "overlay",
              "size": 10,
              "solidity": 0.2
             }
            },
            "type": "bar"
           }
          ],
          "barpolar": [
           {
            "marker": {
             "line": {
              "color": "#E5ECF6",
              "width": 0.5
             },
             "pattern": {
              "fillmode": "overlay",
              "size": 10,
              "solidity": 0.2
             }
            },
            "type": "barpolar"
           }
          ],
          "carpet": [
           {
            "aaxis": {
             "endlinecolor": "#2a3f5f",
             "gridcolor": "white",
             "linecolor": "white",
             "minorgridcolor": "white",
             "startlinecolor": "#2a3f5f"
            },
            "baxis": {
             "endlinecolor": "#2a3f5f",
             "gridcolor": "white",
             "linecolor": "white",
             "minorgridcolor": "white",
             "startlinecolor": "#2a3f5f"
            },
            "type": "carpet"
           }
          ],
          "choropleth": [
           {
            "colorbar": {
             "outlinewidth": 0,
             "ticks": ""
            },
            "type": "choropleth"
           }
          ],
          "contour": [
           {
            "colorbar": {
             "outlinewidth": 0,
             "ticks": ""
            },
            "colorscale": [
             [
              0,
              "#0d0887"
             ],
             [
              0.1111111111111111,
              "#46039f"
             ],
             [
              0.2222222222222222,
              "#7201a8"
             ],
             [
              0.3333333333333333,
              "#9c179e"
             ],
             [
              0.4444444444444444,
              "#bd3786"
             ],
             [
              0.5555555555555556,
              "#d8576b"
             ],
             [
              0.6666666666666666,
              "#ed7953"
             ],
             [
              0.7777777777777778,
              "#fb9f3a"
             ],
             [
              0.8888888888888888,
              "#fdca26"
             ],
             [
              1,
              "#f0f921"
             ]
            ],
            "type": "contour"
           }
          ],
          "contourcarpet": [
           {
            "colorbar": {
             "outlinewidth": 0,
             "ticks": ""
            },
            "type": "contourcarpet"
           }
          ],
          "heatmap": [
           {
            "colorbar": {
             "outlinewidth": 0,
             "ticks": ""
            },
            "colorscale": [
             [
              0,
              "#0d0887"
             ],
             [
              0.1111111111111111,
              "#46039f"
             ],
             [
              0.2222222222222222,
              "#7201a8"
             ],
             [
              0.3333333333333333,
              "#9c179e"
             ],
             [
              0.4444444444444444,
              "#bd3786"
             ],
             [
              0.5555555555555556,
              "#d8576b"
             ],
             [
              0.6666666666666666,
              "#ed7953"
             ],
             [
              0.7777777777777778,
              "#fb9f3a"
             ],
             [
              0.8888888888888888,
              "#fdca26"
             ],
             [
              1,
              "#f0f921"
             ]
            ],
            "type": "heatmap"
           }
          ],
          "heatmapgl": [
           {
            "colorbar": {
             "outlinewidth": 0,
             "ticks": ""
            },
            "colorscale": [
             [
              0,
              "#0d0887"
             ],
             [
              0.1111111111111111,
              "#46039f"
             ],
             [
              0.2222222222222222,
              "#7201a8"
             ],
             [
              0.3333333333333333,
              "#9c179e"
             ],
             [
              0.4444444444444444,
              "#bd3786"
             ],
             [
              0.5555555555555556,
              "#d8576b"
             ],
             [
              0.6666666666666666,
              "#ed7953"
             ],
             [
              0.7777777777777778,
              "#fb9f3a"
             ],
             [
              0.8888888888888888,
              "#fdca26"
             ],
             [
              1,
              "#f0f921"
             ]
            ],
            "type": "heatmapgl"
           }
          ],
          "histogram": [
           {
            "marker": {
             "pattern": {
              "fillmode": "overlay",
              "size": 10,
              "solidity": 0.2
             }
            },
            "type": "histogram"
           }
          ],
          "histogram2d": [
           {
            "colorbar": {
             "outlinewidth": 0,
             "ticks": ""
            },
            "colorscale": [
             [
              0,
              "#0d0887"
             ],
             [
              0.1111111111111111,
              "#46039f"
             ],
             [
              0.2222222222222222,
              "#7201a8"
             ],
             [
              0.3333333333333333,
              "#9c179e"
             ],
             [
              0.4444444444444444,
              "#bd3786"
             ],
             [
              0.5555555555555556,
              "#d8576b"
             ],
             [
              0.6666666666666666,
              "#ed7953"
             ],
             [
              0.7777777777777778,
              "#fb9f3a"
             ],
             [
              0.8888888888888888,
              "#fdca26"
             ],
             [
              1,
              "#f0f921"
             ]
            ],
            "type": "histogram2d"
           }
          ],
          "histogram2dcontour": [
           {
            "colorbar": {
             "outlinewidth": 0,
             "ticks": ""
            },
            "colorscale": [
             [
              0,
              "#0d0887"
             ],
             [
              0.1111111111111111,
              "#46039f"
             ],
             [
              0.2222222222222222,
              "#7201a8"
             ],
             [
              0.3333333333333333,
              "#9c179e"
             ],
             [
              0.4444444444444444,
              "#bd3786"
             ],
             [
              0.5555555555555556,
              "#d8576b"
             ],
             [
              0.6666666666666666,
              "#ed7953"
             ],
             [
              0.7777777777777778,
              "#fb9f3a"
             ],
             [
              0.8888888888888888,
              "#fdca26"
             ],
             [
              1,
              "#f0f921"
             ]
            ],
            "type": "histogram2dcontour"
           }
          ],
          "mesh3d": [
           {
            "colorbar": {
             "outlinewidth": 0,
             "ticks": ""
            },
            "type": "mesh3d"
           }
          ],
          "parcoords": [
           {
            "line": {
             "colorbar": {
              "outlinewidth": 0,
              "ticks": ""
             }
            },
            "type": "parcoords"
           }
          ],
          "pie": [
           {
            "automargin": true,
            "type": "pie"
           }
          ],
          "scatter": [
           {
            "fillpattern": {
             "fillmode": "overlay",
             "size": 10,
             "solidity": 0.2
            },
            "type": "scatter"
           }
          ],
          "scatter3d": [
           {
            "line": {
             "colorbar": {
              "outlinewidth": 0,
              "ticks": ""
             }
            },
            "marker": {
             "colorbar": {
              "outlinewidth": 0,
              "ticks": ""
             }
            },
            "type": "scatter3d"
           }
          ],
          "scattercarpet": [
           {
            "marker": {
             "colorbar": {
              "outlinewidth": 0,
              "ticks": ""
             }
            },
            "type": "scattercarpet"
           }
          ],
          "scattergeo": [
           {
            "marker": {
             "colorbar": {
              "outlinewidth": 0,
              "ticks": ""
             }
            },
            "type": "scattergeo"
           }
          ],
          "scattergl": [
           {
            "marker": {
             "colorbar": {
              "outlinewidth": 0,
              "ticks": ""
             }
            },
            "type": "scattergl"
           }
          ],
          "scattermapbox": [
           {
            "marker": {
             "colorbar": {
              "outlinewidth": 0,
              "ticks": ""
             }
            },
            "type": "scattermapbox"
           }
          ],
          "scatterpolar": [
           {
            "marker": {
             "colorbar": {
              "outlinewidth": 0,
              "ticks": ""
             }
            },
            "type": "scatterpolar"
           }
          ],
          "scatterpolargl": [
           {
            "marker": {
             "colorbar": {
              "outlinewidth": 0,
              "ticks": ""
             }
            },
            "type": "scatterpolargl"
           }
          ],
          "scatterternary": [
           {
            "marker": {
             "colorbar": {
              "outlinewidth": 0,
              "ticks": ""
             }
            },
            "type": "scatterternary"
           }
          ],
          "surface": [
           {
            "colorbar": {
             "outlinewidth": 0,
             "ticks": ""
            },
            "colorscale": [
             [
              0,
              "#0d0887"
             ],
             [
              0.1111111111111111,
              "#46039f"
             ],
             [
              0.2222222222222222,
              "#7201a8"
             ],
             [
              0.3333333333333333,
              "#9c179e"
             ],
             [
              0.4444444444444444,
              "#bd3786"
             ],
             [
              0.5555555555555556,
              "#d8576b"
             ],
             [
              0.6666666666666666,
              "#ed7953"
             ],
             [
              0.7777777777777778,
              "#fb9f3a"
             ],
             [
              0.8888888888888888,
              "#fdca26"
             ],
             [
              1,
              "#f0f921"
             ]
            ],
            "type": "surface"
           }
          ],
          "table": [
           {
            "cells": {
             "fill": {
              "color": "#EBF0F8"
             },
             "line": {
              "color": "white"
             }
            },
            "header": {
             "fill": {
              "color": "#C8D4E3"
             },
             "line": {
              "color": "white"
             }
            },
            "type": "table"
           }
          ]
         },
         "layout": {
          "annotationdefaults": {
           "arrowcolor": "#2a3f5f",
           "arrowhead": 0,
           "arrowwidth": 1
          },
          "autotypenumbers": "strict",
          "coloraxis": {
           "colorbar": {
            "outlinewidth": 0,
            "ticks": ""
           }
          },
          "colorscale": {
           "diverging": [
            [
             0,
             "#8e0152"
            ],
            [
             0.1,
             "#c51b7d"
            ],
            [
             0.2,
             "#de77ae"
            ],
            [
             0.3,
             "#f1b6da"
            ],
            [
             0.4,
             "#fde0ef"
            ],
            [
             0.5,
             "#f7f7f7"
            ],
            [
             0.6,
             "#e6f5d0"
            ],
            [
             0.7,
             "#b8e186"
            ],
            [
             0.8,
             "#7fbc41"
            ],
            [
             0.9,
             "#4d9221"
            ],
            [
             1,
             "#276419"
            ]
           ],
           "sequential": [
            [
             0,
             "#0d0887"
            ],
            [
             0.1111111111111111,
             "#46039f"
            ],
            [
             0.2222222222222222,
             "#7201a8"
            ],
            [
             0.3333333333333333,
             "#9c179e"
            ],
            [
             0.4444444444444444,
             "#bd3786"
            ],
            [
             0.5555555555555556,
             "#d8576b"
            ],
            [
             0.6666666666666666,
             "#ed7953"
            ],
            [
             0.7777777777777778,
             "#fb9f3a"
            ],
            [
             0.8888888888888888,
             "#fdca26"
            ],
            [
             1,
             "#f0f921"
            ]
           ],
           "sequentialminus": [
            [
             0,
             "#0d0887"
            ],
            [
             0.1111111111111111,
             "#46039f"
            ],
            [
             0.2222222222222222,
             "#7201a8"
            ],
            [
             0.3333333333333333,
             "#9c179e"
            ],
            [
             0.4444444444444444,
             "#bd3786"
            ],
            [
             0.5555555555555556,
             "#d8576b"
            ],
            [
             0.6666666666666666,
             "#ed7953"
            ],
            [
             0.7777777777777778,
             "#fb9f3a"
            ],
            [
             0.8888888888888888,
             "#fdca26"
            ],
            [
             1,
             "#f0f921"
            ]
           ]
          },
          "colorway": [
           "#636efa",
           "#EF553B",
           "#00cc96",
           "#ab63fa",
           "#FFA15A",
           "#19d3f3",
           "#FF6692",
           "#B6E880",
           "#FF97FF",
           "#FECB52"
          ],
          "font": {
           "color": "#2a3f5f"
          },
          "geo": {
           "bgcolor": "white",
           "lakecolor": "white",
           "landcolor": "#E5ECF6",
           "showlakes": true,
           "showland": true,
           "subunitcolor": "white"
          },
          "hoverlabel": {
           "align": "left"
          },
          "hovermode": "closest",
          "mapbox": {
           "style": "light"
          },
          "paper_bgcolor": "white",
          "plot_bgcolor": "#E5ECF6",
          "polar": {
           "angularaxis": {
            "gridcolor": "white",
            "linecolor": "white",
            "ticks": ""
           },
           "bgcolor": "#E5ECF6",
           "radialaxis": {
            "gridcolor": "white",
            "linecolor": "white",
            "ticks": ""
           }
          },
          "scene": {
           "xaxis": {
            "backgroundcolor": "#E5ECF6",
            "gridcolor": "white",
            "gridwidth": 2,
            "linecolor": "white",
            "showbackground": true,
            "ticks": "",
            "zerolinecolor": "white"
           },
           "yaxis": {
            "backgroundcolor": "#E5ECF6",
            "gridcolor": "white",
            "gridwidth": 2,
            "linecolor": "white",
            "showbackground": true,
            "ticks": "",
            "zerolinecolor": "white"
           },
           "zaxis": {
            "backgroundcolor": "#E5ECF6",
            "gridcolor": "white",
            "gridwidth": 2,
            "linecolor": "white",
            "showbackground": true,
            "ticks": "",
            "zerolinecolor": "white"
           }
          },
          "shapedefaults": {
           "line": {
            "color": "#2a3f5f"
           }
          },
          "ternary": {
           "aaxis": {
            "gridcolor": "white",
            "linecolor": "white",
            "ticks": ""
           },
           "baxis": {
            "gridcolor": "white",
            "linecolor": "white",
            "ticks": ""
           },
           "bgcolor": "#E5ECF6",
           "caxis": {
            "gridcolor": "white",
            "linecolor": "white",
            "ticks": ""
           }
          },
          "title": {
           "x": 0.05
          },
          "xaxis": {
           "automargin": true,
           "gridcolor": "white",
           "linecolor": "white",
           "ticks": "",
           "title": {
            "standoff": 15
           },
           "zerolinecolor": "white",
           "zerolinewidth": 2
          },
          "yaxis": {
           "automargin": true,
           "gridcolor": "white",
           "linecolor": "white",
           "ticks": "",
           "title": {
            "standoff": 15
           },
           "zerolinecolor": "white",
           "zerolinewidth": 2
          }
         }
        },
        "title": {
         "text": "Most Common Words in Ham Messages"
        },
        "xaxis": {
         "anchor": "y",
         "domain": [
          0,
          1
         ],
         "title": {
          "text": "x"
         }
        },
        "yaxis": {
         "anchor": "x",
         "domain": [
          0,
          1
         ],
         "title": {
          "text": "y"
         }
        }
       }
      }
     },
     "metadata": {},
     "output_type": "display_data"
    }
   ],
   "source": [
    "show_most_common_words(cleaned_data[cleaned_data['label'] == 'ham']['text'], title='Most Common Words in Ham Messages')"
   ]
  },
  {
   "cell_type": "markdown",
   "metadata": {},
   "source": [
    "### Bag-of-words vector creation"
   ]
  },
  {
   "cell_type": "code",
   "execution_count": 99,
   "metadata": {},
   "outputs": [
    {
     "name": "stdout",
     "output_type": "stream",
     "text": [
      "(5572, 8606)\n",
      "(5572, 8672)\n"
     ]
    }
   ],
   "source": [
    "#text to bow\n",
    "from sklearn.feature_extraction.text import CountVectorizer\n",
    "\n",
    "vectorizer = CountVectorizer()\n",
    "bow_cleaned = vectorizer.fit_transform(cleaned_data['text'])\n",
    "bow = vectorizer.fit_transform(data['text'])\n",
    "\n",
    "print(bow_cleaned.shape)\n",
    "print(bow.shape)"
   ]
  },
  {
   "cell_type": "markdown",
   "metadata": {},
   "source": [
    "### Transform data to X,y format"
   ]
  },
  {
   "cell_type": "code",
   "execution_count": 100,
   "metadata": {},
   "outputs": [
    {
     "name": "stdout",
     "output_type": "stream",
     "text": [
      "(4457, 8606) (1115, 8606)\n",
      "(4457, 8672) (1115, 8672)\n"
     ]
    }
   ],
   "source": [
    "from sklearn.model_selection import train_test_split\n",
    "\n",
    "X_train_cleaned, X_test_cleaned, y_train_cleaned, y_test_cleaned = train_test_split(bow_cleaned, cleaned_data['label'], test_size=0.2, random_state=42)\n",
    "X_train, X_test, y_train, y_test = train_test_split(bow, data['label'], test_size=0.2, random_state=42)\n",
    "print(X_train_cleaned.shape, X_test_cleaned.shape)\n",
    "print(X_train.shape, X_test.shape)"
   ]
  },
  {
   "cell_type": "markdown",
   "metadata": {},
   "source": [
    "## Model training"
   ]
  },
  {
   "cell_type": "markdown",
   "metadata": {},
   "source": [
    "### Naive Bayes classifier from sklearn for reference"
   ]
  },
  {
   "cell_type": "markdown",
   "metadata": {},
   "source": [
    "#### Cleaned data without punctuation marks and stopwords"
   ]
  },
  {
   "cell_type": "code",
   "execution_count": 14,
   "metadata": {},
   "outputs": [
    {
     "name": "stdout",
     "output_type": "stream",
     "text": [
      "Accuracy:  0.9748878923766816\n",
      "              precision    recall  f1-score   support\n",
      "\n",
      "         ham       0.99      0.98      0.99       965\n",
      "        spam       0.90      0.92      0.91       150\n",
      "\n",
      "    accuracy                           0.97      1115\n",
      "   macro avg       0.94      0.95      0.95      1115\n",
      "weighted avg       0.98      0.97      0.98      1115\n",
      "\n"
     ]
    }
   ],
   "source": [
    "from sklearn.naive_bayes import MultinomialNB\n",
    "from sklearn.metrics import accuracy_score, classification_report\n",
    "\n",
    "nb = MultinomialNB()\n",
    "nb.fit(X_train_cleaned, y_train_cleaned)\n",
    "y_pred_cleaned = nb.predict(X_test_cleaned)\n",
    "\n",
    "print('Accuracy: ', accuracy_score(y_test_cleaned, y_pred_cleaned))\n",
    "print(classification_report(y_test_cleaned, y_pred_cleaned))"
   ]
  },
  {
   "cell_type": "markdown",
   "metadata": {},
   "source": [
    "#### Raw data"
   ]
  },
  {
   "cell_type": "code",
   "execution_count": 15,
   "metadata": {},
   "outputs": [
    {
     "name": "stdout",
     "output_type": "stream",
     "text": [
      "Accuracy:  0.97847533632287\n",
      "              precision    recall  f1-score   support\n",
      "\n",
      "         ham       0.99      0.99      0.99       965\n",
      "        spam       0.91      0.93      0.92       150\n",
      "\n",
      "    accuracy                           0.98      1115\n",
      "   macro avg       0.95      0.96      0.95      1115\n",
      "weighted avg       0.98      0.98      0.98      1115\n",
      "\n"
     ]
    }
   ],
   "source": [
    "from sklearn.naive_bayes import MultinomialNB\n",
    "from sklearn.metrics import accuracy_score, classification_report\n",
    "\n",
    "nb = MultinomialNB()\n",
    "nb.fit(X_train, y_train)\n",
    "y_pred = nb.predict(X_test)\n",
    "\n",
    "print('Accuracy: ', accuracy_score(y_test, y_pred))\n",
    "print(classification_report(y_test, y_pred))"
   ]
  },
  {
   "cell_type": "markdown",
   "metadata": {},
   "source": [
    "We can see that the data cleaning useful in most machine learning tasks slighly deteriorates the performance of the Naive Bayes classifier just for the spam class."
   ]
  },
  {
   "cell_type": "code",
   "execution_count": 16,
   "metadata": {},
   "outputs": [
    {
     "name": "stdout",
     "output_type": "stream",
     "text": [
      "[[1.32325954e-01 8.67674046e-01]\n",
      " [1.00000000e+00 4.20758364e-11]\n",
      " [6.01285769e-04 9.99398714e-01]\n",
      " [1.00000000e+00 9.21224812e-16]\n",
      " [6.20362416e-26 1.00000000e+00]]\n"
     ]
    }
   ],
   "source": [
    "probabilities = nb.predict_proba(X_test)\n",
    "print(probabilities[:5])"
   ]
  },
  {
   "cell_type": "markdown",
   "metadata": {},
   "source": [
    "### Custom implementation of Naive Bayes classifier\n",
    "\n",
    "#### Multinomial Naive Bayes classifier (discrete features)"
   ]
  },
  {
   "cell_type": "code",
   "execution_count": 86,
   "metadata": {},
   "outputs": [],
   "source": [
    "import numpy as np\n",
    "\n",
    "class MultinomialNB:\n",
    "    def fit(self, X, y):\n",
    "        n_samples, n_features = X.shape\n",
    "        print(n_samples, n_features)\n",
    "        self.classes = np.unique(y)\n",
    "        n_classes = len(self.classes)\n",
    "\n",
    "        self.feature_count = np.zeros((n_classes, n_features), dtype=np.float64)\n",
    "        self.class_count = np.zeros(n_classes, dtype=np.float64)\n",
    "\n",
    "        for idx, c in enumerate(self.classes):\n",
    "            X_c = X[y == c]\n",
    "            self.feature_count[idx, :] = np.sum(X_c, axis=0)\n",
    "            self.class_count[idx] = X_c.shape[0]\n",
    "\n",
    "    def predict(self, X):\n",
    "        y_pred = [self._predict(x) for x in X]\n",
    "        return np.array(y_pred)\n",
    "\n",
    "    def _predict(self, x, return_posteriors=False):\n",
    "        posteriors = []\n",
    "        for idx, _ in enumerate(self.classes):\n",
    "            prior = np.log(self.class_count[idx] + 1)\n",
    "            class_conditional = np.sum(np.log(self._pdf(idx, x) + 1))\n",
    "            posterior = prior + class_conditional\n",
    "            posteriors.append(posterior)\n",
    "\n",
    "        if return_posteriors:\n",
    "            return posteriors\n",
    "        return self.classes[np.argmax(posteriors)]\n",
    "\n",
    "    def _pdf(self, class_idx, x):\n",
    "        feature_count = self.feature_count[class_idx]\n",
    "        class_count = self.class_count[class_idx]\n",
    "        return (feature_count + 1) / (class_count + 1 + np.sum(feature_count))\n",
    "    \n",
    "    def feature_importance(self, vectorizer):\n",
    "        importances = []\n",
    "        for idx, c in enumerate(self.classes):\n",
    "            importances.append(self.feature_count[idx] / self.class_count[idx])\n",
    "        importances = np.array(importances)\n",
    "        importances = np.log(importances + 1)\n",
    "        return pd.DataFrame(importances, columns=vectorizer.get_feature_names_out())\n",
    "    \n",
    "    def predict_proba(self, X):\n",
    "        return np.array([self._predict(x, return_posteriors=True) for x in X])\n",
    "    \n",
    "    def score(self, X, y):\n",
    "        y_pred = self.predict(X)\n",
    "        return np.mean(y_pred == y)\n",
    "    "
   ]
  },
  {
   "cell_type": "code",
   "execution_count": 87,
   "metadata": {},
   "outputs": [
    {
     "name": "stdout",
     "output_type": "stream",
     "text": [
      "4457 8606\n",
      "Accuracy:  0.8654708520179372\n",
      "              precision    recall  f1-score   support\n",
      "\n",
      "         ham       0.87      1.00      0.93       965\n",
      "        spam       1.00      0.00      0.00       150\n",
      "\n",
      "    accuracy                           0.87      1115\n",
      "   macro avg       0.93      0.50      0.46      1115\n",
      "weighted avg       0.88      0.87      0.80      1115\n",
      "\n"
     ]
    }
   ],
   "source": [
    "customNB = MultinomialNB()\n",
    "\n",
    "customNB.fit(X_train_cleaned, y_train_cleaned)\n",
    "y_pred = customNB.predict(X_test)\n",
    "\n",
    "print('Accuracy: ', accuracy_score(y_test, y_pred))\n",
    "print(classification_report(y_test, y_pred, zero_division=1))"
   ]
  },
  {
   "cell_type": "code",
   "execution_count": 101,
   "metadata": {},
   "outputs": [
    {
     "name": "stdout",
     "output_type": "stream",
     "text": [
      "4457 8672\n",
      "Accuracy:  0.8654708520179372\n",
      "              precision    recall  f1-score   support\n",
      "\n",
      "         ham       0.87      1.00      0.93       965\n",
      "        spam       1.00      0.00      0.00       150\n",
      "\n",
      "    accuracy                           0.87      1115\n",
      "   macro avg       0.93      0.50      0.46      1115\n",
      "weighted avg       0.88      0.87      0.80      1115\n",
      "\n"
     ]
    }
   ],
   "source": [
    "customNB = MultinomialNB()\n",
    "\n",
    "customNB.fit(X_train, y_train)\n",
    "y_pred = customNB.predict(X_test)\n",
    "\n",
    "print('Accuracy: ', accuracy_score(y_test, y_pred))\n",
    "print(classification_report(y_test, y_pred, zero_division=1))"
   ]
  },
  {
   "cell_type": "markdown",
   "metadata": {},
   "source": [
    "#### Gaussian Naive Bayes classifier (continuous features)\n",
    "Wypróbujemy również klasyfikator Naive Bayes z rozkładem Gaussa, który jest przewidziany do zmiennych ciągłych, ale wypróbujemy go na naszych zmiennych dyskretnych."
   ]
  },
  {
   "cell_type": "code",
   "execution_count": 68,
   "metadata": {},
   "outputs": [],
   "source": [
    "import numpy as np\n",
    "\n",
    "class NaiveBayesClassifier:\n",
    "    def fit(self, X, y):\n",
    "        n_samples, n_features = X.shape\n",
    "        self.classes = np.unique(y)\n",
    "        n_classes = len(self.classes)\n",
    "\n",
    "        self.mean = np.zeros((n_classes, n_features), dtype=np.float64)\n",
    "        self.var = np.zeros((n_classes, n_features), dtype=np.float64)\n",
    "        self.priors = np.zeros(n_classes, dtype=np.float64)\n",
    "\n",
    "        for idx, c in enumerate(self.classes):\n",
    "            X_c = X[y == c]\n",
    "            X_c_dense = X_c.toarray()\n",
    "            self.mean[idx, :] = X_c_dense.mean(axis=0)\n",
    "            self.var[idx, :] = X_c_dense.var(axis=0)\n",
    "            self.priors[idx] = X_c.shape[0] / float(n_samples)\n",
    "\n",
    "    def predict(self, X):\n",
    "        y_pred = [self._predict(x.toarray().ravel()) for x in X]\n",
    "        return np.array(y_pred)\n",
    "\n",
    "    def _predict(self, x, return_posteriors=False):\n",
    "        posteriors = []\n",
    "        for idx, _ in enumerate(self.classes):\n",
    "            prior = np.log(self.priors[idx])\n",
    "            class_conditional = np.sum(np.log(self._pdf(idx, x)))\n",
    "            posterior = prior + class_conditional\n",
    "            posteriors.append(posterior)\n",
    "        if return_posteriors:\n",
    "            return posteriors\n",
    "        return self.classes[np.argmax(posteriors)]\n",
    "\n",
    "    def _pdf(self, class_idx, x):\n",
    "        mean = self.mean[class_idx]\n",
    "        var = self.var[class_idx]\n",
    "        small_constant = 1e-9\n",
    "        if isinstance(x, np.matrix):\n",
    "            x = np.asarray(x)\n",
    "        numerator = np.exp(- (x - mean) ** 2 / (2 * var + small_constant))\n",
    "        denominator = np.sqrt(2 * np.pi * (var + small_constant))\n",
    "        return numerator / denominator"
   ]
  },
  {
   "cell_type": "code",
   "execution_count": 69,
   "metadata": {},
   "outputs": [
    {
     "name": "stderr",
     "output_type": "stream",
     "text": [
      "C:\\Users\\Dell\\AppData\\Local\\Temp\\ipykernel_131008\\412308830.py:28: RuntimeWarning:\n",
      "\n",
      "divide by zero encountered in log\n",
      "\n"
     ]
    },
    {
     "name": "stdout",
     "output_type": "stream",
     "text": [
      "Accuracy:  0.8573991031390135\n",
      "              precision    recall  f1-score   support\n",
      "\n",
      "         ham       0.91      0.93      0.92       965\n",
      "        spam       0.47      0.40      0.43       150\n",
      "\n",
      "    accuracy                           0.86      1115\n",
      "   macro avg       0.69      0.66      0.67      1115\n",
      "weighted avg       0.85      0.86      0.85      1115\n",
      "\n"
     ]
    }
   ],
   "source": [
    "customNB_continous = NaiveBayesClassifier()\n",
    "customNB_continous.fit(X_train_cleaned, y_train_cleaned)\n",
    "y_pred_cleaned = customNB_continous.predict(X_test_cleaned)\n",
    "\n",
    "print('Accuracy: ', accuracy_score(y_test_cleaned, y_pred_cleaned))\n",
    "print(classification_report(y_test_cleaned, y_pred_cleaned))"
   ]
  },
  {
   "cell_type": "code",
   "execution_count": 70,
   "metadata": {},
   "outputs": [
    {
     "name": "stderr",
     "output_type": "stream",
     "text": [
      "C:\\Users\\Dell\\AppData\\Local\\Temp\\ipykernel_131008\\412308830.py:28: RuntimeWarning:\n",
      "\n",
      "divide by zero encountered in log\n",
      "\n"
     ]
    },
    {
     "name": "stdout",
     "output_type": "stream",
     "text": [
      "Accuracy:  0.8708520179372198\n",
      "              precision    recall  f1-score   support\n",
      "\n",
      "         ham       0.91      0.94      0.93       965\n",
      "        spam       0.53      0.41      0.46       150\n",
      "\n",
      "    accuracy                           0.87      1115\n",
      "   macro avg       0.72      0.67      0.69      1115\n",
      "weighted avg       0.86      0.87      0.86      1115\n",
      "\n"
     ]
    }
   ],
   "source": [
    "customNB_continous = NaiveBayesClassifier()\n",
    "\n",
    "customNB_continous.fit(X_train, y_train)\n",
    "y_pred = customNB_continous.predict(X_test)\n",
    "\n",
    "print('Accuracy: ', accuracy_score(y_test, y_pred))\n",
    "print(classification_report(y_test, y_pred))"
   ]
  },
  {
   "cell_type": "markdown",
   "metadata": {},
   "source": [
    "Co ciekawe, klasyfikator ten działa lepiej niż Multinomial Naive Bayes."
   ]
  },
  {
   "cell_type": "markdown",
   "metadata": {},
   "source": [
    "## Explainability"
   ]
  },
  {
   "cell_type": "markdown",
   "metadata": {},
   "source": [
    "### Feature importance of sklearn Naive Bayes classifier"
   ]
  },
  {
   "cell_type": "code",
   "execution_count": 108,
   "metadata": {},
   "outputs": [
    {
     "data": {
      "application/vnd.plotly.v1+json": {
       "config": {
        "plotlyServerURL": "https://plot.ly"
       },
       "data": [
        {
         "alignmentgroup": "True",
         "hovertemplate": "x=%{x}<br>y=%{y}<extra></extra>",
         "legendgroup": "",
         "marker": {
          "color": "#636efa",
          "pattern": {
           "shape": ""
          }
         },
         "name": "",
         "offsetgroup": "",
         "orientation": "v",
         "showlegend": false,
         "textposition": "auto",
         "type": "bar",
         "x": [
          "that",
          "it",
          "is",
          "my",
          "me",
          "in",
          "and",
          "the",
          "to",
          "you"
         ],
         "xaxis": "x",
         "y": [
          0.00001709986320109439,
          0.0001880984952120383,
          0.00003419972640218878,
          0.00003419972640218878,
          0.00003419972640218878,
          0.00001709986320109439,
          0.00001709986320109439,
          0.00001709986320109439,
          0.00017099863201094377,
          0.00003419972640218878
         ],
         "yaxis": "y"
        }
       ],
       "layout": {
        "barmode": "relative",
        "legend": {
         "tracegroupgap": 0
        },
        "template": {
         "data": {
          "bar": [
           {
            "error_x": {
             "color": "#2a3f5f"
            },
            "error_y": {
             "color": "#2a3f5f"
            },
            "marker": {
             "line": {
              "color": "#E5ECF6",
              "width": 0.5
             },
             "pattern": {
              "fillmode": "overlay",
              "size": 10,
              "solidity": 0.2
             }
            },
            "type": "bar"
           }
          ],
          "barpolar": [
           {
            "marker": {
             "line": {
              "color": "#E5ECF6",
              "width": 0.5
             },
             "pattern": {
              "fillmode": "overlay",
              "size": 10,
              "solidity": 0.2
             }
            },
            "type": "barpolar"
           }
          ],
          "carpet": [
           {
            "aaxis": {
             "endlinecolor": "#2a3f5f",
             "gridcolor": "white",
             "linecolor": "white",
             "minorgridcolor": "white",
             "startlinecolor": "#2a3f5f"
            },
            "baxis": {
             "endlinecolor": "#2a3f5f",
             "gridcolor": "white",
             "linecolor": "white",
             "minorgridcolor": "white",
             "startlinecolor": "#2a3f5f"
            },
            "type": "carpet"
           }
          ],
          "choropleth": [
           {
            "colorbar": {
             "outlinewidth": 0,
             "ticks": ""
            },
            "type": "choropleth"
           }
          ],
          "contour": [
           {
            "colorbar": {
             "outlinewidth": 0,
             "ticks": ""
            },
            "colorscale": [
             [
              0,
              "#0d0887"
             ],
             [
              0.1111111111111111,
              "#46039f"
             ],
             [
              0.2222222222222222,
              "#7201a8"
             ],
             [
              0.3333333333333333,
              "#9c179e"
             ],
             [
              0.4444444444444444,
              "#bd3786"
             ],
             [
              0.5555555555555556,
              "#d8576b"
             ],
             [
              0.6666666666666666,
              "#ed7953"
             ],
             [
              0.7777777777777778,
              "#fb9f3a"
             ],
             [
              0.8888888888888888,
              "#fdca26"
             ],
             [
              1,
              "#f0f921"
             ]
            ],
            "type": "contour"
           }
          ],
          "contourcarpet": [
           {
            "colorbar": {
             "outlinewidth": 0,
             "ticks": ""
            },
            "type": "contourcarpet"
           }
          ],
          "heatmap": [
           {
            "colorbar": {
             "outlinewidth": 0,
             "ticks": ""
            },
            "colorscale": [
             [
              0,
              "#0d0887"
             ],
             [
              0.1111111111111111,
              "#46039f"
             ],
             [
              0.2222222222222222,
              "#7201a8"
             ],
             [
              0.3333333333333333,
              "#9c179e"
             ],
             [
              0.4444444444444444,
              "#bd3786"
             ],
             [
              0.5555555555555556,
              "#d8576b"
             ],
             [
              0.6666666666666666,
              "#ed7953"
             ],
             [
              0.7777777777777778,
              "#fb9f3a"
             ],
             [
              0.8888888888888888,
              "#fdca26"
             ],
             [
              1,
              "#f0f921"
             ]
            ],
            "type": "heatmap"
           }
          ],
          "heatmapgl": [
           {
            "colorbar": {
             "outlinewidth": 0,
             "ticks": ""
            },
            "colorscale": [
             [
              0,
              "#0d0887"
             ],
             [
              0.1111111111111111,
              "#46039f"
             ],
             [
              0.2222222222222222,
              "#7201a8"
             ],
             [
              0.3333333333333333,
              "#9c179e"
             ],
             [
              0.4444444444444444,
              "#bd3786"
             ],
             [
              0.5555555555555556,
              "#d8576b"
             ],
             [
              0.6666666666666666,
              "#ed7953"
             ],
             [
              0.7777777777777778,
              "#fb9f3a"
             ],
             [
              0.8888888888888888,
              "#fdca26"
             ],
             [
              1,
              "#f0f921"
             ]
            ],
            "type": "heatmapgl"
           }
          ],
          "histogram": [
           {
            "marker": {
             "pattern": {
              "fillmode": "overlay",
              "size": 10,
              "solidity": 0.2
             }
            },
            "type": "histogram"
           }
          ],
          "histogram2d": [
           {
            "colorbar": {
             "outlinewidth": 0,
             "ticks": ""
            },
            "colorscale": [
             [
              0,
              "#0d0887"
             ],
             [
              0.1111111111111111,
              "#46039f"
             ],
             [
              0.2222222222222222,
              "#7201a8"
             ],
             [
              0.3333333333333333,
              "#9c179e"
             ],
             [
              0.4444444444444444,
              "#bd3786"
             ],
             [
              0.5555555555555556,
              "#d8576b"
             ],
             [
              0.6666666666666666,
              "#ed7953"
             ],
             [
              0.7777777777777778,
              "#fb9f3a"
             ],
             [
              0.8888888888888888,
              "#fdca26"
             ],
             [
              1,
              "#f0f921"
             ]
            ],
            "type": "histogram2d"
           }
          ],
          "histogram2dcontour": [
           {
            "colorbar": {
             "outlinewidth": 0,
             "ticks": ""
            },
            "colorscale": [
             [
              0,
              "#0d0887"
             ],
             [
              0.1111111111111111,
              "#46039f"
             ],
             [
              0.2222222222222222,
              "#7201a8"
             ],
             [
              0.3333333333333333,
              "#9c179e"
             ],
             [
              0.4444444444444444,
              "#bd3786"
             ],
             [
              0.5555555555555556,
              "#d8576b"
             ],
             [
              0.6666666666666666,
              "#ed7953"
             ],
             [
              0.7777777777777778,
              "#fb9f3a"
             ],
             [
              0.8888888888888888,
              "#fdca26"
             ],
             [
              1,
              "#f0f921"
             ]
            ],
            "type": "histogram2dcontour"
           }
          ],
          "mesh3d": [
           {
            "colorbar": {
             "outlinewidth": 0,
             "ticks": ""
            },
            "type": "mesh3d"
           }
          ],
          "parcoords": [
           {
            "line": {
             "colorbar": {
              "outlinewidth": 0,
              "ticks": ""
             }
            },
            "type": "parcoords"
           }
          ],
          "pie": [
           {
            "automargin": true,
            "type": "pie"
           }
          ],
          "scatter": [
           {
            "fillpattern": {
             "fillmode": "overlay",
             "size": 10,
             "solidity": 0.2
            },
            "type": "scatter"
           }
          ],
          "scatter3d": [
           {
            "line": {
             "colorbar": {
              "outlinewidth": 0,
              "ticks": ""
             }
            },
            "marker": {
             "colorbar": {
              "outlinewidth": 0,
              "ticks": ""
             }
            },
            "type": "scatter3d"
           }
          ],
          "scattercarpet": [
           {
            "marker": {
             "colorbar": {
              "outlinewidth": 0,
              "ticks": ""
             }
            },
            "type": "scattercarpet"
           }
          ],
          "scattergeo": [
           {
            "marker": {
             "colorbar": {
              "outlinewidth": 0,
              "ticks": ""
             }
            },
            "type": "scattergeo"
           }
          ],
          "scattergl": [
           {
            "marker": {
             "colorbar": {
              "outlinewidth": 0,
              "ticks": ""
             }
            },
            "type": "scattergl"
           }
          ],
          "scattermapbox": [
           {
            "marker": {
             "colorbar": {
              "outlinewidth": 0,
              "ticks": ""
             }
            },
            "type": "scattermapbox"
           }
          ],
          "scatterpolar": [
           {
            "marker": {
             "colorbar": {
              "outlinewidth": 0,
              "ticks": ""
             }
            },
            "type": "scatterpolar"
           }
          ],
          "scatterpolargl": [
           {
            "marker": {
             "colorbar": {
              "outlinewidth": 0,
              "ticks": ""
             }
            },
            "type": "scatterpolargl"
           }
          ],
          "scatterternary": [
           {
            "marker": {
             "colorbar": {
              "outlinewidth": 0,
              "ticks": ""
             }
            },
            "type": "scatterternary"
           }
          ],
          "surface": [
           {
            "colorbar": {
             "outlinewidth": 0,
             "ticks": ""
            },
            "colorscale": [
             [
              0,
              "#0d0887"
             ],
             [
              0.1111111111111111,
              "#46039f"
             ],
             [
              0.2222222222222222,
              "#7201a8"
             ],
             [
              0.3333333333333333,
              "#9c179e"
             ],
             [
              0.4444444444444444,
              "#bd3786"
             ],
             [
              0.5555555555555556,
              "#d8576b"
             ],
             [
              0.6666666666666666,
              "#ed7953"
             ],
             [
              0.7777777777777778,
              "#fb9f3a"
             ],
             [
              0.8888888888888888,
              "#fdca26"
             ],
             [
              1,
              "#f0f921"
             ]
            ],
            "type": "surface"
           }
          ],
          "table": [
           {
            "cells": {
             "fill": {
              "color": "#EBF0F8"
             },
             "line": {
              "color": "white"
             }
            },
            "header": {
             "fill": {
              "color": "#C8D4E3"
             },
             "line": {
              "color": "white"
             }
            },
            "type": "table"
           }
          ]
         },
         "layout": {
          "annotationdefaults": {
           "arrowcolor": "#2a3f5f",
           "arrowhead": 0,
           "arrowwidth": 1
          },
          "autotypenumbers": "strict",
          "coloraxis": {
           "colorbar": {
            "outlinewidth": 0,
            "ticks": ""
           }
          },
          "colorscale": {
           "diverging": [
            [
             0,
             "#8e0152"
            ],
            [
             0.1,
             "#c51b7d"
            ],
            [
             0.2,
             "#de77ae"
            ],
            [
             0.3,
             "#f1b6da"
            ],
            [
             0.4,
             "#fde0ef"
            ],
            [
             0.5,
             "#f7f7f7"
            ],
            [
             0.6,
             "#e6f5d0"
            ],
            [
             0.7,
             "#b8e186"
            ],
            [
             0.8,
             "#7fbc41"
            ],
            [
             0.9,
             "#4d9221"
            ],
            [
             1,
             "#276419"
            ]
           ],
           "sequential": [
            [
             0,
             "#0d0887"
            ],
            [
             0.1111111111111111,
             "#46039f"
            ],
            [
             0.2222222222222222,
             "#7201a8"
            ],
            [
             0.3333333333333333,
             "#9c179e"
            ],
            [
             0.4444444444444444,
             "#bd3786"
            ],
            [
             0.5555555555555556,
             "#d8576b"
            ],
            [
             0.6666666666666666,
             "#ed7953"
            ],
            [
             0.7777777777777778,
             "#fb9f3a"
            ],
            [
             0.8888888888888888,
             "#fdca26"
            ],
            [
             1,
             "#f0f921"
            ]
           ],
           "sequentialminus": [
            [
             0,
             "#0d0887"
            ],
            [
             0.1111111111111111,
             "#46039f"
            ],
            [
             0.2222222222222222,
             "#7201a8"
            ],
            [
             0.3333333333333333,
             "#9c179e"
            ],
            [
             0.4444444444444444,
             "#bd3786"
            ],
            [
             0.5555555555555556,
             "#d8576b"
            ],
            [
             0.6666666666666666,
             "#ed7953"
            ],
            [
             0.7777777777777778,
             "#fb9f3a"
            ],
            [
             0.8888888888888888,
             "#fdca26"
            ],
            [
             1,
             "#f0f921"
            ]
           ]
          },
          "colorway": [
           "#636efa",
           "#EF553B",
           "#00cc96",
           "#ab63fa",
           "#FFA15A",
           "#19d3f3",
           "#FF6692",
           "#B6E880",
           "#FF97FF",
           "#FECB52"
          ],
          "font": {
           "color": "#2a3f5f"
          },
          "geo": {
           "bgcolor": "white",
           "lakecolor": "white",
           "landcolor": "#E5ECF6",
           "showlakes": true,
           "showland": true,
           "subunitcolor": "white"
          },
          "hoverlabel": {
           "align": "left"
          },
          "hovermode": "closest",
          "mapbox": {
           "style": "light"
          },
          "paper_bgcolor": "white",
          "plot_bgcolor": "#E5ECF6",
          "polar": {
           "angularaxis": {
            "gridcolor": "white",
            "linecolor": "white",
            "ticks": ""
           },
           "bgcolor": "#E5ECF6",
           "radialaxis": {
            "gridcolor": "white",
            "linecolor": "white",
            "ticks": ""
           }
          },
          "scene": {
           "xaxis": {
            "backgroundcolor": "#E5ECF6",
            "gridcolor": "white",
            "gridwidth": 2,
            "linecolor": "white",
            "showbackground": true,
            "ticks": "",
            "zerolinecolor": "white"
           },
           "yaxis": {
            "backgroundcolor": "#E5ECF6",
            "gridcolor": "white",
            "gridwidth": 2,
            "linecolor": "white",
            "showbackground": true,
            "ticks": "",
            "zerolinecolor": "white"
           },
           "zaxis": {
            "backgroundcolor": "#E5ECF6",
            "gridcolor": "white",
            "gridwidth": 2,
            "linecolor": "white",
            "showbackground": true,
            "ticks": "",
            "zerolinecolor": "white"
           }
          },
          "shapedefaults": {
           "line": {
            "color": "#2a3f5f"
           }
          },
          "ternary": {
           "aaxis": {
            "gridcolor": "white",
            "linecolor": "white",
            "ticks": ""
           },
           "baxis": {
            "gridcolor": "white",
            "linecolor": "white",
            "ticks": ""
           },
           "bgcolor": "#E5ECF6",
           "caxis": {
            "gridcolor": "white",
            "linecolor": "white",
            "ticks": ""
           }
          },
          "title": {
           "x": 0.05
          },
          "xaxis": {
           "automargin": true,
           "gridcolor": "white",
           "linecolor": "white",
           "ticks": "",
           "title": {
            "standoff": 15
           },
           "zerolinecolor": "white",
           "zerolinewidth": 2
          },
          "yaxis": {
           "automargin": true,
           "gridcolor": "white",
           "linecolor": "white",
           "ticks": "",
           "title": {
            "standoff": 15
           },
           "zerolinecolor": "white",
           "zerolinewidth": 2
          }
         }
        },
        "title": {
         "text": "Feature Importance for ham"
        },
        "xaxis": {
         "anchor": "y",
         "domain": [
          0,
          1
         ],
         "title": {
          "text": "x"
         }
        },
        "yaxis": {
         "anchor": "x",
         "domain": [
          0,
          1
         ],
         "title": {
          "text": "y"
         }
        }
       }
      }
     },
     "metadata": {},
     "output_type": "display_data"
    },
    {
     "data": {
      "application/vnd.plotly.v1+json": {
       "config": {
        "plotlyServerURL": "https://plot.ly"
       },
       "data": [
        {
         "alignmentgroup": "True",
         "hovertemplate": "x=%{x}<br>y=%{y}<extra></extra>",
         "legendgroup": "",
         "marker": {
          "color": "#636efa",
          "pattern": {
           "shape": ""
          }
         },
         "name": "",
         "offsetgroup": "",
         "orientation": "v",
         "showlegend": false,
         "textposition": "auto",
         "type": "bar",
         "x": [
          "txt",
          "or",
          "now",
          "the",
          "for",
          "free",
          "your",
          "you",
          "call",
          "to"
         ],
         "xaxis": "x",
         "y": [
          0.000044109214414891265,
          0.000044109214414891265,
          0.000044109214414891265,
          0.000044109214414891265,
          0.000044109214414891265,
          0.00008821842882978253,
          0.00008821842882978253,
          0.00008821842882978253,
          0.000044109214414891265,
          0.000044109214414891265
         ],
         "yaxis": "y"
        }
       ],
       "layout": {
        "barmode": "relative",
        "legend": {
         "tracegroupgap": 0
        },
        "template": {
         "data": {
          "bar": [
           {
            "error_x": {
             "color": "#2a3f5f"
            },
            "error_y": {
             "color": "#2a3f5f"
            },
            "marker": {
             "line": {
              "color": "#E5ECF6",
              "width": 0.5
             },
             "pattern": {
              "fillmode": "overlay",
              "size": 10,
              "solidity": 0.2
             }
            },
            "type": "bar"
           }
          ],
          "barpolar": [
           {
            "marker": {
             "line": {
              "color": "#E5ECF6",
              "width": 0.5
             },
             "pattern": {
              "fillmode": "overlay",
              "size": 10,
              "solidity": 0.2
             }
            },
            "type": "barpolar"
           }
          ],
          "carpet": [
           {
            "aaxis": {
             "endlinecolor": "#2a3f5f",
             "gridcolor": "white",
             "linecolor": "white",
             "minorgridcolor": "white",
             "startlinecolor": "#2a3f5f"
            },
            "baxis": {
             "endlinecolor": "#2a3f5f",
             "gridcolor": "white",
             "linecolor": "white",
             "minorgridcolor": "white",
             "startlinecolor": "#2a3f5f"
            },
            "type": "carpet"
           }
          ],
          "choropleth": [
           {
            "colorbar": {
             "outlinewidth": 0,
             "ticks": ""
            },
            "type": "choropleth"
           }
          ],
          "contour": [
           {
            "colorbar": {
             "outlinewidth": 0,
             "ticks": ""
            },
            "colorscale": [
             [
              0,
              "#0d0887"
             ],
             [
              0.1111111111111111,
              "#46039f"
             ],
             [
              0.2222222222222222,
              "#7201a8"
             ],
             [
              0.3333333333333333,
              "#9c179e"
             ],
             [
              0.4444444444444444,
              "#bd3786"
             ],
             [
              0.5555555555555556,
              "#d8576b"
             ],
             [
              0.6666666666666666,
              "#ed7953"
             ],
             [
              0.7777777777777778,
              "#fb9f3a"
             ],
             [
              0.8888888888888888,
              "#fdca26"
             ],
             [
              1,
              "#f0f921"
             ]
            ],
            "type": "contour"
           }
          ],
          "contourcarpet": [
           {
            "colorbar": {
             "outlinewidth": 0,
             "ticks": ""
            },
            "type": "contourcarpet"
           }
          ],
          "heatmap": [
           {
            "colorbar": {
             "outlinewidth": 0,
             "ticks": ""
            },
            "colorscale": [
             [
              0,
              "#0d0887"
             ],
             [
              0.1111111111111111,
              "#46039f"
             ],
             [
              0.2222222222222222,
              "#7201a8"
             ],
             [
              0.3333333333333333,
              "#9c179e"
             ],
             [
              0.4444444444444444,
              "#bd3786"
             ],
             [
              0.5555555555555556,
              "#d8576b"
             ],
             [
              0.6666666666666666,
              "#ed7953"
             ],
             [
              0.7777777777777778,
              "#fb9f3a"
             ],
             [
              0.8888888888888888,
              "#fdca26"
             ],
             [
              1,
              "#f0f921"
             ]
            ],
            "type": "heatmap"
           }
          ],
          "heatmapgl": [
           {
            "colorbar": {
             "outlinewidth": 0,
             "ticks": ""
            },
            "colorscale": [
             [
              0,
              "#0d0887"
             ],
             [
              0.1111111111111111,
              "#46039f"
             ],
             [
              0.2222222222222222,
              "#7201a8"
             ],
             [
              0.3333333333333333,
              "#9c179e"
             ],
             [
              0.4444444444444444,
              "#bd3786"
             ],
             [
              0.5555555555555556,
              "#d8576b"
             ],
             [
              0.6666666666666666,
              "#ed7953"
             ],
             [
              0.7777777777777778,
              "#fb9f3a"
             ],
             [
              0.8888888888888888,
              "#fdca26"
             ],
             [
              1,
              "#f0f921"
             ]
            ],
            "type": "heatmapgl"
           }
          ],
          "histogram": [
           {
            "marker": {
             "pattern": {
              "fillmode": "overlay",
              "size": 10,
              "solidity": 0.2
             }
            },
            "type": "histogram"
           }
          ],
          "histogram2d": [
           {
            "colorbar": {
             "outlinewidth": 0,
             "ticks": ""
            },
            "colorscale": [
             [
              0,
              "#0d0887"
             ],
             [
              0.1111111111111111,
              "#46039f"
             ],
             [
              0.2222222222222222,
              "#7201a8"
             ],
             [
              0.3333333333333333,
              "#9c179e"
             ],
             [
              0.4444444444444444,
              "#bd3786"
             ],
             [
              0.5555555555555556,
              "#d8576b"
             ],
             [
              0.6666666666666666,
              "#ed7953"
             ],
             [
              0.7777777777777778,
              "#fb9f3a"
             ],
             [
              0.8888888888888888,
              "#fdca26"
             ],
             [
              1,
              "#f0f921"
             ]
            ],
            "type": "histogram2d"
           }
          ],
          "histogram2dcontour": [
           {
            "colorbar": {
             "outlinewidth": 0,
             "ticks": ""
            },
            "colorscale": [
             [
              0,
              "#0d0887"
             ],
             [
              0.1111111111111111,
              "#46039f"
             ],
             [
              0.2222222222222222,
              "#7201a8"
             ],
             [
              0.3333333333333333,
              "#9c179e"
             ],
             [
              0.4444444444444444,
              "#bd3786"
             ],
             [
              0.5555555555555556,
              "#d8576b"
             ],
             [
              0.6666666666666666,
              "#ed7953"
             ],
             [
              0.7777777777777778,
              "#fb9f3a"
             ],
             [
              0.8888888888888888,
              "#fdca26"
             ],
             [
              1,
              "#f0f921"
             ]
            ],
            "type": "histogram2dcontour"
           }
          ],
          "mesh3d": [
           {
            "colorbar": {
             "outlinewidth": 0,
             "ticks": ""
            },
            "type": "mesh3d"
           }
          ],
          "parcoords": [
           {
            "line": {
             "colorbar": {
              "outlinewidth": 0,
              "ticks": ""
             }
            },
            "type": "parcoords"
           }
          ],
          "pie": [
           {
            "automargin": true,
            "type": "pie"
           }
          ],
          "scatter": [
           {
            "fillpattern": {
             "fillmode": "overlay",
             "size": 10,
             "solidity": 0.2
            },
            "type": "scatter"
           }
          ],
          "scatter3d": [
           {
            "line": {
             "colorbar": {
              "outlinewidth": 0,
              "ticks": ""
             }
            },
            "marker": {
             "colorbar": {
              "outlinewidth": 0,
              "ticks": ""
             }
            },
            "type": "scatter3d"
           }
          ],
          "scattercarpet": [
           {
            "marker": {
             "colorbar": {
              "outlinewidth": 0,
              "ticks": ""
             }
            },
            "type": "scattercarpet"
           }
          ],
          "scattergeo": [
           {
            "marker": {
             "colorbar": {
              "outlinewidth": 0,
              "ticks": ""
             }
            },
            "type": "scattergeo"
           }
          ],
          "scattergl": [
           {
            "marker": {
             "colorbar": {
              "outlinewidth": 0,
              "ticks": ""
             }
            },
            "type": "scattergl"
           }
          ],
          "scattermapbox": [
           {
            "marker": {
             "colorbar": {
              "outlinewidth": 0,
              "ticks": ""
             }
            },
            "type": "scattermapbox"
           }
          ],
          "scatterpolar": [
           {
            "marker": {
             "colorbar": {
              "outlinewidth": 0,
              "ticks": ""
             }
            },
            "type": "scatterpolar"
           }
          ],
          "scatterpolargl": [
           {
            "marker": {
             "colorbar": {
              "outlinewidth": 0,
              "ticks": ""
             }
            },
            "type": "scatterpolargl"
           }
          ],
          "scatterternary": [
           {
            "marker": {
             "colorbar": {
              "outlinewidth": 0,
              "ticks": ""
             }
            },
            "type": "scatterternary"
           }
          ],
          "surface": [
           {
            "colorbar": {
             "outlinewidth": 0,
             "ticks": ""
            },
            "colorscale": [
             [
              0,
              "#0d0887"
             ],
             [
              0.1111111111111111,
              "#46039f"
             ],
             [
              0.2222222222222222,
              "#7201a8"
             ],
             [
              0.3333333333333333,
              "#9c179e"
             ],
             [
              0.4444444444444444,
              "#bd3786"
             ],
             [
              0.5555555555555556,
              "#d8576b"
             ],
             [
              0.6666666666666666,
              "#ed7953"
             ],
             [
              0.7777777777777778,
              "#fb9f3a"
             ],
             [
              0.8888888888888888,
              "#fdca26"
             ],
             [
              1,
              "#f0f921"
             ]
            ],
            "type": "surface"
           }
          ],
          "table": [
           {
            "cells": {
             "fill": {
              "color": "#EBF0F8"
             },
             "line": {
              "color": "white"
             }
            },
            "header": {
             "fill": {
              "color": "#C8D4E3"
             },
             "line": {
              "color": "white"
             }
            },
            "type": "table"
           }
          ]
         },
         "layout": {
          "annotationdefaults": {
           "arrowcolor": "#2a3f5f",
           "arrowhead": 0,
           "arrowwidth": 1
          },
          "autotypenumbers": "strict",
          "coloraxis": {
           "colorbar": {
            "outlinewidth": 0,
            "ticks": ""
           }
          },
          "colorscale": {
           "diverging": [
            [
             0,
             "#8e0152"
            ],
            [
             0.1,
             "#c51b7d"
            ],
            [
             0.2,
             "#de77ae"
            ],
            [
             0.3,
             "#f1b6da"
            ],
            [
             0.4,
             "#fde0ef"
            ],
            [
             0.5,
             "#f7f7f7"
            ],
            [
             0.6,
             "#e6f5d0"
            ],
            [
             0.7,
             "#b8e186"
            ],
            [
             0.8,
             "#7fbc41"
            ],
            [
             0.9,
             "#4d9221"
            ],
            [
             1,
             "#276419"
            ]
           ],
           "sequential": [
            [
             0,
             "#0d0887"
            ],
            [
             0.1111111111111111,
             "#46039f"
            ],
            [
             0.2222222222222222,
             "#7201a8"
            ],
            [
             0.3333333333333333,
             "#9c179e"
            ],
            [
             0.4444444444444444,
             "#bd3786"
            ],
            [
             0.5555555555555556,
             "#d8576b"
            ],
            [
             0.6666666666666666,
             "#ed7953"
            ],
            [
             0.7777777777777778,
             "#fb9f3a"
            ],
            [
             0.8888888888888888,
             "#fdca26"
            ],
            [
             1,
             "#f0f921"
            ]
           ],
           "sequentialminus": [
            [
             0,
             "#0d0887"
            ],
            [
             0.1111111111111111,
             "#46039f"
            ],
            [
             0.2222222222222222,
             "#7201a8"
            ],
            [
             0.3333333333333333,
             "#9c179e"
            ],
            [
             0.4444444444444444,
             "#bd3786"
            ],
            [
             0.5555555555555556,
             "#d8576b"
            ],
            [
             0.6666666666666666,
             "#ed7953"
            ],
            [
             0.7777777777777778,
             "#fb9f3a"
            ],
            [
             0.8888888888888888,
             "#fdca26"
            ],
            [
             1,
             "#f0f921"
            ]
           ]
          },
          "colorway": [
           "#636efa",
           "#EF553B",
           "#00cc96",
           "#ab63fa",
           "#FFA15A",
           "#19d3f3",
           "#FF6692",
           "#B6E880",
           "#FF97FF",
           "#FECB52"
          ],
          "font": {
           "color": "#2a3f5f"
          },
          "geo": {
           "bgcolor": "white",
           "lakecolor": "white",
           "landcolor": "#E5ECF6",
           "showlakes": true,
           "showland": true,
           "subunitcolor": "white"
          },
          "hoverlabel": {
           "align": "left"
          },
          "hovermode": "closest",
          "mapbox": {
           "style": "light"
          },
          "paper_bgcolor": "white",
          "plot_bgcolor": "#E5ECF6",
          "polar": {
           "angularaxis": {
            "gridcolor": "white",
            "linecolor": "white",
            "ticks": ""
           },
           "bgcolor": "#E5ECF6",
           "radialaxis": {
            "gridcolor": "white",
            "linecolor": "white",
            "ticks": ""
           }
          },
          "scene": {
           "xaxis": {
            "backgroundcolor": "#E5ECF6",
            "gridcolor": "white",
            "gridwidth": 2,
            "linecolor": "white",
            "showbackground": true,
            "ticks": "",
            "zerolinecolor": "white"
           },
           "yaxis": {
            "backgroundcolor": "#E5ECF6",
            "gridcolor": "white",
            "gridwidth": 2,
            "linecolor": "white",
            "showbackground": true,
            "ticks": "",
            "zerolinecolor": "white"
           },
           "zaxis": {
            "backgroundcolor": "#E5ECF6",
            "gridcolor": "white",
            "gridwidth": 2,
            "linecolor": "white",
            "showbackground": true,
            "ticks": "",
            "zerolinecolor": "white"
           }
          },
          "shapedefaults": {
           "line": {
            "color": "#2a3f5f"
           }
          },
          "ternary": {
           "aaxis": {
            "gridcolor": "white",
            "linecolor": "white",
            "ticks": ""
           },
           "baxis": {
            "gridcolor": "white",
            "linecolor": "white",
            "ticks": ""
           },
           "bgcolor": "#E5ECF6",
           "caxis": {
            "gridcolor": "white",
            "linecolor": "white",
            "ticks": ""
           }
          },
          "title": {
           "x": 0.05
          },
          "xaxis": {
           "automargin": true,
           "gridcolor": "white",
           "linecolor": "white",
           "ticks": "",
           "title": {
            "standoff": 15
           },
           "zerolinecolor": "white",
           "zerolinewidth": 2
          },
          "yaxis": {
           "automargin": true,
           "gridcolor": "white",
           "linecolor": "white",
           "ticks": "",
           "title": {
            "standoff": 15
           },
           "zerolinecolor": "white",
           "zerolinewidth": 2
          }
         }
        },
        "title": {
         "text": "Feature Importance for spam"
        },
        "xaxis": {
         "anchor": "y",
         "domain": [
          0,
          1
         ],
         "title": {
          "text": "x"
         }
        },
        "yaxis": {
         "anchor": "x",
         "domain": [
          0,
          1
         ],
         "title": {
          "text": "y"
         }
        }
       }
      }
     },
     "metadata": {},
     "output_type": "display_data"
    }
   ],
   "source": [
    "import numpy as np\n",
    "\n",
    "feature_names = np.array(vectorizer.get_feature_names_out())\n",
    "log_prob = nb.feature_log_prob_\n",
    "feature_importance = feature_names[np.argsort(log_prob)]\n",
    "\n",
    "#plotly plot of feature importance\n",
    "for i, label in enumerate(nb.classes_):\n",
    "    fig = px.bar(x=feature_importance[i][-10:], y=np.exp(log_prob[i][-10:]), title=f'Feature Importance for {label}')\n",
    "    fig.show()"
   ]
  },
  {
   "cell_type": "markdown",
   "metadata": {},
   "source": [
    "### Feature importance of custom Naive Bayes classifier"
   ]
  },
  {
   "cell_type": "code",
   "execution_count": 105,
   "metadata": {},
   "outputs": [
    {
     "data": {
      "application/vnd.plotly.v1+json": {
       "config": {
        "plotlyServerURL": "https://plot.ly"
       },
       "data": [
        {
         "alignmentgroup": "True",
         "hovertemplate": "x=%{x}<br>y=%{y}<extra></extra>",
         "legendgroup": "",
         "marker": {
          "color": "#636efa",
          "pattern": {
           "shape": ""
          }
         },
         "name": "",
         "offsetgroup": "",
         "orientation": "v",
         "showlegend": false,
         "textposition": "auto",
         "type": "bar",
         "x": [
          "you",
          "to",
          "the",
          "and",
          "in",
          "me",
          "my",
          "is",
          "it",
          "that",
          "of",
          "for",
          "so",
          "have",
          "but",
          "your",
          "can",
          "not",
          "are",
          "at"
         ],
         "xaxis": "x",
         "y": [
          0.3292291926059223,
          0.2844384757059387,
          0.20726688609024527,
          0.15917136373460605,
          0.15718087319572768,
          0.15073998474365569,
          0.14201216834716518,
          0.14021239283322576,
          0.1327538883738738,
          0.10585262253264807,
          0.10328582611696588,
          0.09977499746690288,
          0.08727041079498958,
          0.08608262113164435,
          0.08394103792170171,
          0.08370280087471432,
          0.08298774900298862,
          0.08203355045730694,
          0.08060054328588219,
          0.07892610203829878
         ],
         "yaxis": "y"
        }
       ],
       "layout": {
        "barmode": "relative",
        "legend": {
         "tracegroupgap": 0
        },
        "template": {
         "data": {
          "bar": [
           {
            "error_x": {
             "color": "#2a3f5f"
            },
            "error_y": {
             "color": "#2a3f5f"
            },
            "marker": {
             "line": {
              "color": "#E5ECF6",
              "width": 0.5
             },
             "pattern": {
              "fillmode": "overlay",
              "size": 10,
              "solidity": 0.2
             }
            },
            "type": "bar"
           }
          ],
          "barpolar": [
           {
            "marker": {
             "line": {
              "color": "#E5ECF6",
              "width": 0.5
             },
             "pattern": {
              "fillmode": "overlay",
              "size": 10,
              "solidity": 0.2
             }
            },
            "type": "barpolar"
           }
          ],
          "carpet": [
           {
            "aaxis": {
             "endlinecolor": "#2a3f5f",
             "gridcolor": "white",
             "linecolor": "white",
             "minorgridcolor": "white",
             "startlinecolor": "#2a3f5f"
            },
            "baxis": {
             "endlinecolor": "#2a3f5f",
             "gridcolor": "white",
             "linecolor": "white",
             "minorgridcolor": "white",
             "startlinecolor": "#2a3f5f"
            },
            "type": "carpet"
           }
          ],
          "choropleth": [
           {
            "colorbar": {
             "outlinewidth": 0,
             "ticks": ""
            },
            "type": "choropleth"
           }
          ],
          "contour": [
           {
            "colorbar": {
             "outlinewidth": 0,
             "ticks": ""
            },
            "colorscale": [
             [
              0,
              "#0d0887"
             ],
             [
              0.1111111111111111,
              "#46039f"
             ],
             [
              0.2222222222222222,
              "#7201a8"
             ],
             [
              0.3333333333333333,
              "#9c179e"
             ],
             [
              0.4444444444444444,
              "#bd3786"
             ],
             [
              0.5555555555555556,
              "#d8576b"
             ],
             [
              0.6666666666666666,
              "#ed7953"
             ],
             [
              0.7777777777777778,
              "#fb9f3a"
             ],
             [
              0.8888888888888888,
              "#fdca26"
             ],
             [
              1,
              "#f0f921"
             ]
            ],
            "type": "contour"
           }
          ],
          "contourcarpet": [
           {
            "colorbar": {
             "outlinewidth": 0,
             "ticks": ""
            },
            "type": "contourcarpet"
           }
          ],
          "heatmap": [
           {
            "colorbar": {
             "outlinewidth": 0,
             "ticks": ""
            },
            "colorscale": [
             [
              0,
              "#0d0887"
             ],
             [
              0.1111111111111111,
              "#46039f"
             ],
             [
              0.2222222222222222,
              "#7201a8"
             ],
             [
              0.3333333333333333,
              "#9c179e"
             ],
             [
              0.4444444444444444,
              "#bd3786"
             ],
             [
              0.5555555555555556,
              "#d8576b"
             ],
             [
              0.6666666666666666,
              "#ed7953"
             ],
             [
              0.7777777777777778,
              "#fb9f3a"
             ],
             [
              0.8888888888888888,
              "#fdca26"
             ],
             [
              1,
              "#f0f921"
             ]
            ],
            "type": "heatmap"
           }
          ],
          "heatmapgl": [
           {
            "colorbar": {
             "outlinewidth": 0,
             "ticks": ""
            },
            "colorscale": [
             [
              0,
              "#0d0887"
             ],
             [
              0.1111111111111111,
              "#46039f"
             ],
             [
              0.2222222222222222,
              "#7201a8"
             ],
             [
              0.3333333333333333,
              "#9c179e"
             ],
             [
              0.4444444444444444,
              "#bd3786"
             ],
             [
              0.5555555555555556,
              "#d8576b"
             ],
             [
              0.6666666666666666,
              "#ed7953"
             ],
             [
              0.7777777777777778,
              "#fb9f3a"
             ],
             [
              0.8888888888888888,
              "#fdca26"
             ],
             [
              1,
              "#f0f921"
             ]
            ],
            "type": "heatmapgl"
           }
          ],
          "histogram": [
           {
            "marker": {
             "pattern": {
              "fillmode": "overlay",
              "size": 10,
              "solidity": 0.2
             }
            },
            "type": "histogram"
           }
          ],
          "histogram2d": [
           {
            "colorbar": {
             "outlinewidth": 0,
             "ticks": ""
            },
            "colorscale": [
             [
              0,
              "#0d0887"
             ],
             [
              0.1111111111111111,
              "#46039f"
             ],
             [
              0.2222222222222222,
              "#7201a8"
             ],
             [
              0.3333333333333333,
              "#9c179e"
             ],
             [
              0.4444444444444444,
              "#bd3786"
             ],
             [
              0.5555555555555556,
              "#d8576b"
             ],
             [
              0.6666666666666666,
              "#ed7953"
             ],
             [
              0.7777777777777778,
              "#fb9f3a"
             ],
             [
              0.8888888888888888,
              "#fdca26"
             ],
             [
              1,
              "#f0f921"
             ]
            ],
            "type": "histogram2d"
           }
          ],
          "histogram2dcontour": [
           {
            "colorbar": {
             "outlinewidth": 0,
             "ticks": ""
            },
            "colorscale": [
             [
              0,
              "#0d0887"
             ],
             [
              0.1111111111111111,
              "#46039f"
             ],
             [
              0.2222222222222222,
              "#7201a8"
             ],
             [
              0.3333333333333333,
              "#9c179e"
             ],
             [
              0.4444444444444444,
              "#bd3786"
             ],
             [
              0.5555555555555556,
              "#d8576b"
             ],
             [
              0.6666666666666666,
              "#ed7953"
             ],
             [
              0.7777777777777778,
              "#fb9f3a"
             ],
             [
              0.8888888888888888,
              "#fdca26"
             ],
             [
              1,
              "#f0f921"
             ]
            ],
            "type": "histogram2dcontour"
           }
          ],
          "mesh3d": [
           {
            "colorbar": {
             "outlinewidth": 0,
             "ticks": ""
            },
            "type": "mesh3d"
           }
          ],
          "parcoords": [
           {
            "line": {
             "colorbar": {
              "outlinewidth": 0,
              "ticks": ""
             }
            },
            "type": "parcoords"
           }
          ],
          "pie": [
           {
            "automargin": true,
            "type": "pie"
           }
          ],
          "scatter": [
           {
            "fillpattern": {
             "fillmode": "overlay",
             "size": 10,
             "solidity": 0.2
            },
            "type": "scatter"
           }
          ],
          "scatter3d": [
           {
            "line": {
             "colorbar": {
              "outlinewidth": 0,
              "ticks": ""
             }
            },
            "marker": {
             "colorbar": {
              "outlinewidth": 0,
              "ticks": ""
             }
            },
            "type": "scatter3d"
           }
          ],
          "scattercarpet": [
           {
            "marker": {
             "colorbar": {
              "outlinewidth": 0,
              "ticks": ""
             }
            },
            "type": "scattercarpet"
           }
          ],
          "scattergeo": [
           {
            "marker": {
             "colorbar": {
              "outlinewidth": 0,
              "ticks": ""
             }
            },
            "type": "scattergeo"
           }
          ],
          "scattergl": [
           {
            "marker": {
             "colorbar": {
              "outlinewidth": 0,
              "ticks": ""
             }
            },
            "type": "scattergl"
           }
          ],
          "scattermapbox": [
           {
            "marker": {
             "colorbar": {
              "outlinewidth": 0,
              "ticks": ""
             }
            },
            "type": "scattermapbox"
           }
          ],
          "scatterpolar": [
           {
            "marker": {
             "colorbar": {
              "outlinewidth": 0,
              "ticks": ""
             }
            },
            "type": "scatterpolar"
           }
          ],
          "scatterpolargl": [
           {
            "marker": {
             "colorbar": {
              "outlinewidth": 0,
              "ticks": ""
             }
            },
            "type": "scatterpolargl"
           }
          ],
          "scatterternary": [
           {
            "marker": {
             "colorbar": {
              "outlinewidth": 0,
              "ticks": ""
             }
            },
            "type": "scatterternary"
           }
          ],
          "surface": [
           {
            "colorbar": {
             "outlinewidth": 0,
             "ticks": ""
            },
            "colorscale": [
             [
              0,
              "#0d0887"
             ],
             [
              0.1111111111111111,
              "#46039f"
             ],
             [
              0.2222222222222222,
              "#7201a8"
             ],
             [
              0.3333333333333333,
              "#9c179e"
             ],
             [
              0.4444444444444444,
              "#bd3786"
             ],
             [
              0.5555555555555556,
              "#d8576b"
             ],
             [
              0.6666666666666666,
              "#ed7953"
             ],
             [
              0.7777777777777778,
              "#fb9f3a"
             ],
             [
              0.8888888888888888,
              "#fdca26"
             ],
             [
              1,
              "#f0f921"
             ]
            ],
            "type": "surface"
           }
          ],
          "table": [
           {
            "cells": {
             "fill": {
              "color": "#EBF0F8"
             },
             "line": {
              "color": "white"
             }
            },
            "header": {
             "fill": {
              "color": "#C8D4E3"
             },
             "line": {
              "color": "white"
             }
            },
            "type": "table"
           }
          ]
         },
         "layout": {
          "annotationdefaults": {
           "arrowcolor": "#2a3f5f",
           "arrowhead": 0,
           "arrowwidth": 1
          },
          "autotypenumbers": "strict",
          "coloraxis": {
           "colorbar": {
            "outlinewidth": 0,
            "ticks": ""
           }
          },
          "colorscale": {
           "diverging": [
            [
             0,
             "#8e0152"
            ],
            [
             0.1,
             "#c51b7d"
            ],
            [
             0.2,
             "#de77ae"
            ],
            [
             0.3,
             "#f1b6da"
            ],
            [
             0.4,
             "#fde0ef"
            ],
            [
             0.5,
             "#f7f7f7"
            ],
            [
             0.6,
             "#e6f5d0"
            ],
            [
             0.7,
             "#b8e186"
            ],
            [
             0.8,
             "#7fbc41"
            ],
            [
             0.9,
             "#4d9221"
            ],
            [
             1,
             "#276419"
            ]
           ],
           "sequential": [
            [
             0,
             "#0d0887"
            ],
            [
             0.1111111111111111,
             "#46039f"
            ],
            [
             0.2222222222222222,
             "#7201a8"
            ],
            [
             0.3333333333333333,
             "#9c179e"
            ],
            [
             0.4444444444444444,
             "#bd3786"
            ],
            [
             0.5555555555555556,
             "#d8576b"
            ],
            [
             0.6666666666666666,
             "#ed7953"
            ],
            [
             0.7777777777777778,
             "#fb9f3a"
            ],
            [
             0.8888888888888888,
             "#fdca26"
            ],
            [
             1,
             "#f0f921"
            ]
           ],
           "sequentialminus": [
            [
             0,
             "#0d0887"
            ],
            [
             0.1111111111111111,
             "#46039f"
            ],
            [
             0.2222222222222222,
             "#7201a8"
            ],
            [
             0.3333333333333333,
             "#9c179e"
            ],
            [
             0.4444444444444444,
             "#bd3786"
            ],
            [
             0.5555555555555556,
             "#d8576b"
            ],
            [
             0.6666666666666666,
             "#ed7953"
            ],
            [
             0.7777777777777778,
             "#fb9f3a"
            ],
            [
             0.8888888888888888,
             "#fdca26"
            ],
            [
             1,
             "#f0f921"
            ]
           ]
          },
          "colorway": [
           "#636efa",
           "#EF553B",
           "#00cc96",
           "#ab63fa",
           "#FFA15A",
           "#19d3f3",
           "#FF6692",
           "#B6E880",
           "#FF97FF",
           "#FECB52"
          ],
          "font": {
           "color": "#2a3f5f"
          },
          "geo": {
           "bgcolor": "white",
           "lakecolor": "white",
           "landcolor": "#E5ECF6",
           "showlakes": true,
           "showland": true,
           "subunitcolor": "white"
          },
          "hoverlabel": {
           "align": "left"
          },
          "hovermode": "closest",
          "mapbox": {
           "style": "light"
          },
          "paper_bgcolor": "white",
          "plot_bgcolor": "#E5ECF6",
          "polar": {
           "angularaxis": {
            "gridcolor": "white",
            "linecolor": "white",
            "ticks": ""
           },
           "bgcolor": "#E5ECF6",
           "radialaxis": {
            "gridcolor": "white",
            "linecolor": "white",
            "ticks": ""
           }
          },
          "scene": {
           "xaxis": {
            "backgroundcolor": "#E5ECF6",
            "gridcolor": "white",
            "gridwidth": 2,
            "linecolor": "white",
            "showbackground": true,
            "ticks": "",
            "zerolinecolor": "white"
           },
           "yaxis": {
            "backgroundcolor": "#E5ECF6",
            "gridcolor": "white",
            "gridwidth": 2,
            "linecolor": "white",
            "showbackground": true,
            "ticks": "",
            "zerolinecolor": "white"
           },
           "zaxis": {
            "backgroundcolor": "#E5ECF6",
            "gridcolor": "white",
            "gridwidth": 2,
            "linecolor": "white",
            "showbackground": true,
            "ticks": "",
            "zerolinecolor": "white"
           }
          },
          "shapedefaults": {
           "line": {
            "color": "#2a3f5f"
           }
          },
          "ternary": {
           "aaxis": {
            "gridcolor": "white",
            "linecolor": "white",
            "ticks": ""
           },
           "baxis": {
            "gridcolor": "white",
            "linecolor": "white",
            "ticks": ""
           },
           "bgcolor": "#E5ECF6",
           "caxis": {
            "gridcolor": "white",
            "linecolor": "white",
            "ticks": ""
           }
          },
          "title": {
           "x": 0.05
          },
          "xaxis": {
           "automargin": true,
           "gridcolor": "white",
           "linecolor": "white",
           "ticks": "",
           "title": {
            "standoff": 15
           },
           "zerolinecolor": "white",
           "zerolinewidth": 2
          },
          "yaxis": {
           "automargin": true,
           "gridcolor": "white",
           "linecolor": "white",
           "ticks": "",
           "title": {
            "standoff": 15
           },
           "zerolinecolor": "white",
           "zerolinewidth": 2
          }
         }
        },
        "title": {
         "text": "Top 20 Most Important Features"
        },
        "xaxis": {
         "anchor": "y",
         "domain": [
          0,
          1
         ],
         "title": {
          "text": "x"
         }
        },
        "yaxis": {
         "anchor": "x",
         "domain": [
          0,
          1
         ],
         "title": {
          "text": "y"
         }
        }
       }
      }
     },
     "metadata": {},
     "output_type": "display_data"
    }
   ],
   "source": [
    "feature_importance = customNB.feature_importance(vectorizer)\n",
    "#plotting the feature importance with plotly\n",
    "import plotly.express as px\n",
    "\n",
    "top_features = feature_importance.T.sort_values(0, ascending=False).head(20)\n",
    "fig = px.bar(x=top_features.index, y=top_features[0], title='Top 20 Most Important Features')\n",
    "fig.show()"
   ]
  },
  {
   "cell_type": "markdown",
   "metadata": {},
   "source": [
    "#### per class"
   ]
  },
  {
   "cell_type": "code",
   "execution_count": 106,
   "metadata": {},
   "outputs": [
    {
     "data": {
      "application/vnd.plotly.v1+json": {
       "config": {
        "plotlyServerURL": "https://plot.ly"
       },
       "data": [
        {
         "alignmentgroup": "True",
         "hovertemplate": "x=%{x}<br>y=%{y}<extra></extra>",
         "legendgroup": "",
         "marker": {
          "color": "#636efa",
          "pattern": {
           "shape": ""
          }
         },
         "name": "",
         "offsetgroup": "",
         "orientation": "v",
         "showlegend": false,
         "textposition": "auto",
         "type": "bar",
         "x": [
          "you",
          "to",
          "the",
          "and",
          "in",
          "me",
          "my",
          "is",
          "it",
          "that",
          "of",
          "for",
          "so",
          "have",
          "but",
          "your",
          "can",
          "not",
          "are",
          "at"
         ],
         "xaxis": "x",
         "y": [
          0.3292291926059223,
          0.2844384757059387,
          0.20726688609024527,
          0.15917136373460605,
          0.15718087319572768,
          0.15073998474365569,
          0.14201216834716518,
          0.14021239283322576,
          0.1327538883738738,
          0.10585262253264807,
          0.10328582611696588,
          0.09977499746690288,
          0.08727041079498958,
          0.08608262113164435,
          0.08394103792170171,
          0.08370280087471432,
          0.08298774900298862,
          0.08203355045730694,
          0.08060054328588219,
          0.07892610203829878
         ],
         "yaxis": "y"
        }
       ],
       "layout": {
        "barmode": "relative",
        "legend": {
         "tracegroupgap": 0
        },
        "template": {
         "data": {
          "bar": [
           {
            "error_x": {
             "color": "#2a3f5f"
            },
            "error_y": {
             "color": "#2a3f5f"
            },
            "marker": {
             "line": {
              "color": "#E5ECF6",
              "width": 0.5
             },
             "pattern": {
              "fillmode": "overlay",
              "size": 10,
              "solidity": 0.2
             }
            },
            "type": "bar"
           }
          ],
          "barpolar": [
           {
            "marker": {
             "line": {
              "color": "#E5ECF6",
              "width": 0.5
             },
             "pattern": {
              "fillmode": "overlay",
              "size": 10,
              "solidity": 0.2
             }
            },
            "type": "barpolar"
           }
          ],
          "carpet": [
           {
            "aaxis": {
             "endlinecolor": "#2a3f5f",
             "gridcolor": "white",
             "linecolor": "white",
             "minorgridcolor": "white",
             "startlinecolor": "#2a3f5f"
            },
            "baxis": {
             "endlinecolor": "#2a3f5f",
             "gridcolor": "white",
             "linecolor": "white",
             "minorgridcolor": "white",
             "startlinecolor": "#2a3f5f"
            },
            "type": "carpet"
           }
          ],
          "choropleth": [
           {
            "colorbar": {
             "outlinewidth": 0,
             "ticks": ""
            },
            "type": "choropleth"
           }
          ],
          "contour": [
           {
            "colorbar": {
             "outlinewidth": 0,
             "ticks": ""
            },
            "colorscale": [
             [
              0,
              "#0d0887"
             ],
             [
              0.1111111111111111,
              "#46039f"
             ],
             [
              0.2222222222222222,
              "#7201a8"
             ],
             [
              0.3333333333333333,
              "#9c179e"
             ],
             [
              0.4444444444444444,
              "#bd3786"
             ],
             [
              0.5555555555555556,
              "#d8576b"
             ],
             [
              0.6666666666666666,
              "#ed7953"
             ],
             [
              0.7777777777777778,
              "#fb9f3a"
             ],
             [
              0.8888888888888888,
              "#fdca26"
             ],
             [
              1,
              "#f0f921"
             ]
            ],
            "type": "contour"
           }
          ],
          "contourcarpet": [
           {
            "colorbar": {
             "outlinewidth": 0,
             "ticks": ""
            },
            "type": "contourcarpet"
           }
          ],
          "heatmap": [
           {
            "colorbar": {
             "outlinewidth": 0,
             "ticks": ""
            },
            "colorscale": [
             [
              0,
              "#0d0887"
             ],
             [
              0.1111111111111111,
              "#46039f"
             ],
             [
              0.2222222222222222,
              "#7201a8"
             ],
             [
              0.3333333333333333,
              "#9c179e"
             ],
             [
              0.4444444444444444,
              "#bd3786"
             ],
             [
              0.5555555555555556,
              "#d8576b"
             ],
             [
              0.6666666666666666,
              "#ed7953"
             ],
             [
              0.7777777777777778,
              "#fb9f3a"
             ],
             [
              0.8888888888888888,
              "#fdca26"
             ],
             [
              1,
              "#f0f921"
             ]
            ],
            "type": "heatmap"
           }
          ],
          "heatmapgl": [
           {
            "colorbar": {
             "outlinewidth": 0,
             "ticks": ""
            },
            "colorscale": [
             [
              0,
              "#0d0887"
             ],
             [
              0.1111111111111111,
              "#46039f"
             ],
             [
              0.2222222222222222,
              "#7201a8"
             ],
             [
              0.3333333333333333,
              "#9c179e"
             ],
             [
              0.4444444444444444,
              "#bd3786"
             ],
             [
              0.5555555555555556,
              "#d8576b"
             ],
             [
              0.6666666666666666,
              "#ed7953"
             ],
             [
              0.7777777777777778,
              "#fb9f3a"
             ],
             [
              0.8888888888888888,
              "#fdca26"
             ],
             [
              1,
              "#f0f921"
             ]
            ],
            "type": "heatmapgl"
           }
          ],
          "histogram": [
           {
            "marker": {
             "pattern": {
              "fillmode": "overlay",
              "size": 10,
              "solidity": 0.2
             }
            },
            "type": "histogram"
           }
          ],
          "histogram2d": [
           {
            "colorbar": {
             "outlinewidth": 0,
             "ticks": ""
            },
            "colorscale": [
             [
              0,
              "#0d0887"
             ],
             [
              0.1111111111111111,
              "#46039f"
             ],
             [
              0.2222222222222222,
              "#7201a8"
             ],
             [
              0.3333333333333333,
              "#9c179e"
             ],
             [
              0.4444444444444444,
              "#bd3786"
             ],
             [
              0.5555555555555556,
              "#d8576b"
             ],
             [
              0.6666666666666666,
              "#ed7953"
             ],
             [
              0.7777777777777778,
              "#fb9f3a"
             ],
             [
              0.8888888888888888,
              "#fdca26"
             ],
             [
              1,
              "#f0f921"
             ]
            ],
            "type": "histogram2d"
           }
          ],
          "histogram2dcontour": [
           {
            "colorbar": {
             "outlinewidth": 0,
             "ticks": ""
            },
            "colorscale": [
             [
              0,
              "#0d0887"
             ],
             [
              0.1111111111111111,
              "#46039f"
             ],
             [
              0.2222222222222222,
              "#7201a8"
             ],
             [
              0.3333333333333333,
              "#9c179e"
             ],
             [
              0.4444444444444444,
              "#bd3786"
             ],
             [
              0.5555555555555556,
              "#d8576b"
             ],
             [
              0.6666666666666666,
              "#ed7953"
             ],
             [
              0.7777777777777778,
              "#fb9f3a"
             ],
             [
              0.8888888888888888,
              "#fdca26"
             ],
             [
              1,
              "#f0f921"
             ]
            ],
            "type": "histogram2dcontour"
           }
          ],
          "mesh3d": [
           {
            "colorbar": {
             "outlinewidth": 0,
             "ticks": ""
            },
            "type": "mesh3d"
           }
          ],
          "parcoords": [
           {
            "line": {
             "colorbar": {
              "outlinewidth": 0,
              "ticks": ""
             }
            },
            "type": "parcoords"
           }
          ],
          "pie": [
           {
            "automargin": true,
            "type": "pie"
           }
          ],
          "scatter": [
           {
            "fillpattern": {
             "fillmode": "overlay",
             "size": 10,
             "solidity": 0.2
            },
            "type": "scatter"
           }
          ],
          "scatter3d": [
           {
            "line": {
             "colorbar": {
              "outlinewidth": 0,
              "ticks": ""
             }
            },
            "marker": {
             "colorbar": {
              "outlinewidth": 0,
              "ticks": ""
             }
            },
            "type": "scatter3d"
           }
          ],
          "scattercarpet": [
           {
            "marker": {
             "colorbar": {
              "outlinewidth": 0,
              "ticks": ""
             }
            },
            "type": "scattercarpet"
           }
          ],
          "scattergeo": [
           {
            "marker": {
             "colorbar": {
              "outlinewidth": 0,
              "ticks": ""
             }
            },
            "type": "scattergeo"
           }
          ],
          "scattergl": [
           {
            "marker": {
             "colorbar": {
              "outlinewidth": 0,
              "ticks": ""
             }
            },
            "type": "scattergl"
           }
          ],
          "scattermapbox": [
           {
            "marker": {
             "colorbar": {
              "outlinewidth": 0,
              "ticks": ""
             }
            },
            "type": "scattermapbox"
           }
          ],
          "scatterpolar": [
           {
            "marker": {
             "colorbar": {
              "outlinewidth": 0,
              "ticks": ""
             }
            },
            "type": "scatterpolar"
           }
          ],
          "scatterpolargl": [
           {
            "marker": {
             "colorbar": {
              "outlinewidth": 0,
              "ticks": ""
             }
            },
            "type": "scatterpolargl"
           }
          ],
          "scatterternary": [
           {
            "marker": {
             "colorbar": {
              "outlinewidth": 0,
              "ticks": ""
             }
            },
            "type": "scatterternary"
           }
          ],
          "surface": [
           {
            "colorbar": {
             "outlinewidth": 0,
             "ticks": ""
            },
            "colorscale": [
             [
              0,
              "#0d0887"
             ],
             [
              0.1111111111111111,
              "#46039f"
             ],
             [
              0.2222222222222222,
              "#7201a8"
             ],
             [
              0.3333333333333333,
              "#9c179e"
             ],
             [
              0.4444444444444444,
              "#bd3786"
             ],
             [
              0.5555555555555556,
              "#d8576b"
             ],
             [
              0.6666666666666666,
              "#ed7953"
             ],
             [
              0.7777777777777778,
              "#fb9f3a"
             ],
             [
              0.8888888888888888,
              "#fdca26"
             ],
             [
              1,
              "#f0f921"
             ]
            ],
            "type": "surface"
           }
          ],
          "table": [
           {
            "cells": {
             "fill": {
              "color": "#EBF0F8"
             },
             "line": {
              "color": "white"
             }
            },
            "header": {
             "fill": {
              "color": "#C8D4E3"
             },
             "line": {
              "color": "white"
             }
            },
            "type": "table"
           }
          ]
         },
         "layout": {
          "annotationdefaults": {
           "arrowcolor": "#2a3f5f",
           "arrowhead": 0,
           "arrowwidth": 1
          },
          "autotypenumbers": "strict",
          "coloraxis": {
           "colorbar": {
            "outlinewidth": 0,
            "ticks": ""
           }
          },
          "colorscale": {
           "diverging": [
            [
             0,
             "#8e0152"
            ],
            [
             0.1,
             "#c51b7d"
            ],
            [
             0.2,
             "#de77ae"
            ],
            [
             0.3,
             "#f1b6da"
            ],
            [
             0.4,
             "#fde0ef"
            ],
            [
             0.5,
             "#f7f7f7"
            ],
            [
             0.6,
             "#e6f5d0"
            ],
            [
             0.7,
             "#b8e186"
            ],
            [
             0.8,
             "#7fbc41"
            ],
            [
             0.9,
             "#4d9221"
            ],
            [
             1,
             "#276419"
            ]
           ],
           "sequential": [
            [
             0,
             "#0d0887"
            ],
            [
             0.1111111111111111,
             "#46039f"
            ],
            [
             0.2222222222222222,
             "#7201a8"
            ],
            [
             0.3333333333333333,
             "#9c179e"
            ],
            [
             0.4444444444444444,
             "#bd3786"
            ],
            [
             0.5555555555555556,
             "#d8576b"
            ],
            [
             0.6666666666666666,
             "#ed7953"
            ],
            [
             0.7777777777777778,
             "#fb9f3a"
            ],
            [
             0.8888888888888888,
             "#fdca26"
            ],
            [
             1,
             "#f0f921"
            ]
           ],
           "sequentialminus": [
            [
             0,
             "#0d0887"
            ],
            [
             0.1111111111111111,
             "#46039f"
            ],
            [
             0.2222222222222222,
             "#7201a8"
            ],
            [
             0.3333333333333333,
             "#9c179e"
            ],
            [
             0.4444444444444444,
             "#bd3786"
            ],
            [
             0.5555555555555556,
             "#d8576b"
            ],
            [
             0.6666666666666666,
             "#ed7953"
            ],
            [
             0.7777777777777778,
             "#fb9f3a"
            ],
            [
             0.8888888888888888,
             "#fdca26"
            ],
            [
             1,
             "#f0f921"
            ]
           ]
          },
          "colorway": [
           "#636efa",
           "#EF553B",
           "#00cc96",
           "#ab63fa",
           "#FFA15A",
           "#19d3f3",
           "#FF6692",
           "#B6E880",
           "#FF97FF",
           "#FECB52"
          ],
          "font": {
           "color": "#2a3f5f"
          },
          "geo": {
           "bgcolor": "white",
           "lakecolor": "white",
           "landcolor": "#E5ECF6",
           "showlakes": true,
           "showland": true,
           "subunitcolor": "white"
          },
          "hoverlabel": {
           "align": "left"
          },
          "hovermode": "closest",
          "mapbox": {
           "style": "light"
          },
          "paper_bgcolor": "white",
          "plot_bgcolor": "#E5ECF6",
          "polar": {
           "angularaxis": {
            "gridcolor": "white",
            "linecolor": "white",
            "ticks": ""
           },
           "bgcolor": "#E5ECF6",
           "radialaxis": {
            "gridcolor": "white",
            "linecolor": "white",
            "ticks": ""
           }
          },
          "scene": {
           "xaxis": {
            "backgroundcolor": "#E5ECF6",
            "gridcolor": "white",
            "gridwidth": 2,
            "linecolor": "white",
            "showbackground": true,
            "ticks": "",
            "zerolinecolor": "white"
           },
           "yaxis": {
            "backgroundcolor": "#E5ECF6",
            "gridcolor": "white",
            "gridwidth": 2,
            "linecolor": "white",
            "showbackground": true,
            "ticks": "",
            "zerolinecolor": "white"
           },
           "zaxis": {
            "backgroundcolor": "#E5ECF6",
            "gridcolor": "white",
            "gridwidth": 2,
            "linecolor": "white",
            "showbackground": true,
            "ticks": "",
            "zerolinecolor": "white"
           }
          },
          "shapedefaults": {
           "line": {
            "color": "#2a3f5f"
           }
          },
          "ternary": {
           "aaxis": {
            "gridcolor": "white",
            "linecolor": "white",
            "ticks": ""
           },
           "baxis": {
            "gridcolor": "white",
            "linecolor": "white",
            "ticks": ""
           },
           "bgcolor": "#E5ECF6",
           "caxis": {
            "gridcolor": "white",
            "linecolor": "white",
            "ticks": ""
           }
          },
          "title": {
           "x": 0.05
          },
          "xaxis": {
           "automargin": true,
           "gridcolor": "white",
           "linecolor": "white",
           "ticks": "",
           "title": {
            "standoff": 15
           },
           "zerolinecolor": "white",
           "zerolinewidth": 2
          },
          "yaxis": {
           "automargin": true,
           "gridcolor": "white",
           "linecolor": "white",
           "ticks": "",
           "title": {
            "standoff": 15
           },
           "zerolinecolor": "white",
           "zerolinewidth": 2
          }
         }
        },
        "title": {
         "text": "Top 20 Most Important Features for Ham Messages"
        },
        "xaxis": {
         "anchor": "y",
         "domain": [
          0,
          1
         ],
         "title": {
          "text": "x"
         }
        },
        "yaxis": {
         "anchor": "x",
         "domain": [
          0,
          1
         ],
         "title": {
          "text": "y"
         }
        }
       }
      }
     },
     "metadata": {},
     "output_type": "display_data"
    },
    {
     "data": {
      "application/vnd.plotly.v1+json": {
       "config": {
        "plotlyServerURL": "https://plot.ly"
       },
       "data": [
        {
         "alignmentgroup": "True",
         "hovertemplate": "x=%{x}<br>y=%{y}<extra></extra>",
         "legendgroup": "",
         "marker": {
          "color": "#636efa",
          "pattern": {
           "shape": ""
          }
         },
         "name": "",
         "offsetgroup": "",
         "orientation": "v",
         "showlegend": false,
         "textposition": "auto",
         "type": "bar",
         "x": [
          "to",
          "call",
          "you",
          "your",
          "free",
          "for",
          "the",
          "now",
          "or",
          "txt",
          "is",
          "on",
          "ur",
          "have",
          "from",
          "mobile",
          "stop",
          "and",
          "claim",
          "text"
         ],
         "xaxis": "x",
         "y": [
          0.6556001079646937,
          0.38230677296501225,
          0.33910098708948094,
          0.30635094072281077,
          0.2686580364470838,
          0.24402944229404416,
          0.24140131988777458,
          0.2387662722497696,
          0.2294885383715326,
          0.20249634635717637,
          0.19563290143219395,
          0.17896584894698236,
          0.17616079801937368,
          0.16628068941966648,
          0.16486124276544037,
          0.1591632216508025,
          0.1548682973679218,
          0.14766884222506746,
          0.14622271037506776,
          0.14332415762105655
         ],
         "yaxis": "y"
        }
       ],
       "layout": {
        "barmode": "relative",
        "legend": {
         "tracegroupgap": 0
        },
        "template": {
         "data": {
          "bar": [
           {
            "error_x": {
             "color": "#2a3f5f"
            },
            "error_y": {
             "color": "#2a3f5f"
            },
            "marker": {
             "line": {
              "color": "#E5ECF6",
              "width": 0.5
             },
             "pattern": {
              "fillmode": "overlay",
              "size": 10,
              "solidity": 0.2
             }
            },
            "type": "bar"
           }
          ],
          "barpolar": [
           {
            "marker": {
             "line": {
              "color": "#E5ECF6",
              "width": 0.5
             },
             "pattern": {
              "fillmode": "overlay",
              "size": 10,
              "solidity": 0.2
             }
            },
            "type": "barpolar"
           }
          ],
          "carpet": [
           {
            "aaxis": {
             "endlinecolor": "#2a3f5f",
             "gridcolor": "white",
             "linecolor": "white",
             "minorgridcolor": "white",
             "startlinecolor": "#2a3f5f"
            },
            "baxis": {
             "endlinecolor": "#2a3f5f",
             "gridcolor": "white",
             "linecolor": "white",
             "minorgridcolor": "white",
             "startlinecolor": "#2a3f5f"
            },
            "type": "carpet"
           }
          ],
          "choropleth": [
           {
            "colorbar": {
             "outlinewidth": 0,
             "ticks": ""
            },
            "type": "choropleth"
           }
          ],
          "contour": [
           {
            "colorbar": {
             "outlinewidth": 0,
             "ticks": ""
            },
            "colorscale": [
             [
              0,
              "#0d0887"
             ],
             [
              0.1111111111111111,
              "#46039f"
             ],
             [
              0.2222222222222222,
              "#7201a8"
             ],
             [
              0.3333333333333333,
              "#9c179e"
             ],
             [
              0.4444444444444444,
              "#bd3786"
             ],
             [
              0.5555555555555556,
              "#d8576b"
             ],
             [
              0.6666666666666666,
              "#ed7953"
             ],
             [
              0.7777777777777778,
              "#fb9f3a"
             ],
             [
              0.8888888888888888,
              "#fdca26"
             ],
             [
              1,
              "#f0f921"
             ]
            ],
            "type": "contour"
           }
          ],
          "contourcarpet": [
           {
            "colorbar": {
             "outlinewidth": 0,
             "ticks": ""
            },
            "type": "contourcarpet"
           }
          ],
          "heatmap": [
           {
            "colorbar": {
             "outlinewidth": 0,
             "ticks": ""
            },
            "colorscale": [
             [
              0,
              "#0d0887"
             ],
             [
              0.1111111111111111,
              "#46039f"
             ],
             [
              0.2222222222222222,
              "#7201a8"
             ],
             [
              0.3333333333333333,
              "#9c179e"
             ],
             [
              0.4444444444444444,
              "#bd3786"
             ],
             [
              0.5555555555555556,
              "#d8576b"
             ],
             [
              0.6666666666666666,
              "#ed7953"
             ],
             [
              0.7777777777777778,
              "#fb9f3a"
             ],
             [
              0.8888888888888888,
              "#fdca26"
             ],
             [
              1,
              "#f0f921"
             ]
            ],
            "type": "heatmap"
           }
          ],
          "heatmapgl": [
           {
            "colorbar": {
             "outlinewidth": 0,
             "ticks": ""
            },
            "colorscale": [
             [
              0,
              "#0d0887"
             ],
             [
              0.1111111111111111,
              "#46039f"
             ],
             [
              0.2222222222222222,
              "#7201a8"
             ],
             [
              0.3333333333333333,
              "#9c179e"
             ],
             [
              0.4444444444444444,
              "#bd3786"
             ],
             [
              0.5555555555555556,
              "#d8576b"
             ],
             [
              0.6666666666666666,
              "#ed7953"
             ],
             [
              0.7777777777777778,
              "#fb9f3a"
             ],
             [
              0.8888888888888888,
              "#fdca26"
             ],
             [
              1,
              "#f0f921"
             ]
            ],
            "type": "heatmapgl"
           }
          ],
          "histogram": [
           {
            "marker": {
             "pattern": {
              "fillmode": "overlay",
              "size": 10,
              "solidity": 0.2
             }
            },
            "type": "histogram"
           }
          ],
          "histogram2d": [
           {
            "colorbar": {
             "outlinewidth": 0,
             "ticks": ""
            },
            "colorscale": [
             [
              0,
              "#0d0887"
             ],
             [
              0.1111111111111111,
              "#46039f"
             ],
             [
              0.2222222222222222,
              "#7201a8"
             ],
             [
              0.3333333333333333,
              "#9c179e"
             ],
             [
              0.4444444444444444,
              "#bd3786"
             ],
             [
              0.5555555555555556,
              "#d8576b"
             ],
             [
              0.6666666666666666,
              "#ed7953"
             ],
             [
              0.7777777777777778,
              "#fb9f3a"
             ],
             [
              0.8888888888888888,
              "#fdca26"
             ],
             [
              1,
              "#f0f921"
             ]
            ],
            "type": "histogram2d"
           }
          ],
          "histogram2dcontour": [
           {
            "colorbar": {
             "outlinewidth": 0,
             "ticks": ""
            },
            "colorscale": [
             [
              0,
              "#0d0887"
             ],
             [
              0.1111111111111111,
              "#46039f"
             ],
             [
              0.2222222222222222,
              "#7201a8"
             ],
             [
              0.3333333333333333,
              "#9c179e"
             ],
             [
              0.4444444444444444,
              "#bd3786"
             ],
             [
              0.5555555555555556,
              "#d8576b"
             ],
             [
              0.6666666666666666,
              "#ed7953"
             ],
             [
              0.7777777777777778,
              "#fb9f3a"
             ],
             [
              0.8888888888888888,
              "#fdca26"
             ],
             [
              1,
              "#f0f921"
             ]
            ],
            "type": "histogram2dcontour"
           }
          ],
          "mesh3d": [
           {
            "colorbar": {
             "outlinewidth": 0,
             "ticks": ""
            },
            "type": "mesh3d"
           }
          ],
          "parcoords": [
           {
            "line": {
             "colorbar": {
              "outlinewidth": 0,
              "ticks": ""
             }
            },
            "type": "parcoords"
           }
          ],
          "pie": [
           {
            "automargin": true,
            "type": "pie"
           }
          ],
          "scatter": [
           {
            "fillpattern": {
             "fillmode": "overlay",
             "size": 10,
             "solidity": 0.2
            },
            "type": "scatter"
           }
          ],
          "scatter3d": [
           {
            "line": {
             "colorbar": {
              "outlinewidth": 0,
              "ticks": ""
             }
            },
            "marker": {
             "colorbar": {
              "outlinewidth": 0,
              "ticks": ""
             }
            },
            "type": "scatter3d"
           }
          ],
          "scattercarpet": [
           {
            "marker": {
             "colorbar": {
              "outlinewidth": 0,
              "ticks": ""
             }
            },
            "type": "scattercarpet"
           }
          ],
          "scattergeo": [
           {
            "marker": {
             "colorbar": {
              "outlinewidth": 0,
              "ticks": ""
             }
            },
            "type": "scattergeo"
           }
          ],
          "scattergl": [
           {
            "marker": {
             "colorbar": {
              "outlinewidth": 0,
              "ticks": ""
             }
            },
            "type": "scattergl"
           }
          ],
          "scattermapbox": [
           {
            "marker": {
             "colorbar": {
              "outlinewidth": 0,
              "ticks": ""
             }
            },
            "type": "scattermapbox"
           }
          ],
          "scatterpolar": [
           {
            "marker": {
             "colorbar": {
              "outlinewidth": 0,
              "ticks": ""
             }
            },
            "type": "scatterpolar"
           }
          ],
          "scatterpolargl": [
           {
            "marker": {
             "colorbar": {
              "outlinewidth": 0,
              "ticks": ""
             }
            },
            "type": "scatterpolargl"
           }
          ],
          "scatterternary": [
           {
            "marker": {
             "colorbar": {
              "outlinewidth": 0,
              "ticks": ""
             }
            },
            "type": "scatterternary"
           }
          ],
          "surface": [
           {
            "colorbar": {
             "outlinewidth": 0,
             "ticks": ""
            },
            "colorscale": [
             [
              0,
              "#0d0887"
             ],
             [
              0.1111111111111111,
              "#46039f"
             ],
             [
              0.2222222222222222,
              "#7201a8"
             ],
             [
              0.3333333333333333,
              "#9c179e"
             ],
             [
              0.4444444444444444,
              "#bd3786"
             ],
             [
              0.5555555555555556,
              "#d8576b"
             ],
             [
              0.6666666666666666,
              "#ed7953"
             ],
             [
              0.7777777777777778,
              "#fb9f3a"
             ],
             [
              0.8888888888888888,
              "#fdca26"
             ],
             [
              1,
              "#f0f921"
             ]
            ],
            "type": "surface"
           }
          ],
          "table": [
           {
            "cells": {
             "fill": {
              "color": "#EBF0F8"
             },
             "line": {
              "color": "white"
             }
            },
            "header": {
             "fill": {
              "color": "#C8D4E3"
             },
             "line": {
              "color": "white"
             }
            },
            "type": "table"
           }
          ]
         },
         "layout": {
          "annotationdefaults": {
           "arrowcolor": "#2a3f5f",
           "arrowhead": 0,
           "arrowwidth": 1
          },
          "autotypenumbers": "strict",
          "coloraxis": {
           "colorbar": {
            "outlinewidth": 0,
            "ticks": ""
           }
          },
          "colorscale": {
           "diverging": [
            [
             0,
             "#8e0152"
            ],
            [
             0.1,
             "#c51b7d"
            ],
            [
             0.2,
             "#de77ae"
            ],
            [
             0.3,
             "#f1b6da"
            ],
            [
             0.4,
             "#fde0ef"
            ],
            [
             0.5,
             "#f7f7f7"
            ],
            [
             0.6,
             "#e6f5d0"
            ],
            [
             0.7,
             "#b8e186"
            ],
            [
             0.8,
             "#7fbc41"
            ],
            [
             0.9,
             "#4d9221"
            ],
            [
             1,
             "#276419"
            ]
           ],
           "sequential": [
            [
             0,
             "#0d0887"
            ],
            [
             0.1111111111111111,
             "#46039f"
            ],
            [
             0.2222222222222222,
             "#7201a8"
            ],
            [
             0.3333333333333333,
             "#9c179e"
            ],
            [
             0.4444444444444444,
             "#bd3786"
            ],
            [
             0.5555555555555556,
             "#d8576b"
            ],
            [
             0.6666666666666666,
             "#ed7953"
            ],
            [
             0.7777777777777778,
             "#fb9f3a"
            ],
            [
             0.8888888888888888,
             "#fdca26"
            ],
            [
             1,
             "#f0f921"
            ]
           ],
           "sequentialminus": [
            [
             0,
             "#0d0887"
            ],
            [
             0.1111111111111111,
             "#46039f"
            ],
            [
             0.2222222222222222,
             "#7201a8"
            ],
            [
             0.3333333333333333,
             "#9c179e"
            ],
            [
             0.4444444444444444,
             "#bd3786"
            ],
            [
             0.5555555555555556,
             "#d8576b"
            ],
            [
             0.6666666666666666,
             "#ed7953"
            ],
            [
             0.7777777777777778,
             "#fb9f3a"
            ],
            [
             0.8888888888888888,
             "#fdca26"
            ],
            [
             1,
             "#f0f921"
            ]
           ]
          },
          "colorway": [
           "#636efa",
           "#EF553B",
           "#00cc96",
           "#ab63fa",
           "#FFA15A",
           "#19d3f3",
           "#FF6692",
           "#B6E880",
           "#FF97FF",
           "#FECB52"
          ],
          "font": {
           "color": "#2a3f5f"
          },
          "geo": {
           "bgcolor": "white",
           "lakecolor": "white",
           "landcolor": "#E5ECF6",
           "showlakes": true,
           "showland": true,
           "subunitcolor": "white"
          },
          "hoverlabel": {
           "align": "left"
          },
          "hovermode": "closest",
          "mapbox": {
           "style": "light"
          },
          "paper_bgcolor": "white",
          "plot_bgcolor": "#E5ECF6",
          "polar": {
           "angularaxis": {
            "gridcolor": "white",
            "linecolor": "white",
            "ticks": ""
           },
           "bgcolor": "#E5ECF6",
           "radialaxis": {
            "gridcolor": "white",
            "linecolor": "white",
            "ticks": ""
           }
          },
          "scene": {
           "xaxis": {
            "backgroundcolor": "#E5ECF6",
            "gridcolor": "white",
            "gridwidth": 2,
            "linecolor": "white",
            "showbackground": true,
            "ticks": "",
            "zerolinecolor": "white"
           },
           "yaxis": {
            "backgroundcolor": "#E5ECF6",
            "gridcolor": "white",
            "gridwidth": 2,
            "linecolor": "white",
            "showbackground": true,
            "ticks": "",
            "zerolinecolor": "white"
           },
           "zaxis": {
            "backgroundcolor": "#E5ECF6",
            "gridcolor": "white",
            "gridwidth": 2,
            "linecolor": "white",
            "showbackground": true,
            "ticks": "",
            "zerolinecolor": "white"
           }
          },
          "shapedefaults": {
           "line": {
            "color": "#2a3f5f"
           }
          },
          "ternary": {
           "aaxis": {
            "gridcolor": "white",
            "linecolor": "white",
            "ticks": ""
           },
           "baxis": {
            "gridcolor": "white",
            "linecolor": "white",
            "ticks": ""
           },
           "bgcolor": "#E5ECF6",
           "caxis": {
            "gridcolor": "white",
            "linecolor": "white",
            "ticks": ""
           }
          },
          "title": {
           "x": 0.05
          },
          "xaxis": {
           "automargin": true,
           "gridcolor": "white",
           "linecolor": "white",
           "ticks": "",
           "title": {
            "standoff": 15
           },
           "zerolinecolor": "white",
           "zerolinewidth": 2
          },
          "yaxis": {
           "automargin": true,
           "gridcolor": "white",
           "linecolor": "white",
           "ticks": "",
           "title": {
            "standoff": 15
           },
           "zerolinecolor": "white",
           "zerolinewidth": 2
          }
         }
        },
        "title": {
         "text": "Top 20 Most Important Features for Spam Messages"
        },
        "xaxis": {
         "anchor": "y",
         "domain": [
          0,
          1
         ],
         "title": {
          "text": "x"
         }
        },
        "yaxis": {
         "anchor": "x",
         "domain": [
          0,
          1
         ],
         "title": {
          "text": "y"
         }
        }
       }
      }
     },
     "metadata": {},
     "output_type": "display_data"
    }
   ],
   "source": [
    "ham_feature_importance = feature_importance.iloc[0].sort_values(ascending=False)\n",
    "spam_feature_importance = feature_importance.iloc[1].sort_values(ascending=False)\n",
    "\n",
    "fig = px.bar(x=ham_feature_importance.index[:20], y=ham_feature_importance.values[:20], title='Top 20 Most Important Features for Ham Messages')\n",
    "fig.show()\n",
    "\n",
    "fig = px.bar(x=spam_feature_importance.index[:20], y=spam_feature_importance.values[:20], title='Top 20 Most Important Features for Spam Messages')\n",
    "fig.show()"
   ]
  },
  {
   "cell_type": "code",
   "execution_count": null,
   "metadata": {},
   "outputs": [],
   "source": []
  }
 ],
 "metadata": {
  "kernelspec": {
   "display_name": "Python 3 (ipykernel)",
   "language": "python",
   "name": "python3"
  },
  "language_info": {
   "codemirror_mode": {
    "name": "ipython",
    "version": 3
   },
   "file_extension": ".py",
   "mimetype": "text/x-python",
   "name": "python",
   "nbconvert_exporter": "python",
   "pygments_lexer": "ipython3",
   "version": "3.10.10"
  }
 },
 "nbformat": 4,
 "nbformat_minor": 4
}
